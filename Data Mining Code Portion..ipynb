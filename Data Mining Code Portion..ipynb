{
 "cells": [
  {
   "cell_type": "markdown",
   "metadata": {},
   "source": [
    "Import Libraries and read the CSV file"
   ]
  },
  {
   "cell_type": "code",
   "execution_count": 2,
   "metadata": {
    "scrolled": true
   },
   "outputs": [
    {
     "data": {
      "text/html": [
       "<div>\n",
       "<style scoped>\n",
       "    .dataframe tbody tr th:only-of-type {\n",
       "        vertical-align: middle;\n",
       "    }\n",
       "\n",
       "    .dataframe tbody tr th {\n",
       "        vertical-align: top;\n",
       "    }\n",
       "\n",
       "    .dataframe thead th {\n",
       "        text-align: right;\n",
       "    }\n",
       "</style>\n",
       "<table border=\"1\" class=\"dataframe\">\n",
       "  <thead>\n",
       "    <tr style=\"text-align: right;\">\n",
       "      <th></th>\n",
       "      <th>customerID</th>\n",
       "      <th>gender</th>\n",
       "      <th>SeniorCitizen</th>\n",
       "      <th>Partner</th>\n",
       "      <th>Dependents</th>\n",
       "      <th>tenure</th>\n",
       "      <th>PhoneService</th>\n",
       "      <th>MultipleLines</th>\n",
       "      <th>InternetService</th>\n",
       "      <th>OnlineSecurity</th>\n",
       "      <th>...</th>\n",
       "      <th>DeviceProtection</th>\n",
       "      <th>TechSupport</th>\n",
       "      <th>StreamingTV</th>\n",
       "      <th>StreamingMovies</th>\n",
       "      <th>Contract</th>\n",
       "      <th>PaperlessBilling</th>\n",
       "      <th>PaymentMethod</th>\n",
       "      <th>MonthlyCharges</th>\n",
       "      <th>TotalCharges</th>\n",
       "      <th>Churn</th>\n",
       "    </tr>\n",
       "  </thead>\n",
       "  <tbody>\n",
       "    <tr>\n",
       "      <th>0</th>\n",
       "      <td>7590-VHVEG</td>\n",
       "      <td>Female</td>\n",
       "      <td>0</td>\n",
       "      <td>Yes</td>\n",
       "      <td>No</td>\n",
       "      <td>1</td>\n",
       "      <td>No</td>\n",
       "      <td>No phone service</td>\n",
       "      <td>DSL</td>\n",
       "      <td>No</td>\n",
       "      <td>...</td>\n",
       "      <td>No</td>\n",
       "      <td>No</td>\n",
       "      <td>No</td>\n",
       "      <td>No</td>\n",
       "      <td>Month-to-month</td>\n",
       "      <td>Yes</td>\n",
       "      <td>Electronic check</td>\n",
       "      <td>29.85</td>\n",
       "      <td>29.85</td>\n",
       "      <td>No</td>\n",
       "    </tr>\n",
       "    <tr>\n",
       "      <th>1</th>\n",
       "      <td>5575-GNVDE</td>\n",
       "      <td>Male</td>\n",
       "      <td>0</td>\n",
       "      <td>No</td>\n",
       "      <td>No</td>\n",
       "      <td>34</td>\n",
       "      <td>Yes</td>\n",
       "      <td>No</td>\n",
       "      <td>DSL</td>\n",
       "      <td>Yes</td>\n",
       "      <td>...</td>\n",
       "      <td>Yes</td>\n",
       "      <td>No</td>\n",
       "      <td>No</td>\n",
       "      <td>No</td>\n",
       "      <td>One year</td>\n",
       "      <td>No</td>\n",
       "      <td>Mailed check</td>\n",
       "      <td>56.95</td>\n",
       "      <td>1889.5</td>\n",
       "      <td>No</td>\n",
       "    </tr>\n",
       "    <tr>\n",
       "      <th>2</th>\n",
       "      <td>3668-QPYBK</td>\n",
       "      <td>Male</td>\n",
       "      <td>0</td>\n",
       "      <td>No</td>\n",
       "      <td>No</td>\n",
       "      <td>2</td>\n",
       "      <td>Yes</td>\n",
       "      <td>No</td>\n",
       "      <td>DSL</td>\n",
       "      <td>Yes</td>\n",
       "      <td>...</td>\n",
       "      <td>No</td>\n",
       "      <td>No</td>\n",
       "      <td>No</td>\n",
       "      <td>No</td>\n",
       "      <td>Month-to-month</td>\n",
       "      <td>Yes</td>\n",
       "      <td>Mailed check</td>\n",
       "      <td>53.85</td>\n",
       "      <td>108.15</td>\n",
       "      <td>Yes</td>\n",
       "    </tr>\n",
       "    <tr>\n",
       "      <th>3</th>\n",
       "      <td>7795-CFOCW</td>\n",
       "      <td>Male</td>\n",
       "      <td>0</td>\n",
       "      <td>No</td>\n",
       "      <td>No</td>\n",
       "      <td>45</td>\n",
       "      <td>No</td>\n",
       "      <td>No phone service</td>\n",
       "      <td>DSL</td>\n",
       "      <td>Yes</td>\n",
       "      <td>...</td>\n",
       "      <td>Yes</td>\n",
       "      <td>Yes</td>\n",
       "      <td>No</td>\n",
       "      <td>No</td>\n",
       "      <td>One year</td>\n",
       "      <td>No</td>\n",
       "      <td>Bank transfer (automatic)</td>\n",
       "      <td>42.30</td>\n",
       "      <td>1840.75</td>\n",
       "      <td>No</td>\n",
       "    </tr>\n",
       "    <tr>\n",
       "      <th>4</th>\n",
       "      <td>9237-HQITU</td>\n",
       "      <td>Female</td>\n",
       "      <td>0</td>\n",
       "      <td>No</td>\n",
       "      <td>No</td>\n",
       "      <td>2</td>\n",
       "      <td>Yes</td>\n",
       "      <td>No</td>\n",
       "      <td>Fiber optic</td>\n",
       "      <td>No</td>\n",
       "      <td>...</td>\n",
       "      <td>No</td>\n",
       "      <td>No</td>\n",
       "      <td>No</td>\n",
       "      <td>No</td>\n",
       "      <td>Month-to-month</td>\n",
       "      <td>Yes</td>\n",
       "      <td>Electronic check</td>\n",
       "      <td>70.70</td>\n",
       "      <td>151.65</td>\n",
       "      <td>Yes</td>\n",
       "    </tr>\n",
       "  </tbody>\n",
       "</table>\n",
       "<p>5 rows × 21 columns</p>\n",
       "</div>"
      ],
      "text/plain": [
       "   customerID  gender  SeniorCitizen Partner Dependents  tenure PhoneService  \\\n",
       "0  7590-VHVEG  Female              0     Yes         No       1           No   \n",
       "1  5575-GNVDE    Male              0      No         No      34          Yes   \n",
       "2  3668-QPYBK    Male              0      No         No       2          Yes   \n",
       "3  7795-CFOCW    Male              0      No         No      45           No   \n",
       "4  9237-HQITU  Female              0      No         No       2          Yes   \n",
       "\n",
       "      MultipleLines InternetService OnlineSecurity  ...  DeviceProtection  \\\n",
       "0  No phone service             DSL             No  ...                No   \n",
       "1                No             DSL            Yes  ...               Yes   \n",
       "2                No             DSL            Yes  ...                No   \n",
       "3  No phone service             DSL            Yes  ...               Yes   \n",
       "4                No     Fiber optic             No  ...                No   \n",
       "\n",
       "  TechSupport StreamingTV StreamingMovies        Contract PaperlessBilling  \\\n",
       "0          No          No              No  Month-to-month              Yes   \n",
       "1          No          No              No        One year               No   \n",
       "2          No          No              No  Month-to-month              Yes   \n",
       "3         Yes          No              No        One year               No   \n",
       "4          No          No              No  Month-to-month              Yes   \n",
       "\n",
       "               PaymentMethod MonthlyCharges  TotalCharges Churn  \n",
       "0           Electronic check          29.85         29.85    No  \n",
       "1               Mailed check          56.95        1889.5    No  \n",
       "2               Mailed check          53.85        108.15   Yes  \n",
       "3  Bank transfer (automatic)          42.30       1840.75    No  \n",
       "4           Electronic check          70.70        151.65   Yes  \n",
       "\n",
       "[5 rows x 21 columns]"
      ]
     },
     "execution_count": 2,
     "metadata": {},
     "output_type": "execute_result"
    }
   ],
   "source": [
    "import pandas as pd\n",
    "import numpy as np\n",
    "import matplotlib.pyplot as plt\n",
    "import scipy\n",
    "import matplotlib\n",
    "import prince\n",
    "import seaborn as sns\n",
    "import csv\n",
    "\n",
    "sns.set()\n",
    "\n",
    "customer_data = pd.read_csv('customer_data.csv')\n",
    "customer_data.head()\n"
   ]
  },
  {
   "cell_type": "markdown",
   "metadata": {},
   "source": [
    "Look at the data to understand the fields."
   ]
  },
  {
   "cell_type": "code",
   "execution_count": 3,
   "metadata": {},
   "outputs": [
    {
     "name": "stdout",
     "output_type": "stream",
     "text": [
      "<class 'pandas.core.frame.DataFrame'>\n",
      "RangeIndex: 7043 entries, 0 to 7042\n",
      "Data columns (total 21 columns):\n",
      "customerID          7043 non-null object\n",
      "gender              7043 non-null object\n",
      "SeniorCitizen       7043 non-null int64\n",
      "Partner             7043 non-null object\n",
      "Dependents          7043 non-null object\n",
      "tenure              7043 non-null int64\n",
      "PhoneService        7043 non-null object\n",
      "MultipleLines       7043 non-null object\n",
      "InternetService     7043 non-null object\n",
      "OnlineSecurity      7043 non-null object\n",
      "OnlineBackup        7043 non-null object\n",
      "DeviceProtection    7043 non-null object\n",
      "TechSupport         7043 non-null object\n",
      "StreamingTV         7043 non-null object\n",
      "StreamingMovies     7043 non-null object\n",
      "Contract            7043 non-null object\n",
      "PaperlessBilling    7043 non-null object\n",
      "PaymentMethod       7043 non-null object\n",
      "MonthlyCharges      7043 non-null float64\n",
      "TotalCharges        7043 non-null object\n",
      "Churn               7043 non-null object\n",
      "dtypes: float64(1), int64(2), object(18)\n",
      "memory usage: 1.1+ MB\n"
     ]
    }
   ],
   "source": [
    "customer_data.info()"
   ]
  },
  {
   "cell_type": "markdown",
   "metadata": {},
   "source": [
    "Look at the data types in the data frame"
   ]
  },
  {
   "cell_type": "code",
   "execution_count": 4,
   "metadata": {},
   "outputs": [
    {
     "data": {
      "text/plain": [
       "<matplotlib.axes._subplots.AxesSubplot at 0x107d3c400>"
      ]
     },
     "execution_count": 4,
     "metadata": {},
     "output_type": "execute_result"
    },
    {
     "data": {
      "image/png": "[encoded data removed]",
      "text/plain": [
       "<Figure size 432x288 with 1 Axes>"
      ]
     },
     "metadata": {},
     "output_type": "display_data"
    }
   ],
   "source": [
    "internet_counts = customer_data.InternetService.value_counts()\n",
    "internet_counts.plot.bar()"
   ]
  },
  {
   "cell_type": "code",
   "execution_count": 5,
   "metadata": {},
   "outputs": [
    {
     "data": {
      "text/plain": [
       "<matplotlib.axes._subplots.AxesSubplot at 0x10db467b8>"
      ]
     },
     "execution_count": 5,
     "metadata": {},
     "output_type": "execute_result"
    },
    {
     "data": {
      "image/png": "[encoded data removed]",
      "text/plain": [
       "<Figure size 432x288 with 1 Axes>"
      ]
     },
     "metadata": {},
     "output_type": "display_data"
    }
   ],
   "source": [
    "gender_counts = customer_data.gender.value_counts()\n",
    "gender_counts.plot.bar()"
   ]
  },
  {
   "cell_type": "code",
   "execution_count": 6,
   "metadata": {},
   "outputs": [
    {
     "data": {
      "text/plain": [
       "<matplotlib.axes._subplots.AxesSubplot at 0x10e13aa20>"
      ]
     },
     "execution_count": 6,
     "metadata": {},
     "output_type": "execute_result"
    },
    {
     "data": {
      "image/png": "[encoded data removed]",
      "text/plain": [
       "<Figure size 432x288 with 1 Axes>"
      ]
     },
     "metadata": {},
     "output_type": "display_data"
    }
   ],
   "source": [
    "churn_counts = customer_data.Churn.value_counts()\n",
    "churn_counts.plot.bar()"
   ]
  },
  {
   "cell_type": "code",
   "execution_count": 7,
   "metadata": {},
   "outputs": [
    {
     "data": {
      "text/plain": [
       "<matplotlib.axes._subplots.AxesSubplot at 0x114dbd4e0>"
      ]
     },
     "execution_count": 7,
     "metadata": {},
     "output_type": "execute_result"
    },
    {
     "data": {
      "image/png": "[encoded data removed]",
      "text/plain": [
       "<Figure size 432x288 with 1 Axes>"
      ]
     },
     "metadata": {},
     "output_type": "display_data"
    }
   ],
   "source": [
    "senior_counts = customer_data.SeniorCitizen.value_counts()\n",
    "senior_counts.plot.bar()"
   ]
  },
  {
   "cell_type": "markdown",
   "metadata": {},
   "source": [
    "Where 1 = Yes and 2 = No"
   ]
  },
  {
   "cell_type": "code",
   "execution_count": 8,
   "metadata": {},
   "outputs": [
    {
     "data": {
      "text/plain": [
       "<matplotlib.axes._subplots.AxesSubplot at 0x114e84160>"
      ]
     },
     "execution_count": 8,
     "metadata": {},
     "output_type": "execute_result"
    },
    {
     "data": {
      "image/png": "[encoded data removed]",
      "text/plain": [
       "<Figure size 432x288 with 1 Axes>"
      ]
     },
     "metadata": {},
     "output_type": "display_data"
    }
   ],
   "source": [
    "partner_counts = customer_data.Partner.value_counts()\n",
    "partner_counts.plot.bar()"
   ]
  },
  {
   "cell_type": "code",
   "execution_count": 9,
   "metadata": {},
   "outputs": [
    {
     "data": {
      "text/plain": [
       "<matplotlib.axes._subplots.AxesSubplot at 0x114f486a0>"
      ]
     },
     "execution_count": 9,
     "metadata": {},
     "output_type": "execute_result"
    },
    {
     "data": {
      "image/png": "[encoded data removed]",
      "text/plain": [
       "<Figure size 432x288 with 1 Axes>"
      ]
     },
     "metadata": {},
     "output_type": "display_data"
    }
   ],
   "source": [
    "dependent_count = customer_data.Dependents.value_counts()\n",
    "dependent_count.plot.bar()"
   ]
  },
  {
   "cell_type": "code",
   "execution_count": 10,
   "metadata": {},
   "outputs": [
    {
     "data": {
      "text/plain": [
       "count    7043.000000\n",
       "mean       32.371149\n",
       "std        24.559481\n",
       "min         0.000000\n",
       "25%         9.000000\n",
       "50%        29.000000\n",
       "75%        55.000000\n",
       "max        72.000000\n",
       "Name: tenure, dtype: float64"
      ]
     },
     "execution_count": 10,
     "metadata": {},
     "output_type": "execute_result"
    }
   ],
   "source": [
    "customer_data.tenure.describe()"
   ]
  },
  {
   "cell_type": "markdown",
   "metadata": {},
   "source": [
    "Mean is 32, and Median is 29, which is not too far off and the Std. Deviation is 24.5 so it's understandable that we would have a max at 72, and a top 25% of 55."
   ]
  },
  {
   "cell_type": "code",
   "execution_count": 11,
   "metadata": {},
   "outputs": [
    {
     "data": {
      "text/plain": [
       "<matplotlib.axes._subplots.AxesSubplot at 0x114fff4e0>"
      ]
     },
     "execution_count": 11,
     "metadata": {},
     "output_type": "execute_result"
    },
    {
     "data": {
      "image/png": "[encoded data removed]",
      "text/plain": [
       "<Figure size 432x288 with 1 Axes>"
      ]
     },
     "metadata": {},
     "output_type": "display_data"
    }
   ],
   "source": [
    "customer_data.tenure.hist()"
   ]
  },
  {
   "cell_type": "code",
   "execution_count": 12,
   "metadata": {},
   "outputs": [
    {
     "data": {
      "text/plain": [
       "<matplotlib.axes._subplots.AxesSubplot at 0x11503c748>"
      ]
     },
     "execution_count": 12,
     "metadata": {},
     "output_type": "execute_result"
    },
    {
     "data": {
      "image/png": "[encoded data removed]",
      "text/plain": [
       "<Figure size 432x288 with 1 Axes>"
      ]
     },
     "metadata": {},
     "output_type": "display_data"
    }
   ],
   "source": [
    "sns.boxplot(customer_data.tenure, color='green', orient = 'v')"
   ]
  },
  {
   "cell_type": "code",
   "execution_count": 13,
   "metadata": {},
   "outputs": [
    {
     "data": {
      "text/plain": [
       "<matplotlib.axes._subplots.AxesSubplot at 0x114ff5630>"
      ]
     },
     "execution_count": 13,
     "metadata": {},
     "output_type": "execute_result"
    },
    {
     "data": {
      "image/png": "[encoded data removed]",
      "text/plain": [
       "<Figure size 432x288 with 1 Axes>"
      ]
     },
     "metadata": {},
     "output_type": "display_data"
    }
   ],
   "source": [
    "phone_count = customer_data.PhoneService.value_counts()\n",
    "phone_count.plot.bar()"
   ]
  },
  {
   "cell_type": "code",
   "execution_count": 14,
   "metadata": {},
   "outputs": [
    {
     "data": {
      "text/plain": [
       "<matplotlib.axes._subplots.AxesSubplot at 0x11524ae10>"
      ]
     },
     "execution_count": 14,
     "metadata": {},
     "output_type": "execute_result"
    },
    {
     "data": {
      "image/png": "[encoded data removed]",
      "text/plain": [
       "<Figure size 432x288 with 1 Axes>"
      ]
     },
     "metadata": {},
     "output_type": "display_data"
    }
   ],
   "source": [
    "multi_line_count = customer_data.MultipleLines.value_counts()\n",
    "multi_line_count.plot.bar()"
   ]
  },
  {
   "cell_type": "code",
   "execution_count": 15,
   "metadata": {},
   "outputs": [
    {
     "data": {
      "text/plain": [
       "<matplotlib.axes._subplots.AxesSubplot at 0x115301ef0>"
      ]
     },
     "execution_count": 15,
     "metadata": {},
     "output_type": "execute_result"
    },
    {
     "data": {
      "image/png": "[encoded data removed]",
      "text/plain": [
       "<Figure size 432x288 with 1 Axes>"
      ]
     },
     "metadata": {},
     "output_type": "display_data"
    }
   ],
   "source": [
    "ols_count = customer_data.OnlineSecurity.value_counts()\n",
    "ols_count.plot.bar()"
   ]
  },
  {
   "cell_type": "code",
   "execution_count": 16,
   "metadata": {},
   "outputs": [
    {
     "data": {
      "text/plain": [
       "<matplotlib.axes._subplots.AxesSubplot at 0x1150ca588>"
      ]
     },
     "execution_count": 16,
     "metadata": {},
     "output_type": "execute_result"
    },
    {
     "data": {
      "image/png": "[encoded data removed]",
      "text/plain": [
       "<Figure size 432x288 with 1 Axes>"
      ]
     },
     "metadata": {},
     "output_type": "display_data"
    }
   ],
   "source": [
    "olb_count = customer_data.OnlineBackup.value_counts()\n",
    "olb_count.plot.bar()"
   ]
  },
  {
   "cell_type": "code",
   "execution_count": 17,
   "metadata": {},
   "outputs": [
    {
     "data": {
      "text/plain": [
       "<matplotlib.axes._subplots.AxesSubplot at 0x1154b1e48>"
      ]
     },
     "execution_count": 17,
     "metadata": {},
     "output_type": "execute_result"
    },
    {
     "data": {
      "image/png": "[encoded data removed]",
      "text/plain": [
       "<Figure size 432x288 with 1 Axes>"
      ]
     },
     "metadata": {},
     "output_type": "display_data"
    }
   ],
   "source": [
    "device_protection_count = customer_data.DeviceProtection.value_counts()\n",
    "device_protection_count.plot.bar()"
   ]
  },
  {
   "cell_type": "code",
   "execution_count": 18,
   "metadata": {},
   "outputs": [
    {
     "data": {
      "text/plain": [
       "<matplotlib.axes._subplots.AxesSubplot at 0x115584c18>"
      ]
     },
     "execution_count": 18,
     "metadata": {},
     "output_type": "execute_result"
    },
    {
     "data": {
      "image/png": "[encoded data removed]",
      "text/plain": [
       "<Figure size 432x288 with 1 Axes>"
      ]
     },
     "metadata": {},
     "output_type": "display_data"
    }
   ],
   "source": [
    "ts_count = customer_data.TechSupport.value_counts()\n",
    "ts_count.plot.bar()"
   ]
  },
  {
   "cell_type": "code",
   "execution_count": 19,
   "metadata": {},
   "outputs": [
    {
     "data": {
      "text/plain": [
       "<matplotlib.axes._subplots.AxesSubplot at 0x11565a1d0>"
      ]
     },
     "execution_count": 19,
     "metadata": {},
     "output_type": "execute_result"
    },
    {
     "data": {
      "image/png": "[encoded data removed]",
      "text/plain": [
       "<Figure size 432x288 with 1 Axes>"
      ]
     },
     "metadata": {},
     "output_type": "display_data"
    }
   ],
   "source": [
    "streaming_tv_counts = customer_data.StreamingTV.value_counts()\n",
    "streaming_tv_counts.plot.bar()"
   ]
  },
  {
   "cell_type": "code",
   "execution_count": 20,
   "metadata": {},
   "outputs": [
    {
     "data": {
      "text/plain": [
       "<matplotlib.axes._subplots.AxesSubplot at 0x11572f0b8>"
      ]
     },
     "execution_count": 20,
     "metadata": {},
     "output_type": "execute_result"
    },
    {
     "data": {
      "image/png": "[encoded data removed]",
      "text/plain": [
       "<Figure size 432x288 with 1 Axes>"
      ]
     },
     "metadata": {},
     "output_type": "display_data"
    }
   ],
   "source": [
    "streaming_movie_counts = customer_data.StreamingMovies.value_counts()\n",
    "streaming_movie_counts.plot.bar()"
   ]
  },
  {
   "cell_type": "code",
   "execution_count": 21,
   "metadata": {},
   "outputs": [
    {
     "data": {
      "text/plain": [
       "<matplotlib.axes._subplots.AxesSubplot at 0x1157fde80>"
      ]
     },
     "execution_count": 21,
     "metadata": {},
     "output_type": "execute_result"
    },
    {
     "data": {
      "image/png": "[encoded data removed]",
      "text/plain": [
       "<Figure size 432x288 with 1 Axes>"
      ]
     },
     "metadata": {},
     "output_type": "display_data"
    }
   ],
   "source": [
    "contract_counts = customer_data.Contract.value_counts()\n",
    "contract_counts.plot.bar()"
   ]
  },
  {
   "cell_type": "code",
   "execution_count": 22,
   "metadata": {},
   "outputs": [
    {
     "data": {
      "text/plain": [
       "<matplotlib.axes._subplots.AxesSubplot at 0x11565ac50>"
      ]
     },
     "execution_count": 22,
     "metadata": {},
     "output_type": "execute_result"
    },
    {
     "data": {
      "image/png": "[encoded data removed]",
      "text/plain": [
       "<Figure size 432x288 with 1 Axes>"
      ]
     },
     "metadata": {},
     "output_type": "display_data"
    }
   ],
   "source": [
    "paperless_count = customer_data.PaperlessBilling.value_counts()\n",
    "paperless_count.plot.bar()"
   ]
  },
  {
   "cell_type": "code",
   "execution_count": 23,
   "metadata": {},
   "outputs": [
    {
     "data": {
      "text/plain": [
       "<matplotlib.axes._subplots.AxesSubplot at 0x1a1ac67ac8>"
      ]
     },
     "execution_count": 23,
     "metadata": {},
     "output_type": "execute_result"
    },
    {
     "data": {
      "image/png": "[encoded data removed]",
      "text/plain": [
       "<Figure size 432x288 with 1 Axes>"
      ]
     },
     "metadata": {},
     "output_type": "display_data"
    }
   ],
   "source": [
    "payment_method_counts = customer_data.PaymentMethod.value_counts()\n",
    "payment_method_counts.plot.bar()"
   ]
  },
  {
   "cell_type": "code",
   "execution_count": 24,
   "metadata": {},
   "outputs": [
    {
     "data": {
      "text/plain": [
       "<matplotlib.axes._subplots.AxesSubplot at 0x1157f10f0>"
      ]
     },
     "execution_count": 24,
     "metadata": {},
     "output_type": "execute_result"
    },
    {
     "data": {
      "image/png": "[encoded data removed]",
      "text/plain": [
       "<Figure size 432x288 with 1 Axes>"
      ]
     },
     "metadata": {},
     "output_type": "display_data"
    }
   ],
   "source": [
    "customer_data.MonthlyCharges.hist()"
   ]
  },
  {
   "cell_type": "code",
   "execution_count": 25,
   "metadata": {},
   "outputs": [
    {
     "data": {
      "text/plain": [
       "count    7043.000000\n",
       "mean       64.761692\n",
       "std        30.090047\n",
       "min        18.250000\n",
       "25%        35.500000\n",
       "50%        70.350000\n",
       "75%        89.850000\n",
       "max       118.750000\n",
       "Name: MonthlyCharges, dtype: float64"
      ]
     },
     "execution_count": 25,
     "metadata": {},
     "output_type": "execute_result"
    }
   ],
   "source": [
    "customer_data.MonthlyCharges.describe()"
   ]
  },
  {
   "cell_type": "markdown",
   "metadata": {},
   "source": [
    "Looks like the MEAN charges are \\$64.76 or approx. $65/month, but the median is closer to 70.The Standart Deviation accounts for the 25th and 75th quartiles, and the Max appears to be an outlier."
   ]
  },
  {
   "cell_type": "code",
   "execution_count": 26,
   "metadata": {},
   "outputs": [
    {
     "data": {
      "text/plain": [
       "0    20.05\n",
       "dtype: float64"
      ]
     },
     "execution_count": 26,
     "metadata": {},
     "output_type": "execute_result"
    }
   ],
   "source": [
    "customer_data.MonthlyCharges.mode()"
   ]
  },
  {
   "cell_type": "markdown",
   "metadata": {},
   "source": [
    "The most common amount is \\$20/month."
   ]
  },
  {
   "cell_type": "code",
   "execution_count": 27,
   "metadata": {},
   "outputs": [
    {
     "data": {
      "text/plain": [
       "0      29.85\n",
       "1    1889.50\n",
       "2     108.15\n",
       "3    1840.75\n",
       "4     151.65\n",
       "Name: TotalCharges, dtype: float64"
      ]
     },
     "execution_count": 27,
     "metadata": {},
     "output_type": "execute_result"
    }
   ],
   "source": [
    "customer_data.TotalCharges = customer_data.TotalCharges.map(lambda x: x if x != ' ' else 0)\n",
    "customer_data.TotalCharges = customer_data.TotalCharges.astype(float)\n",
    "customer_data.TotalCharges.head()"
   ]
  },
  {
   "cell_type": "code",
   "execution_count": 28,
   "metadata": {},
   "outputs": [
    {
     "data": {
      "text/plain": [
       "count    7043.000000\n",
       "mean     2279.734304\n",
       "std      2266.794470\n",
       "min         0.000000\n",
       "25%       398.550000\n",
       "50%      1394.550000\n",
       "75%      3786.600000\n",
       "max      8684.800000\n",
       "Name: TotalCharges, dtype: float64"
      ]
     },
     "execution_count": 28,
     "metadata": {},
     "output_type": "execute_result"
    }
   ],
   "source": [
    "customer_data.TotalCharges.describe()"
   ]
  },
  {
   "cell_type": "code",
   "execution_count": 29,
   "metadata": {},
   "outputs": [
    {
     "data": {
      "text/plain": [
       "<matplotlib.axes._subplots.AxesSubplot at 0x1a1ae326a0>"
      ]
     },
     "execution_count": 29,
     "metadata": {},
     "output_type": "execute_result"
    },
    {
     "data": {
      "image/png": "[encoded data removed]",
      "text/plain": [
       "<Figure size 432x288 with 1 Axes>"
      ]
     },
     "metadata": {},
     "output_type": "display_data"
    }
   ],
   "source": [
    "customer_data.TotalCharges.hist()"
   ]
  },
  {
   "cell_type": "code",
   "execution_count": 30,
   "metadata": {},
   "outputs": [
    {
     "name": "stdout",
     "output_type": "stream",
     "text": [
      "gender  Female  Male   All\n",
      "Churn                     \n",
      "No        2549  2625  5174\n",
      "Yes        939   930  1869\n",
      "All       3488  3555  7043\n",
      "SeniorCitizen     0     1   All\n",
      "Churn                          \n",
      "No             4508   666  5174\n",
      "Yes            1393   476  1869\n",
      "All            5901  1142  7043\n",
      "Partner    No   Yes   All\n",
      "Churn                    \n",
      "No       2441  2733  5174\n",
      "Yes      1200   669  1869\n",
      "All      3641  3402  7043\n",
      "Dependents    No   Yes   All\n",
      "Churn                       \n",
      "No          3390  1784  5174\n",
      "Yes         1543   326  1869\n",
      "All         4933  2110  7043\n",
      "PhoneService   No   Yes   All\n",
      "Churn                        \n",
      "No            512  4662  5174\n",
      "Yes           170  1699  1869\n",
      "All           682  6361  7043\n",
      "MultipleLines    No  No phone service   Yes   All\n",
      "Churn                                            \n",
      "No             2541               512  2121  5174\n",
      "Yes             849               170   850  1869\n",
      "All            3390               682  2971  7043\n",
      "InternetService   DSL  Fiber optic    No   All\n",
      "Churn                                         \n",
      "No               1962         1799  1413  5174\n",
      "Yes               459         1297   113  1869\n",
      "All              2421         3096  1526  7043\n",
      "OnlineSecurity    No  No internet service   Yes   All\n",
      "Churn                                                \n",
      "No              2037                 1413  1724  5174\n",
      "Yes             1461                  113   295  1869\n",
      "All             3498                 1526  2019  7043\n",
      "OnlineBackup    No  No internet service   Yes   All\n",
      "Churn                                              \n",
      "No            1855                 1413  1906  5174\n",
      "Yes           1233                  113   523  1869\n",
      "All           3088                 1526  2429  7043\n",
      "DeviceProtection    No  No internet service   Yes   All\n",
      "Churn                                                  \n",
      "No                1884                 1413  1877  5174\n",
      "Yes               1211                  113   545  1869\n",
      "All               3095                 1526  2422  7043\n",
      "TechSupport    No  No internet service   Yes   All\n",
      "Churn                                             \n",
      "No           2027                 1413  1734  5174\n",
      "Yes          1446                  113   310  1869\n",
      "All          3473                 1526  2044  7043\n",
      "StreamingTV    No  No internet service   Yes   All\n",
      "Churn                                             \n",
      "No           1868                 1413  1893  5174\n",
      "Yes           942                  113   814  1869\n",
      "All          2810                 1526  2707  7043\n",
      "StreamingMovies    No  No internet service   Yes   All\n",
      "Churn                                                 \n",
      "No               1847                 1413  1914  5174\n",
      "Yes               938                  113   818  1869\n",
      "All              2785                 1526  2732  7043\n",
      "Contract  Month-to-month  One year  Two year   All\n",
      "Churn                                             \n",
      "No                  2220      1307      1647  5174\n",
      "Yes                 1655       166        48  1869\n",
      "All                 3875      1473      1695  7043\n",
      "PaperlessBilling    No   Yes   All\n",
      "Churn                             \n",
      "No                2403  2771  5174\n",
      "Yes                469  1400  1869\n",
      "All               2872  4171  7043\n",
      "PaymentMethod  Bank transfer (automatic)  Credit card (automatic)  \\\n",
      "Churn                                                               \n",
      "No                                  1286                     1290   \n",
      "Yes                                  258                      232   \n",
      "All                                 1544                     1522   \n",
      "\n",
      "PaymentMethod  Electronic check  Mailed check   All  \n",
      "Churn                                                \n",
      "No                         1294          1304  5174  \n",
      "Yes                        1071           308  1869  \n",
      "All                        2365          1612  7043  \n"
     ]
    }
   ],
   "source": [
    "crosstabs = []\n",
    "for c in customer_data.columns:\n",
    "    if c != 'Churn' and c != 'customerID' and c != 'tenure' and c != 'MonthlyCharges' and c != 'TotalCharges':\n",
    "        crosstabs.append(pd.crosstab(customer_data.Churn, customer_data[c], margins=True))\n",
    "for c in crosstabs:\n",
    "    print(c)"
   ]
  },
  {
   "cell_type": "markdown",
   "metadata": {},
   "source": [
    "Now that we have our contingency tables, let's go through each of them to check if there's a group that is significantly churning more than the others."
   ]
  },
  {
   "cell_type": "code",
   "execution_count": 31,
   "metadata": {},
   "outputs": [
    {
     "data": {
      "text/html": [
       "<div>\n",
       "<style scoped>\n",
       "    .dataframe tbody tr th:only-of-type {\n",
       "        vertical-align: middle;\n",
       "    }\n",
       "\n",
       "    .dataframe tbody tr th {\n",
       "        vertical-align: top;\n",
       "    }\n",
       "\n",
       "    .dataframe thead th {\n",
       "        text-align: right;\n",
       "    }\n",
       "</style>\n",
       "<table border=\"1\" class=\"dataframe\">\n",
       "  <thead>\n",
       "    <tr style=\"text-align: right;\">\n",
       "      <th>gender</th>\n",
       "      <th>Female</th>\n",
       "      <th>Male</th>\n",
       "      <th>All</th>\n",
       "    </tr>\n",
       "    <tr>\n",
       "      <th>Churn</th>\n",
       "      <th></th>\n",
       "      <th></th>\n",
       "      <th></th>\n",
       "    </tr>\n",
       "  </thead>\n",
       "  <tbody>\n",
       "    <tr>\n",
       "      <th>No</th>\n",
       "      <td>2549</td>\n",
       "      <td>2625</td>\n",
       "      <td>5174</td>\n",
       "    </tr>\n",
       "    <tr>\n",
       "      <th>Yes</th>\n",
       "      <td>939</td>\n",
       "      <td>930</td>\n",
       "      <td>1869</td>\n",
       "    </tr>\n",
       "    <tr>\n",
       "      <th>All</th>\n",
       "      <td>3488</td>\n",
       "      <td>3555</td>\n",
       "      <td>7043</td>\n",
       "    </tr>\n",
       "  </tbody>\n",
       "</table>\n",
       "</div>"
      ],
      "text/plain": [
       "gender  Female  Male   All\n",
       "Churn                     \n",
       "No        2549  2625  5174\n",
       "Yes        939   930  1869\n",
       "All       3488  3555  7043"
      ]
     },
     "execution_count": 31,
     "metadata": {},
     "output_type": "execute_result"
    }
   ],
   "source": [
    "crosstabs[0]"
   ]
  },
  {
   "cell_type": "markdown",
   "metadata": {},
   "source": [
    "Looking at the Contingency Table, we can visually determine that the two populations of male and female are roughly equivalent, and the proportions to which they churn are also roughtly equivalent, but in the interest of being thourough, I will run the Chi Squared Test to determine if these are statistically significantly different."
   ]
  },
  {
   "cell_type": "code",
   "execution_count": 32,
   "metadata": {},
   "outputs": [
    {
     "name": "stdout",
     "output_type": "stream",
     "text": [
      "ChiSquare 0.522366503358827 P: 0.9712873885521255\n"
     ]
    }
   ],
   "source": [
    "chiSq, p, dof,expected = scipy.stats.chi2_contingency(crosstabs[0].values)\n",
    "print(f'ChiSquare {chiSq} P: {p}')"
   ]
  },
  {
   "cell_type": "markdown",
   "metadata": {},
   "source": [
    "As Mentioned, visually you can tell there is no statistical difference in the populations, and the ChiSquare value and P value confirms this."
   ]
  },
  {
   "cell_type": "code",
   "execution_count": 33,
   "metadata": {},
   "outputs": [
    {
     "data": {
      "text/plain": [
       "array([[2562.38989067, 2611.61010933, 5174.        ],\n",
       "       [ 925.61010933,  943.38989067, 1869.        ],\n",
       "       [3488.        , 3555.        , 7043.        ]])"
      ]
     },
     "execution_count": 33,
     "metadata": {},
     "output_type": "execute_result"
    }
   ],
   "source": [
    "expected"
   ]
  },
  {
   "cell_type": "markdown",
   "metadata": {},
   "source": [
    "Even in the context of the expected values, there appears to be nothing statistically interesting in this analysis."
   ]
  },
  {
   "cell_type": "code",
   "execution_count": 34,
   "metadata": {},
   "outputs": [
    {
     "data": {
      "text/html": [
       "<div>\n",
       "<style scoped>\n",
       "    .dataframe tbody tr th:only-of-type {\n",
       "        vertical-align: middle;\n",
       "    }\n",
       "\n",
       "    .dataframe tbody tr th {\n",
       "        vertical-align: top;\n",
       "    }\n",
       "\n",
       "    .dataframe thead th {\n",
       "        text-align: right;\n",
       "    }\n",
       "</style>\n",
       "<table border=\"1\" class=\"dataframe\">\n",
       "  <thead>\n",
       "    <tr style=\"text-align: right;\">\n",
       "      <th>SeniorCitizen</th>\n",
       "      <th>0</th>\n",
       "      <th>1</th>\n",
       "      <th>All</th>\n",
       "    </tr>\n",
       "    <tr>\n",
       "      <th>Churn</th>\n",
       "      <th></th>\n",
       "      <th></th>\n",
       "      <th></th>\n",
       "    </tr>\n",
       "  </thead>\n",
       "  <tbody>\n",
       "    <tr>\n",
       "      <th>No</th>\n",
       "      <td>4508</td>\n",
       "      <td>666</td>\n",
       "      <td>5174</td>\n",
       "    </tr>\n",
       "    <tr>\n",
       "      <th>Yes</th>\n",
       "      <td>1393</td>\n",
       "      <td>476</td>\n",
       "      <td>1869</td>\n",
       "    </tr>\n",
       "    <tr>\n",
       "      <th>All</th>\n",
       "      <td>5901</td>\n",
       "      <td>1142</td>\n",
       "      <td>7043</td>\n",
       "    </tr>\n",
       "  </tbody>\n",
       "</table>\n",
       "</div>"
      ],
      "text/plain": [
       "SeniorCitizen     0     1   All\n",
       "Churn                          \n",
       "No             4508   666  5174\n",
       "Yes            1393   476  1869\n",
       "All            5901  1142  7043"
      ]
     },
     "execution_count": 34,
     "metadata": {},
     "output_type": "execute_result"
    }
   ],
   "source": [
    "crosstabs[1]"
   ]
  },
  {
   "cell_type": "markdown",
   "metadata": {},
   "source": [
    "Visually we can tell that non seniors appear to be churning slower than seniors. Mainly because there are lower overall number of seniors"
   ]
  },
  {
   "cell_type": "code",
   "execution_count": 35,
   "metadata": {},
   "outputs": [
    {
     "name": "stdout",
     "output_type": "stream",
     "text": [
      "ChiSquare: 160.35213184520632, P: 1.2285843790939117e-33\n"
     ]
    }
   ],
   "source": [
    "chiSq, p, dof, expected = scipy.stats.chi2_contingency(crosstabs[1].values)\n",
    "print(f'ChiSquare: {chiSq}, P: {p}')"
   ]
  },
  {
   "cell_type": "markdown",
   "metadata": {},
   "source": [
    "We can tell that the results in our sample data is Significant, especially considering how miniscule the P Value is. We can state clearly that there are some irregular things happening with our Seniors."
   ]
  },
  {
   "cell_type": "code",
   "execution_count": 36,
   "metadata": {},
   "outputs": [
    {
     "data": {
      "text/plain": [
       "array([[4335.05239245,  838.94760755, 5174.        ],\n",
       "       [1565.94760755,  303.05239245, 1869.        ],\n",
       "       [5901.        , 1142.        , 7043.        ]])"
      ]
     },
     "execution_count": 36,
     "metadata": {},
     "output_type": "execute_result"
    }
   ],
   "source": [
    "expected"
   ]
  },
  {
   "cell_type": "markdown",
   "metadata": {},
   "source": [
    "This is reinforced by our expected table of values which states that by pure chance, we should be seeing less Seniors churning. (Almost 200 less in the dataset)"
   ]
  },
  {
   "cell_type": "code",
   "execution_count": 37,
   "metadata": {},
   "outputs": [
    {
     "data": {
      "text/html": [
       "<div>\n",
       "<style scoped>\n",
       "    .dataframe tbody tr th:only-of-type {\n",
       "        vertical-align: middle;\n",
       "    }\n",
       "\n",
       "    .dataframe tbody tr th {\n",
       "        vertical-align: top;\n",
       "    }\n",
       "\n",
       "    .dataframe thead th {\n",
       "        text-align: right;\n",
       "    }\n",
       "</style>\n",
       "<table border=\"1\" class=\"dataframe\">\n",
       "  <thead>\n",
       "    <tr style=\"text-align: right;\">\n",
       "      <th>Partner</th>\n",
       "      <th>No</th>\n",
       "      <th>Yes</th>\n",
       "      <th>All</th>\n",
       "    </tr>\n",
       "    <tr>\n",
       "      <th>Churn</th>\n",
       "      <th></th>\n",
       "      <th></th>\n",
       "      <th></th>\n",
       "    </tr>\n",
       "  </thead>\n",
       "  <tbody>\n",
       "    <tr>\n",
       "      <th>No</th>\n",
       "      <td>2441</td>\n",
       "      <td>2733</td>\n",
       "      <td>5174</td>\n",
       "    </tr>\n",
       "    <tr>\n",
       "      <th>Yes</th>\n",
       "      <td>1200</td>\n",
       "      <td>669</td>\n",
       "      <td>1869</td>\n",
       "    </tr>\n",
       "    <tr>\n",
       "      <th>All</th>\n",
       "      <td>3641</td>\n",
       "      <td>3402</td>\n",
       "      <td>7043</td>\n",
       "    </tr>\n",
       "  </tbody>\n",
       "</table>\n",
       "</div>"
      ],
      "text/plain": [
       "Partner    No   Yes   All\n",
       "Churn                    \n",
       "No       2441  2733  5174\n",
       "Yes      1200   669  1869\n",
       "All      3641  3402  7043"
      ]
     },
     "execution_count": 37,
     "metadata": {},
     "output_type": "execute_result"
    }
   ],
   "source": [
    "crosstabs[2]"
   ]
  },
  {
   "cell_type": "markdown",
   "metadata": {},
   "source": [
    "Visually we can see that Customers that are receiving partner deals for services are generally more loyal with only about 700 out of 3400 churning. When compared to Those that are not receiving partner deals are churning a full 1/3 of the time. "
   ]
  },
  {
   "cell_type": "code",
   "execution_count": 38,
   "metadata": {},
   "outputs": [
    {
     "name": "stdout",
     "output_type": "stream",
     "text": [
      "ChiSquare: 159.41452843242655, P: 1.9520350404613758e-33\n"
     ]
    }
   ],
   "source": [
    "chiSq, p, dof, expected = scipy.stats.chi2_contingency(crosstabs[2].values)\n",
    "print(f'ChiSquare: {chiSq}, P: {p}')"
   ]
  },
  {
   "cell_type": "markdown",
   "metadata": {},
   "source": [
    "Our Chi-Squared analysis confirms this with a P Value extremely close to Zero."
   ]
  },
  {
   "cell_type": "code",
   "execution_count": 39,
   "metadata": {},
   "outputs": [
    {
     "data": {
      "text/plain": [
       "array([[2674.78830044, 2499.21169956, 5174.        ],\n",
       "       [ 966.21169956,  902.78830044, 1869.        ],\n",
       "       [3641.        , 3402.        , 7043.        ]])"
      ]
     },
     "execution_count": 39,
     "metadata": {},
     "output_type": "execute_result"
    }
   ],
   "source": [
    "expected"
   ]
  },
  {
   "cell_type": "markdown",
   "metadata": {},
   "source": [
    "From the values of the expected table, we can clearly see that partner programs are extremely effective at retaining customers. (We can see an overperformance of around 300.)"
   ]
  },
  {
   "cell_type": "code",
   "execution_count": 40,
   "metadata": {},
   "outputs": [
    {
     "data": {
      "text/html": [
       "<div>\n",
       "<style scoped>\n",
       "    .dataframe tbody tr th:only-of-type {\n",
       "        vertical-align: middle;\n",
       "    }\n",
       "\n",
       "    .dataframe tbody tr th {\n",
       "        vertical-align: top;\n",
       "    }\n",
       "\n",
       "    .dataframe thead th {\n",
       "        text-align: right;\n",
       "    }\n",
       "</style>\n",
       "<table border=\"1\" class=\"dataframe\">\n",
       "  <thead>\n",
       "    <tr style=\"text-align: right;\">\n",
       "      <th>Dependents</th>\n",
       "      <th>No</th>\n",
       "      <th>Yes</th>\n",
       "      <th>All</th>\n",
       "    </tr>\n",
       "    <tr>\n",
       "      <th>Churn</th>\n",
       "      <th></th>\n",
       "      <th></th>\n",
       "      <th></th>\n",
       "    </tr>\n",
       "  </thead>\n",
       "  <tbody>\n",
       "    <tr>\n",
       "      <th>No</th>\n",
       "      <td>3390</td>\n",
       "      <td>1784</td>\n",
       "      <td>5174</td>\n",
       "    </tr>\n",
       "    <tr>\n",
       "      <th>Yes</th>\n",
       "      <td>1543</td>\n",
       "      <td>326</td>\n",
       "      <td>1869</td>\n",
       "    </tr>\n",
       "    <tr>\n",
       "      <th>All</th>\n",
       "      <td>4933</td>\n",
       "      <td>2110</td>\n",
       "      <td>7043</td>\n",
       "    </tr>\n",
       "  </tbody>\n",
       "</table>\n",
       "</div>"
      ],
      "text/plain": [
       "Dependents    No   Yes   All\n",
       "Churn                       \n",
       "No          3390  1784  5174\n",
       "Yes         1543   326  1869\n",
       "All         4933  2110  7043"
      ]
     },
     "execution_count": 40,
     "metadata": {},
     "output_type": "execute_result"
    }
   ],
   "source": [
    "crosstabs[3]"
   ]
  },
  {
   "cell_type": "markdown",
   "metadata": {},
   "source": [
    "The issue with this contingency table is that the overall numbers are a little unclear, so I will also provide a table with matching percentages."
   ]
  },
  {
   "cell_type": "code",
   "execution_count": 41,
   "metadata": {},
   "outputs": [
    {
     "data": {
      "text/html": [
       "<div>\n",
       "<style scoped>\n",
       "    .dataframe tbody tr th:only-of-type {\n",
       "        vertical-align: middle;\n",
       "    }\n",
       "\n",
       "    .dataframe tbody tr th {\n",
       "        vertical-align: top;\n",
       "    }\n",
       "\n",
       "    .dataframe thead th {\n",
       "        text-align: right;\n",
       "    }\n",
       "</style>\n",
       "<table border=\"1\" class=\"dataframe\">\n",
       "  <thead>\n",
       "    <tr style=\"text-align: right;\">\n",
       "      <th>Dependents</th>\n",
       "      <th>No</th>\n",
       "      <th>Yes</th>\n",
       "      <th>All</th>\n",
       "    </tr>\n",
       "    <tr>\n",
       "      <th>Churn</th>\n",
       "      <th></th>\n",
       "      <th></th>\n",
       "      <th></th>\n",
       "    </tr>\n",
       "  </thead>\n",
       "  <tbody>\n",
       "    <tr>\n",
       "      <th>No</th>\n",
       "      <td>0.481329</td>\n",
       "      <td>0.253301</td>\n",
       "      <td>0.73463</td>\n",
       "    </tr>\n",
       "    <tr>\n",
       "      <th>Yes</th>\n",
       "      <td>0.219083</td>\n",
       "      <td>0.046287</td>\n",
       "      <td>0.26537</td>\n",
       "    </tr>\n",
       "    <tr>\n",
       "      <th>All</th>\n",
       "      <td>0.700412</td>\n",
       "      <td>0.299588</td>\n",
       "      <td>1.00000</td>\n",
       "    </tr>\n",
       "  </tbody>\n",
       "</table>\n",
       "</div>"
      ],
      "text/plain": [
       "Dependents        No       Yes      All\n",
       "Churn                                  \n",
       "No          0.481329  0.253301  0.73463\n",
       "Yes         0.219083  0.046287  0.26537\n",
       "All         0.700412  0.299588  1.00000"
      ]
     },
     "execution_count": 41,
     "metadata": {},
     "output_type": "execute_result"
    }
   ],
   "source": [
    "pd.crosstab(customer_data.Churn, customer_data.Dependents,margins=True, normalize=True)"
   ]
  },
  {
   "cell_type": "markdown",
   "metadata": {},
   "source": [
    "Now we can see that only about 30% of customers actually have Dependents at all. Of those with dependents, 15% churn where as those without 30% are likely to churn. This makes sense as those with dependents are more likely to be less focused on phone service where someone without could potentially be always looking for a better deal."
   ]
  },
  {
   "cell_type": "code",
   "execution_count": 42,
   "metadata": {},
   "outputs": [
    {
     "name": "stdout",
     "output_type": "stream",
     "text": [
      "ChiSquare: 189.94033391334852, P: 5.4590465250260434e-40\n"
     ]
    }
   ],
   "source": [
    "chiSq, p, dof, expected = scipy.stats.chi2_contingency(crosstabs[3].values)\n",
    "print(f'ChiSquare: {chiSq}, P: {p}')"
   ]
  },
  {
   "cell_type": "markdown",
   "metadata": {},
   "source": [
    "Our P Value confirms that this isn't from chance that those with dependents don't churn as much as those that don't"
   ]
  },
  {
   "cell_type": "code",
   "execution_count": 43,
   "metadata": {},
   "outputs": [
    {
     "data": {
      "text/plain": [
       "array([[3623.93042737, 1550.06957263, 5174.        ],\n",
       "       [1309.06957263,  559.93042737, 1869.        ],\n",
       "       [4933.        , 2110.        , 7043.        ]])"
      ]
     },
     "execution_count": 43,
     "metadata": {},
     "output_type": "execute_result"
    }
   ],
   "source": [
    "expected"
   ]
  },
  {
   "cell_type": "markdown",
   "metadata": {},
   "source": [
    "Our expected values also illustrate that customers with dependents should be churning more, if it were governed by chance"
   ]
  },
  {
   "cell_type": "code",
   "execution_count": 44,
   "metadata": {},
   "outputs": [
    {
     "data": {
      "text/html": [
       "<div>\n",
       "<style scoped>\n",
       "    .dataframe tbody tr th:only-of-type {\n",
       "        vertical-align: middle;\n",
       "    }\n",
       "\n",
       "    .dataframe tbody tr th {\n",
       "        vertical-align: top;\n",
       "    }\n",
       "\n",
       "    .dataframe thead th {\n",
       "        text-align: right;\n",
       "    }\n",
       "</style>\n",
       "<table border=\"1\" class=\"dataframe\">\n",
       "  <thead>\n",
       "    <tr style=\"text-align: right;\">\n",
       "      <th>PhoneService</th>\n",
       "      <th>No</th>\n",
       "      <th>Yes</th>\n",
       "      <th>All</th>\n",
       "    </tr>\n",
       "    <tr>\n",
       "      <th>Churn</th>\n",
       "      <th></th>\n",
       "      <th></th>\n",
       "      <th></th>\n",
       "    </tr>\n",
       "  </thead>\n",
       "  <tbody>\n",
       "    <tr>\n",
       "      <th>No</th>\n",
       "      <td>512</td>\n",
       "      <td>4662</td>\n",
       "      <td>5174</td>\n",
       "    </tr>\n",
       "    <tr>\n",
       "      <th>Yes</th>\n",
       "      <td>170</td>\n",
       "      <td>1699</td>\n",
       "      <td>1869</td>\n",
       "    </tr>\n",
       "    <tr>\n",
       "      <th>All</th>\n",
       "      <td>682</td>\n",
       "      <td>6361</td>\n",
       "      <td>7043</td>\n",
       "    </tr>\n",
       "  </tbody>\n",
       "</table>\n",
       "</div>"
      ],
      "text/plain": [
       "PhoneService   No   Yes   All\n",
       "Churn                        \n",
       "No            512  4662  5174\n",
       "Yes           170  1699  1869\n",
       "All           682  6361  7043"
      ]
     },
     "execution_count": 44,
     "metadata": {},
     "output_type": "execute_result"
    }
   ],
   "source": [
    "crosstabs[4]"
   ]
  },
  {
   "cell_type": "markdown",
   "metadata": {},
   "source": [
    "Visually we can see that most customers have phone service, and a good third of users are churning there, while those without phone service are churning equally, or slightly less. Let's take a look at the ChiSquared analysis"
   ]
  },
  {
   "cell_type": "code",
   "execution_count": 45,
   "metadata": {},
   "outputs": [
    {
     "name": "stdout",
     "output_type": "stream",
     "text": [
      "ChiSquare: 1.0044084772333213, P: 0.9091267853074723\n"
     ]
    }
   ],
   "source": [
    "chiSq, p, dof, expected = scipy.stats.chi2_contingency(crosstabs[4].values)\n",
    "print(f'ChiSquare: {chiSq}, P: {p}')"
   ]
  },
  {
   "cell_type": "markdown",
   "metadata": {},
   "source": [
    "And the ChiSquared analysis shows that the differences between those that do and don't have phone services are not statistically significant."
   ]
  },
  {
   "cell_type": "code",
   "execution_count": 46,
   "metadata": {},
   "outputs": [
    {
     "data": {
      "text/html": [
       "<div>\n",
       "<style scoped>\n",
       "    .dataframe tbody tr th:only-of-type {\n",
       "        vertical-align: middle;\n",
       "    }\n",
       "\n",
       "    .dataframe tbody tr th {\n",
       "        vertical-align: top;\n",
       "    }\n",
       "\n",
       "    .dataframe thead th {\n",
       "        text-align: right;\n",
       "    }\n",
       "</style>\n",
       "<table border=\"1\" class=\"dataframe\">\n",
       "  <thead>\n",
       "    <tr style=\"text-align: right;\">\n",
       "      <th>MultipleLines</th>\n",
       "      <th>No</th>\n",
       "      <th>No phone service</th>\n",
       "      <th>Yes</th>\n",
       "      <th>All</th>\n",
       "    </tr>\n",
       "    <tr>\n",
       "      <th>Churn</th>\n",
       "      <th></th>\n",
       "      <th></th>\n",
       "      <th></th>\n",
       "      <th></th>\n",
       "    </tr>\n",
       "  </thead>\n",
       "  <tbody>\n",
       "    <tr>\n",
       "      <th>No</th>\n",
       "      <td>2541</td>\n",
       "      <td>512</td>\n",
       "      <td>2121</td>\n",
       "      <td>5174</td>\n",
       "    </tr>\n",
       "    <tr>\n",
       "      <th>Yes</th>\n",
       "      <td>849</td>\n",
       "      <td>170</td>\n",
       "      <td>850</td>\n",
       "      <td>1869</td>\n",
       "    </tr>\n",
       "    <tr>\n",
       "      <th>All</th>\n",
       "      <td>3390</td>\n",
       "      <td>682</td>\n",
       "      <td>2971</td>\n",
       "      <td>7043</td>\n",
       "    </tr>\n",
       "  </tbody>\n",
       "</table>\n",
       "</div>"
      ],
      "text/plain": [
       "MultipleLines    No  No phone service   Yes   All\n",
       "Churn                                            \n",
       "No             2541               512  2121  5174\n",
       "Yes             849               170   850  1869\n",
       "All            3390               682  2971  7043"
      ]
     },
     "execution_count": 46,
     "metadata": {},
     "output_type": "execute_result"
    }
   ],
   "source": [
    "crosstabs[5]"
   ]
  },
  {
   "cell_type": "markdown",
   "metadata": {},
   "source": [
    "Since those with multiple lines are a subclass of those with phone service, let's re-evaluate our crosstable without the \"No Phone Service\" Category."
   ]
  },
  {
   "cell_type": "code",
   "execution_count": 47,
   "metadata": {},
   "outputs": [
    {
     "data": {
      "text/html": [
       "<div>\n",
       "<style scoped>\n",
       "    .dataframe tbody tr th:only-of-type {\n",
       "        vertical-align: middle;\n",
       "    }\n",
       "\n",
       "    .dataframe tbody tr th {\n",
       "        vertical-align: top;\n",
       "    }\n",
       "\n",
       "    .dataframe thead th {\n",
       "        text-align: right;\n",
       "    }\n",
       "</style>\n",
       "<table border=\"1\" class=\"dataframe\">\n",
       "  <thead>\n",
       "    <tr style=\"text-align: right;\">\n",
       "      <th>MultipleLines</th>\n",
       "      <th>No</th>\n",
       "      <th>Yes</th>\n",
       "      <th>All</th>\n",
       "    </tr>\n",
       "    <tr>\n",
       "      <th>Churn</th>\n",
       "      <th></th>\n",
       "      <th></th>\n",
       "      <th></th>\n",
       "    </tr>\n",
       "  </thead>\n",
       "  <tbody>\n",
       "    <tr>\n",
       "      <th>No</th>\n",
       "      <td>2541</td>\n",
       "      <td>2121</td>\n",
       "      <td>4662</td>\n",
       "    </tr>\n",
       "    <tr>\n",
       "      <th>Yes</th>\n",
       "      <td>849</td>\n",
       "      <td>850</td>\n",
       "      <td>1699</td>\n",
       "    </tr>\n",
       "    <tr>\n",
       "      <th>All</th>\n",
       "      <td>3390</td>\n",
       "      <td>2971</td>\n",
       "      <td>6361</td>\n",
       "    </tr>\n",
       "  </tbody>\n",
       "</table>\n",
       "</div>"
      ],
      "text/plain": [
       "MultipleLines    No   Yes   All\n",
       "Churn                          \n",
       "No             2541  2121  4662\n",
       "Yes             849   850  1699\n",
       "All            3390  2971  6361"
      ]
     },
     "execution_count": 47,
     "metadata": {},
     "output_type": "execute_result"
    }
   ],
   "source": [
    "multi_line = customer_data[customer_data.MultipleLines != 'No phone service']\n",
    "less_non_phone_users = pd.crosstab(multi_line.Churn, multi_line.MultipleLines, margins=True)\n",
    "less_non_phone_users"
   ]
  },
  {
   "cell_type": "markdown",
   "metadata": {},
   "source": [
    "Here we can see a little more clearly that of customers that have phone service, we have roughly the same rate of churn for roughly the same size of population. We appear to have a rougly even split among those that do and those that don't have multiple lines of service."
   ]
  },
  {
   "cell_type": "code",
   "execution_count": 48,
   "metadata": {},
   "outputs": [
    {
     "name": "stdout",
     "output_type": "stream",
     "text": [
      "ChiSquare: 10.283453792632583, P: 0.03591425668303589\n"
     ]
    }
   ],
   "source": [
    "chiSq, p, dof, expected = scipy.stats.chi2_contingency(less_non_phone_users)\n",
    "print(f'ChiSquare: {chiSq}, P: {p}')"
   ]
  },
  {
   "cell_type": "markdown",
   "metadata": {},
   "source": [
    "The statistic shows that we do have a significant difference from chance. Let's look at the expected values."
   ]
  },
  {
   "cell_type": "code",
   "execution_count": 49,
   "metadata": {},
   "outputs": [
    {
     "data": {
      "text/plain": [
       "array([[2484.5433108, 2177.4566892, 4662.       ],\n",
       "       [ 905.4566892,  793.5433108, 1699.       ],\n",
       "       [3390.       , 2971.       , 6361.       ]])"
      ]
     },
     "execution_count": 49,
     "metadata": {},
     "output_type": "execute_result"
    }
   ],
   "source": [
    "expected"
   ]
  },
  {
   "cell_type": "markdown",
   "metadata": {},
   "source": [
    "This shows us that our data isn't far all that far from the expected counts, but is still statistically significant."
   ]
  },
  {
   "cell_type": "code",
   "execution_count": 50,
   "metadata": {},
   "outputs": [
    {
     "data": {
      "text/html": [
       "<div>\n",
       "<style scoped>\n",
       "    .dataframe tbody tr th:only-of-type {\n",
       "        vertical-align: middle;\n",
       "    }\n",
       "\n",
       "    .dataframe tbody tr th {\n",
       "        vertical-align: top;\n",
       "    }\n",
       "\n",
       "    .dataframe thead th {\n",
       "        text-align: right;\n",
       "    }\n",
       "</style>\n",
       "<table border=\"1\" class=\"dataframe\">\n",
       "  <thead>\n",
       "    <tr style=\"text-align: right;\">\n",
       "      <th>InternetService</th>\n",
       "      <th>DSL</th>\n",
       "      <th>Fiber optic</th>\n",
       "      <th>No</th>\n",
       "      <th>All</th>\n",
       "    </tr>\n",
       "    <tr>\n",
       "      <th>Churn</th>\n",
       "      <th></th>\n",
       "      <th></th>\n",
       "      <th></th>\n",
       "      <th></th>\n",
       "    </tr>\n",
       "  </thead>\n",
       "  <tbody>\n",
       "    <tr>\n",
       "      <th>No</th>\n",
       "      <td>1962</td>\n",
       "      <td>1799</td>\n",
       "      <td>1413</td>\n",
       "      <td>5174</td>\n",
       "    </tr>\n",
       "    <tr>\n",
       "      <th>Yes</th>\n",
       "      <td>459</td>\n",
       "      <td>1297</td>\n",
       "      <td>113</td>\n",
       "      <td>1869</td>\n",
       "    </tr>\n",
       "    <tr>\n",
       "      <th>All</th>\n",
       "      <td>2421</td>\n",
       "      <td>3096</td>\n",
       "      <td>1526</td>\n",
       "      <td>7043</td>\n",
       "    </tr>\n",
       "  </tbody>\n",
       "</table>\n",
       "</div>"
      ],
      "text/plain": [
       "InternetService   DSL  Fiber optic    No   All\n",
       "Churn                                         \n",
       "No               1962         1799  1413  5174\n",
       "Yes               459         1297   113  1869\n",
       "All              2421         3096  1526  7043"
      ]
     },
     "execution_count": 50,
     "metadata": {},
     "output_type": "execute_result"
    }
   ],
   "source": [
    "crosstabs[6]"
   ]
  },
  {
   "cell_type": "markdown",
   "metadata": {},
   "source": [
    "This is a little unclear as there is the mixture of classes against the simple binary of Yes a customer has internet, and no the customer does not. Let's see if we can merge the columns DSL and FiberOptic.Let's get our original data and copy it."
   ]
  },
  {
   "cell_type": "code",
   "execution_count": 51,
   "metadata": {},
   "outputs": [
    {
     "data": {
      "text/html": [
       "<div>\n",
       "<style scoped>\n",
       "    .dataframe tbody tr th:only-of-type {\n",
       "        vertical-align: middle;\n",
       "    }\n",
       "\n",
       "    .dataframe tbody tr th {\n",
       "        vertical-align: top;\n",
       "    }\n",
       "\n",
       "    .dataframe thead th {\n",
       "        text-align: right;\n",
       "    }\n",
       "</style>\n",
       "<table border=\"1\" class=\"dataframe\">\n",
       "  <thead>\n",
       "    <tr style=\"text-align: right;\">\n",
       "      <th>InternetServiceYN</th>\n",
       "      <th>No</th>\n",
       "      <th>Yes</th>\n",
       "      <th>All</th>\n",
       "    </tr>\n",
       "    <tr>\n",
       "      <th>Churn</th>\n",
       "      <th></th>\n",
       "      <th></th>\n",
       "      <th></th>\n",
       "    </tr>\n",
       "  </thead>\n",
       "  <tbody>\n",
       "    <tr>\n",
       "      <th>No</th>\n",
       "      <td>1413</td>\n",
       "      <td>3761</td>\n",
       "      <td>5174</td>\n",
       "    </tr>\n",
       "    <tr>\n",
       "      <th>Yes</th>\n",
       "      <td>113</td>\n",
       "      <td>1756</td>\n",
       "      <td>1869</td>\n",
       "    </tr>\n",
       "    <tr>\n",
       "      <th>All</th>\n",
       "      <td>1526</td>\n",
       "      <td>5517</td>\n",
       "      <td>7043</td>\n",
       "    </tr>\n",
       "  </tbody>\n",
       "</table>\n",
       "</div>"
      ],
      "text/plain": [
       "InternetServiceYN    No   Yes   All\n",
       "Churn                              \n",
       "No                 1413  3761  5174\n",
       "Yes                 113  1756  1869\n",
       "All                1526  5517  7043"
      ]
     },
     "execution_count": 51,
     "metadata": {},
     "output_type": "execute_result"
    }
   ],
   "source": [
    "internet_data = customer_data\n",
    "internet_data['InternetServiceYN'] = internet_data.InternetService.map({'DSL':'Yes', 'Fiber optic': 'Yes', 'No': 'No'})\n",
    "internet_tab = pd.crosstab(internet_data.Churn,internet_data['InternetServiceYN'], margins=True )\n",
    "internet_tab"
   ]
  },
  {
   "cell_type": "markdown",
   "metadata": {},
   "source": [
    "From the looks of it, we have a large portion of Internet subscribers with about a third of them churning, and non-internet customers that appear to be churning a lot less."
   ]
  },
  {
   "cell_type": "code",
   "execution_count": 52,
   "metadata": {},
   "outputs": [
    {
     "data": {
      "text/html": [
       "<div>\n",
       "<style scoped>\n",
       "    .dataframe tbody tr th:only-of-type {\n",
       "        vertical-align: middle;\n",
       "    }\n",
       "\n",
       "    .dataframe tbody tr th {\n",
       "        vertical-align: top;\n",
       "    }\n",
       "\n",
       "    .dataframe thead th {\n",
       "        text-align: right;\n",
       "    }\n",
       "</style>\n",
       "<table border=\"1\" class=\"dataframe\">\n",
       "  <thead>\n",
       "    <tr style=\"text-align: right;\">\n",
       "      <th>InternetServiceYN</th>\n",
       "      <th>No</th>\n",
       "      <th>Yes</th>\n",
       "      <th>All</th>\n",
       "    </tr>\n",
       "    <tr>\n",
       "      <th>Churn</th>\n",
       "      <th></th>\n",
       "      <th></th>\n",
       "      <th></th>\n",
       "    </tr>\n",
       "  </thead>\n",
       "  <tbody>\n",
       "    <tr>\n",
       "      <th>No</th>\n",
       "      <td>0.200625</td>\n",
       "      <td>0.534005</td>\n",
       "      <td>0.73463</td>\n",
       "    </tr>\n",
       "    <tr>\n",
       "      <th>Yes</th>\n",
       "      <td>0.016044</td>\n",
       "      <td>0.249326</td>\n",
       "      <td>0.26537</td>\n",
       "    </tr>\n",
       "    <tr>\n",
       "      <th>All</th>\n",
       "      <td>0.216669</td>\n",
       "      <td>0.783331</td>\n",
       "      <td>1.00000</td>\n",
       "    </tr>\n",
       "  </tbody>\n",
       "</table>\n",
       "</div>"
      ],
      "text/plain": [
       "InternetServiceYN        No       Yes      All\n",
       "Churn                                         \n",
       "No                 0.200625  0.534005  0.73463\n",
       "Yes                0.016044  0.249326  0.26537\n",
       "All                0.216669  0.783331  1.00000"
      ]
     },
     "execution_count": 52,
     "metadata": {},
     "output_type": "execute_result"
    }
   ],
   "source": [
    "pd.crosstab(internet_data.Churn, internet_data['InternetServiceYN'], margins=True, normalize=True)"
   ]
  },
  {
   "cell_type": "markdown",
   "metadata": {},
   "source": [
    "So, it appears that almost 80% of customers are internet users, and 26% of total users are churning with 24 of those 26% being Internet Users. This is by far our largest correlation so far."
   ]
  },
  {
   "cell_type": "code",
   "execution_count": 53,
   "metadata": {},
   "outputs": [
    {
     "name": "stdout",
     "output_type": "stream",
     "text": [
      "ChiSquare: 365.7715640851134, P: 6.890681737550473e-78\n"
     ]
    }
   ],
   "source": [
    "chiSq, p, dof, expected = scipy.stats.chi2_contingency(internet_tab.values)\n",
    "print(f'ChiSquare: {chiSq}, P: {p}')"
   ]
  },
  {
   "cell_type": "markdown",
   "metadata": {},
   "source": [
    "Our ChiSquared statistic and P Value also confirm this intuitive analysis. Let's drill in further to see if there is a specific type of Internet Customer that is churning faster."
   ]
  },
  {
   "cell_type": "code",
   "execution_count": 54,
   "metadata": {},
   "outputs": [
    {
     "data": {
      "text/html": [
       "<div>\n",
       "<style scoped>\n",
       "    .dataframe tbody tr th:only-of-type {\n",
       "        vertical-align: middle;\n",
       "    }\n",
       "\n",
       "    .dataframe tbody tr th {\n",
       "        vertical-align: top;\n",
       "    }\n",
       "\n",
       "    .dataframe thead th {\n",
       "        text-align: right;\n",
       "    }\n",
       "</style>\n",
       "<table border=\"1\" class=\"dataframe\">\n",
       "  <thead>\n",
       "    <tr style=\"text-align: right;\">\n",
       "      <th>InternetService</th>\n",
       "      <th>DSL</th>\n",
       "      <th>Fiber optic</th>\n",
       "      <th>All</th>\n",
       "    </tr>\n",
       "    <tr>\n",
       "      <th>Churn</th>\n",
       "      <th></th>\n",
       "      <th></th>\n",
       "      <th></th>\n",
       "    </tr>\n",
       "  </thead>\n",
       "  <tbody>\n",
       "    <tr>\n",
       "      <th>No</th>\n",
       "      <td>1962</td>\n",
       "      <td>1799</td>\n",
       "      <td>3761</td>\n",
       "    </tr>\n",
       "    <tr>\n",
       "      <th>Yes</th>\n",
       "      <td>459</td>\n",
       "      <td>1297</td>\n",
       "      <td>1756</td>\n",
       "    </tr>\n",
       "    <tr>\n",
       "      <th>All</th>\n",
       "      <td>2421</td>\n",
       "      <td>3096</td>\n",
       "      <td>5517</td>\n",
       "    </tr>\n",
       "  </tbody>\n",
       "</table>\n",
       "</div>"
      ],
      "text/plain": [
       "InternetService   DSL  Fiber optic   All\n",
       "Churn                                   \n",
       "No               1962         1799  3761\n",
       "Yes               459         1297  1756\n",
       "All              2421         3096  5517"
      ]
     },
     "execution_count": 54,
     "metadata": {},
     "output_type": "execute_result"
    }
   ],
   "source": [
    "all_internet = customer_data[customer_data.InternetService != 'No']\n",
    "all_internet_tab = pd.crosstab(all_internet.Churn, all_internet.InternetService, margins=True)\n",
    "all_internet_tab"
   ]
  },
  {
   "cell_type": "markdown",
   "metadata": {},
   "source": [
    "So, from this, it appears that The company's fiber subscribers are churning the most, with roughly half of the population churning. Let's see what our statistics have to say."
   ]
  },
  {
   "cell_type": "code",
   "execution_count": 55,
   "metadata": {},
   "outputs": [
    {
     "name": "stdout",
     "output_type": "stream",
     "text": [
      "ChiSquare: 329.31954599970544, P: 5.1095923936356084e-70\n"
     ]
    }
   ],
   "source": [
    "chiSq, p, dof, expected = scipy.stats.chi2_contingency(all_internet_tab.values)\n",
    "print(f'ChiSquare: {chiSq}, P: {p}')"
   ]
  },
  {
   "cell_type": "code",
   "execution_count": 56,
   "metadata": {},
   "outputs": [
    {
     "data": {
      "text/plain": [
       "array([[1650.42251223, 2110.57748777, 3761.        ],\n",
       "       [ 770.57748777,  985.42251223, 1756.        ],\n",
       "       [2421.        , 3096.        , 5517.        ]])"
      ]
     },
     "execution_count": 56,
     "metadata": {},
     "output_type": "execute_result"
    }
   ],
   "source": [
    "expected"
   ]
  },
  {
   "cell_type": "markdown",
   "metadata": {},
   "source": [
    "It is apparrent that the Fiber subscribers are leaving for better offers elsewhere. We will explore this more in depth later."
   ]
  },
  {
   "cell_type": "code",
   "execution_count": 57,
   "metadata": {},
   "outputs": [
    {
     "data": {
      "text/html": [
       "<div>\n",
       "<style scoped>\n",
       "    .dataframe tbody tr th:only-of-type {\n",
       "        vertical-align: middle;\n",
       "    }\n",
       "\n",
       "    .dataframe tbody tr th {\n",
       "        vertical-align: top;\n",
       "    }\n",
       "\n",
       "    .dataframe thead th {\n",
       "        text-align: right;\n",
       "    }\n",
       "</style>\n",
       "<table border=\"1\" class=\"dataframe\">\n",
       "  <thead>\n",
       "    <tr style=\"text-align: right;\">\n",
       "      <th>OnlineSecurity</th>\n",
       "      <th>No</th>\n",
       "      <th>No internet service</th>\n",
       "      <th>Yes</th>\n",
       "      <th>All</th>\n",
       "    </tr>\n",
       "    <tr>\n",
       "      <th>Churn</th>\n",
       "      <th></th>\n",
       "      <th></th>\n",
       "      <th></th>\n",
       "      <th></th>\n",
       "    </tr>\n",
       "  </thead>\n",
       "  <tbody>\n",
       "    <tr>\n",
       "      <th>No</th>\n",
       "      <td>2037</td>\n",
       "      <td>1413</td>\n",
       "      <td>1724</td>\n",
       "      <td>5174</td>\n",
       "    </tr>\n",
       "    <tr>\n",
       "      <th>Yes</th>\n",
       "      <td>1461</td>\n",
       "      <td>113</td>\n",
       "      <td>295</td>\n",
       "      <td>1869</td>\n",
       "    </tr>\n",
       "    <tr>\n",
       "      <th>All</th>\n",
       "      <td>3498</td>\n",
       "      <td>1526</td>\n",
       "      <td>2019</td>\n",
       "      <td>7043</td>\n",
       "    </tr>\n",
       "  </tbody>\n",
       "</table>\n",
       "</div>"
      ],
      "text/plain": [
       "OnlineSecurity    No  No internet service   Yes   All\n",
       "Churn                                                \n",
       "No              2037                 1413  1724  5174\n",
       "Yes             1461                  113   295  1869\n",
       "All             3498                 1526  2019  7043"
      ]
     },
     "execution_count": 57,
     "metadata": {},
     "output_type": "execute_result"
    }
   ],
   "source": [
    "crosstabs[7]"
   ]
  },
  {
   "cell_type": "code",
   "execution_count": 58,
   "metadata": {},
   "outputs": [
    {
     "name": "stdout",
     "output_type": "stream",
     "text": [
      "ChiSquare: 849.9989679615965, P: 2.414681411867842e-180\n"
     ]
    }
   ],
   "source": [
    "chiSq, p, dof, expected = scipy.stats.chi2_contingency(crosstabs[7].values)\n",
    "print(f'ChiSquare: {chiSq}, P: {p}')"
   ]
  },
  {
   "cell_type": "code",
   "execution_count": 60,
   "metadata": {},
   "outputs": [
    {
     "data": {
      "text/html": [
       "<div>\n",
       "<style scoped>\n",
       "    .dataframe tbody tr th:only-of-type {\n",
       "        vertical-align: middle;\n",
       "    }\n",
       "\n",
       "    .dataframe tbody tr th {\n",
       "        vertical-align: top;\n",
       "    }\n",
       "\n",
       "    .dataframe thead th {\n",
       "        text-align: right;\n",
       "    }\n",
       "</style>\n",
       "<table border=\"1\" class=\"dataframe\">\n",
       "  <thead>\n",
       "    <tr style=\"text-align: right;\">\n",
       "      <th>OnlineSecurity</th>\n",
       "      <th>No</th>\n",
       "      <th>Yes</th>\n",
       "      <th>All</th>\n",
       "    </tr>\n",
       "    <tr>\n",
       "      <th>Churn</th>\n",
       "      <th></th>\n",
       "      <th></th>\n",
       "      <th></th>\n",
       "    </tr>\n",
       "  </thead>\n",
       "  <tbody>\n",
       "    <tr>\n",
       "      <th>No</th>\n",
       "      <td>2037</td>\n",
       "      <td>1724</td>\n",
       "      <td>3761</td>\n",
       "    </tr>\n",
       "    <tr>\n",
       "      <th>Yes</th>\n",
       "      <td>1461</td>\n",
       "      <td>295</td>\n",
       "      <td>1756</td>\n",
       "    </tr>\n",
       "    <tr>\n",
       "      <th>All</th>\n",
       "      <td>3498</td>\n",
       "      <td>2019</td>\n",
       "      <td>5517</td>\n",
       "    </tr>\n",
       "  </tbody>\n",
       "</table>\n",
       "</div>"
      ],
      "text/plain": [
       "OnlineSecurity    No   Yes   All\n",
       "Churn                           \n",
       "No              2037  1724  3761\n",
       "Yes             1461   295  1756\n",
       "All             3498  2019  5517"
      ]
     },
     "execution_count": 60,
     "metadata": {},
     "output_type": "execute_result"
    }
   ],
   "source": [
    "ols_data = customer_data[customer_data.OnlineSecurity != 'No internet service']\n",
    "ols_tab = pd.crosstab(ols_data.Churn, ols_data.OnlineSecurity, margins=True)\n",
    "ols_tab"
   ]
  },
  {
   "cell_type": "markdown",
   "metadata": {},
   "source": [
    "Initial Analysis seems to suggest that those with Online Security should churn at a lower rate. Let's take a look at the statistics."
   ]
  },
  {
   "cell_type": "code",
   "execution_count": 61,
   "metadata": {},
   "outputs": [
    {
     "name": "stdout",
     "output_type": "stream",
     "text": [
      "ChiSquare: 435.0586778867463, P: 7.374255772533968e-93\n"
     ]
    }
   ],
   "source": [
    "chiSq, p, dof, expected = scipy.stats.chi2_contingency(ols_tab.values)\n",
    "print(f'ChiSquare: {chiSq}, P: {p}')"
   ]
  },
  {
   "cell_type": "markdown",
   "metadata": {},
   "source": [
    "and the statistics appear to back up this assumption. "
   ]
  },
  {
   "cell_type": "code",
   "execution_count": 62,
   "metadata": {},
   "outputs": [
    {
     "data": {
      "text/html": [
       "<div>\n",
       "<style scoped>\n",
       "    .dataframe tbody tr th:only-of-type {\n",
       "        vertical-align: middle;\n",
       "    }\n",
       "\n",
       "    .dataframe tbody tr th {\n",
       "        vertical-align: top;\n",
       "    }\n",
       "\n",
       "    .dataframe thead th {\n",
       "        text-align: right;\n",
       "    }\n",
       "</style>\n",
       "<table border=\"1\" class=\"dataframe\">\n",
       "  <thead>\n",
       "    <tr style=\"text-align: right;\">\n",
       "      <th>OnlineBackup</th>\n",
       "      <th>No</th>\n",
       "      <th>No internet service</th>\n",
       "      <th>Yes</th>\n",
       "      <th>All</th>\n",
       "    </tr>\n",
       "    <tr>\n",
       "      <th>Churn</th>\n",
       "      <th></th>\n",
       "      <th></th>\n",
       "      <th></th>\n",
       "      <th></th>\n",
       "    </tr>\n",
       "  </thead>\n",
       "  <tbody>\n",
       "    <tr>\n",
       "      <th>No</th>\n",
       "      <td>1855</td>\n",
       "      <td>1413</td>\n",
       "      <td>1906</td>\n",
       "      <td>5174</td>\n",
       "    </tr>\n",
       "    <tr>\n",
       "      <th>Yes</th>\n",
       "      <td>1233</td>\n",
       "      <td>113</td>\n",
       "      <td>523</td>\n",
       "      <td>1869</td>\n",
       "    </tr>\n",
       "    <tr>\n",
       "      <th>All</th>\n",
       "      <td>3088</td>\n",
       "      <td>1526</td>\n",
       "      <td>2429</td>\n",
       "      <td>7043</td>\n",
       "    </tr>\n",
       "  </tbody>\n",
       "</table>\n",
       "</div>"
      ],
      "text/plain": [
       "OnlineBackup    No  No internet service   Yes   All\n",
       "Churn                                              \n",
       "No            1855                 1413  1906  5174\n",
       "Yes           1233                  113   523  1869\n",
       "All           3088                 1526  2429  7043"
      ]
     },
     "execution_count": 62,
     "metadata": {},
     "output_type": "execute_result"
    }
   ],
   "source": [
    "crosstabs[8]"
   ]
  },
  {
   "cell_type": "code",
   "execution_count": 63,
   "metadata": {},
   "outputs": [
    {
     "name": "stdout",
     "output_type": "stream",
     "text": [
      "ChiSquare: 601.8127901134089, P: 9.47834366883598e-127\n"
     ]
    }
   ],
   "source": [
    "chiSq, p, dof, expected = scipy.stats.chi2_contingency(crosstabs[8].values)\n",
    "print(f'ChiSquare: {chiSq}, P: {p}')"
   ]
  },
  {
   "cell_type": "code",
   "execution_count": 64,
   "metadata": {},
   "outputs": [
    {
     "data": {
      "text/html": [
       "<div>\n",
       "<style scoped>\n",
       "    .dataframe tbody tr th:only-of-type {\n",
       "        vertical-align: middle;\n",
       "    }\n",
       "\n",
       "    .dataframe tbody tr th {\n",
       "        vertical-align: top;\n",
       "    }\n",
       "\n",
       "    .dataframe thead th {\n",
       "        text-align: right;\n",
       "    }\n",
       "</style>\n",
       "<table border=\"1\" class=\"dataframe\">\n",
       "  <thead>\n",
       "    <tr style=\"text-align: right;\">\n",
       "      <th>OnlineBackup</th>\n",
       "      <th>No</th>\n",
       "      <th>Yes</th>\n",
       "      <th>All</th>\n",
       "    </tr>\n",
       "    <tr>\n",
       "      <th>Churn</th>\n",
       "      <th></th>\n",
       "      <th></th>\n",
       "      <th></th>\n",
       "    </tr>\n",
       "  </thead>\n",
       "  <tbody>\n",
       "    <tr>\n",
       "      <th>No</th>\n",
       "      <td>1855</td>\n",
       "      <td>1906</td>\n",
       "      <td>3761</td>\n",
       "    </tr>\n",
       "    <tr>\n",
       "      <th>Yes</th>\n",
       "      <td>1233</td>\n",
       "      <td>523</td>\n",
       "      <td>1756</td>\n",
       "    </tr>\n",
       "    <tr>\n",
       "      <th>All</th>\n",
       "      <td>3088</td>\n",
       "      <td>2429</td>\n",
       "      <td>5517</td>\n",
       "    </tr>\n",
       "  </tbody>\n",
       "</table>\n",
       "</div>"
      ],
      "text/plain": [
       "OnlineBackup    No   Yes   All\n",
       "Churn                         \n",
       "No            1855  1906  3761\n",
       "Yes           1233   523  1756\n",
       "All           3088  2429  5517"
      ]
     },
     "execution_count": 64,
     "metadata": {},
     "output_type": "execute_result"
    }
   ],
   "source": [
    "olb_data = customer_data[customer_data.OnlineBackup != 'No internet service']\n",
    "olb_tab = pd.crosstab(olb_data.Churn, olb_data.OnlineBackup, margins=True)\n",
    "olb_tab"
   ]
  },
  {
   "cell_type": "markdown",
   "metadata": {},
   "source": [
    "We also seem to see that an internet user that doesn't have online backup is more likely to churn, and this is significant. Let's confirm with statistics."
   ]
  },
  {
   "cell_type": "code",
   "execution_count": 65,
   "metadata": {},
   "outputs": [
    {
     "name": "stdout",
     "output_type": "stream",
     "text": [
      "ChiSquare: 212.07346569099087, P: 9.514038193047232e-45\n"
     ]
    }
   ],
   "source": [
    "chiSq, p, dof, expected = scipy.stats.chi2_contingency(olb_tab.values)\n",
    "print(f'ChiSquare: {chiSq}, P: {p}')"
   ]
  },
  {
   "cell_type": "markdown",
   "metadata": {},
   "source": [
    "This is confirmed with the high Chi Squared Value and P Values."
   ]
  },
  {
   "cell_type": "code",
   "execution_count": 66,
   "metadata": {},
   "outputs": [
    {
     "data": {
      "text/html": [
       "<div>\n",
       "<style scoped>\n",
       "    .dataframe tbody tr th:only-of-type {\n",
       "        vertical-align: middle;\n",
       "    }\n",
       "\n",
       "    .dataframe tbody tr th {\n",
       "        vertical-align: top;\n",
       "    }\n",
       "\n",
       "    .dataframe thead th {\n",
       "        text-align: right;\n",
       "    }\n",
       "</style>\n",
       "<table border=\"1\" class=\"dataframe\">\n",
       "  <thead>\n",
       "    <tr style=\"text-align: right;\">\n",
       "      <th>DeviceProtection</th>\n",
       "      <th>No</th>\n",
       "      <th>No internet service</th>\n",
       "      <th>Yes</th>\n",
       "      <th>All</th>\n",
       "    </tr>\n",
       "    <tr>\n",
       "      <th>Churn</th>\n",
       "      <th></th>\n",
       "      <th></th>\n",
       "      <th></th>\n",
       "      <th></th>\n",
       "    </tr>\n",
       "  </thead>\n",
       "  <tbody>\n",
       "    <tr>\n",
       "      <th>No</th>\n",
       "      <td>1884</td>\n",
       "      <td>1413</td>\n",
       "      <td>1877</td>\n",
       "      <td>5174</td>\n",
       "    </tr>\n",
       "    <tr>\n",
       "      <th>Yes</th>\n",
       "      <td>1211</td>\n",
       "      <td>113</td>\n",
       "      <td>545</td>\n",
       "      <td>1869</td>\n",
       "    </tr>\n",
       "    <tr>\n",
       "      <th>All</th>\n",
       "      <td>3095</td>\n",
       "      <td>1526</td>\n",
       "      <td>2422</td>\n",
       "      <td>7043</td>\n",
       "    </tr>\n",
       "  </tbody>\n",
       "</table>\n",
       "</div>"
      ],
      "text/plain": [
       "DeviceProtection    No  No internet service   Yes   All\n",
       "Churn                                                  \n",
       "No                1884                 1413  1877  5174\n",
       "Yes               1211                  113   545  1869\n",
       "All               3095                 1526  2422  7043"
      ]
     },
     "execution_count": 66,
     "metadata": {},
     "output_type": "execute_result"
    }
   ],
   "source": [
    "crosstabs[9]"
   ]
  },
  {
   "cell_type": "code",
   "execution_count": 67,
   "metadata": {},
   "outputs": [
    {
     "name": "stdout",
     "output_type": "stream",
     "text": [
      "ChiSquare: 558.419369407389, P: 2.1613069878600708e-117\n"
     ]
    }
   ],
   "source": [
    "chiSq, p, dof, expected = scipy.stats.chi2_contingency(crosstabs[9].values)\n",
    "print(f'ChiSquare: {chiSq}, P: {p}')"
   ]
  },
  {
   "cell_type": "code",
   "execution_count": 68,
   "metadata": {},
   "outputs": [
    {
     "data": {
      "text/html": [
       "<div>\n",
       "<style scoped>\n",
       "    .dataframe tbody tr th:only-of-type {\n",
       "        vertical-align: middle;\n",
       "    }\n",
       "\n",
       "    .dataframe tbody tr th {\n",
       "        vertical-align: top;\n",
       "    }\n",
       "\n",
       "    .dataframe thead th {\n",
       "        text-align: right;\n",
       "    }\n",
       "</style>\n",
       "<table border=\"1\" class=\"dataframe\">\n",
       "  <thead>\n",
       "    <tr style=\"text-align: right;\">\n",
       "      <th>DeviceProtection</th>\n",
       "      <th>No</th>\n",
       "      <th>Yes</th>\n",
       "      <th>All</th>\n",
       "    </tr>\n",
       "    <tr>\n",
       "      <th>Churn</th>\n",
       "      <th></th>\n",
       "      <th></th>\n",
       "      <th></th>\n",
       "    </tr>\n",
       "  </thead>\n",
       "  <tbody>\n",
       "    <tr>\n",
       "      <th>No</th>\n",
       "      <td>1884</td>\n",
       "      <td>1877</td>\n",
       "      <td>3761</td>\n",
       "    </tr>\n",
       "    <tr>\n",
       "      <th>Yes</th>\n",
       "      <td>1211</td>\n",
       "      <td>545</td>\n",
       "      <td>1756</td>\n",
       "    </tr>\n",
       "    <tr>\n",
       "      <th>All</th>\n",
       "      <td>3095</td>\n",
       "      <td>2422</td>\n",
       "      <td>5517</td>\n",
       "    </tr>\n",
       "  </tbody>\n",
       "</table>\n",
       "</div>"
      ],
      "text/plain": [
       "DeviceProtection    No   Yes   All\n",
       "Churn                             \n",
       "No                1884  1877  3761\n",
       "Yes               1211   545  1756\n",
       "All               3095  2422  5517"
      ]
     },
     "execution_count": 68,
     "metadata": {},
     "output_type": "execute_result"
    }
   ],
   "source": [
    "dev_data = customer_data[customer_data.DeviceProtection != 'No internet service']\n",
    "dev_tab = pd.crosstab(dev_data.Churn, dev_data.DeviceProtection, margins=True)\n",
    "dev_tab"
   ]
  },
  {
   "cell_type": "markdown",
   "metadata": {},
   "source": [
    "It appears that there is also a correlation with Internet Subscribers who don't have Device Protection Churning more. "
   ]
  },
  {
   "cell_type": "code",
   "execution_count": 69,
   "metadata": {},
   "outputs": [
    {
     "name": "stdout",
     "output_type": "stream",
     "text": [
      "ChiSquare: 173.08623760309035, P: 2.2752183015579087e-36\n"
     ]
    }
   ],
   "source": [
    "chiSq, p, dof, expected = scipy.stats.chi2_contingency(dev_tab.values)\n",
    "print(f'ChiSquare: {chiSq}, P: {p}')"
   ]
  },
  {
   "cell_type": "markdown",
   "metadata": {},
   "source": [
    "This appears to be confirmed in the statistics as well."
   ]
  },
  {
   "cell_type": "code",
   "execution_count": 70,
   "metadata": {},
   "outputs": [
    {
     "data": {
      "text/html": [
       "<div>\n",
       "<style scoped>\n",
       "    .dataframe tbody tr th:only-of-type {\n",
       "        vertical-align: middle;\n",
       "    }\n",
       "\n",
       "    .dataframe tbody tr th {\n",
       "        vertical-align: top;\n",
       "    }\n",
       "\n",
       "    .dataframe thead th {\n",
       "        text-align: right;\n",
       "    }\n",
       "</style>\n",
       "<table border=\"1\" class=\"dataframe\">\n",
       "  <thead>\n",
       "    <tr style=\"text-align: right;\">\n",
       "      <th>TechSupport</th>\n",
       "      <th>No</th>\n",
       "      <th>No internet service</th>\n",
       "      <th>Yes</th>\n",
       "      <th>All</th>\n",
       "    </tr>\n",
       "    <tr>\n",
       "      <th>Churn</th>\n",
       "      <th></th>\n",
       "      <th></th>\n",
       "      <th></th>\n",
       "      <th></th>\n",
       "    </tr>\n",
       "  </thead>\n",
       "  <tbody>\n",
       "    <tr>\n",
       "      <th>No</th>\n",
       "      <td>2027</td>\n",
       "      <td>1413</td>\n",
       "      <td>1734</td>\n",
       "      <td>5174</td>\n",
       "    </tr>\n",
       "    <tr>\n",
       "      <th>Yes</th>\n",
       "      <td>1446</td>\n",
       "      <td>113</td>\n",
       "      <td>310</td>\n",
       "      <td>1869</td>\n",
       "    </tr>\n",
       "    <tr>\n",
       "      <th>All</th>\n",
       "      <td>3473</td>\n",
       "      <td>1526</td>\n",
       "      <td>2044</td>\n",
       "      <td>7043</td>\n",
       "    </tr>\n",
       "  </tbody>\n",
       "</table>\n",
       "</div>"
      ],
      "text/plain": [
       "TechSupport    No  No internet service   Yes   All\n",
       "Churn                                             \n",
       "No           2027                 1413  1734  5174\n",
       "Yes          1446                  113   310  1869\n",
       "All          3473                 1526  2044  7043"
      ]
     },
     "execution_count": 70,
     "metadata": {},
     "output_type": "execute_result"
    }
   ],
   "source": [
    "crosstabs[10]"
   ]
  },
  {
   "cell_type": "code",
   "execution_count": 71,
   "metadata": {},
   "outputs": [
    {
     "name": "stdout",
     "output_type": "stream",
     "text": [
      "ChiSquare: 828.1970684587393, P: 1.2432731207524936e-175\n"
     ]
    }
   ],
   "source": [
    "chiSq, p, dof, expected = scipy.stats.chi2_contingency(crosstabs[10].values)\n",
    "print(f'ChiSquare: {chiSq}, P: {p}')"
   ]
  },
  {
   "cell_type": "code",
   "execution_count": 72,
   "metadata": {},
   "outputs": [
    {
     "data": {
      "text/plain": [
       "array([[2551.37043873, 1121.04557717, 1501.5839841 , 5174.        ],\n",
       "       [ 921.62956127,  404.95442283,  542.4160159 , 1869.        ],\n",
       "       [3473.        , 1526.        , 2044.        , 7043.        ]])"
      ]
     },
     "execution_count": 72,
     "metadata": {},
     "output_type": "execute_result"
    }
   ],
   "source": [
    "expected"
   ]
  },
  {
   "cell_type": "code",
   "execution_count": 74,
   "metadata": {},
   "outputs": [
    {
     "data": {
      "text/html": [
       "<div>\n",
       "<style scoped>\n",
       "    .dataframe tbody tr th:only-of-type {\n",
       "        vertical-align: middle;\n",
       "    }\n",
       "\n",
       "    .dataframe tbody tr th {\n",
       "        vertical-align: top;\n",
       "    }\n",
       "\n",
       "    .dataframe thead th {\n",
       "        text-align: right;\n",
       "    }\n",
       "</style>\n",
       "<table border=\"1\" class=\"dataframe\">\n",
       "  <thead>\n",
       "    <tr style=\"text-align: right;\">\n",
       "      <th>TechSupport</th>\n",
       "      <th>No</th>\n",
       "      <th>Yes</th>\n",
       "      <th>All</th>\n",
       "    </tr>\n",
       "    <tr>\n",
       "      <th>Churn</th>\n",
       "      <th></th>\n",
       "      <th></th>\n",
       "      <th></th>\n",
       "    </tr>\n",
       "  </thead>\n",
       "  <tbody>\n",
       "    <tr>\n",
       "      <th>No</th>\n",
       "      <td>2027</td>\n",
       "      <td>1734</td>\n",
       "      <td>3761</td>\n",
       "    </tr>\n",
       "    <tr>\n",
       "      <th>Yes</th>\n",
       "      <td>1446</td>\n",
       "      <td>310</td>\n",
       "      <td>1756</td>\n",
       "    </tr>\n",
       "    <tr>\n",
       "      <th>All</th>\n",
       "      <td>3473</td>\n",
       "      <td>2044</td>\n",
       "      <td>5517</td>\n",
       "    </tr>\n",
       "  </tbody>\n",
       "</table>\n",
       "</div>"
      ],
      "text/plain": [
       "TechSupport    No   Yes   All\n",
       "Churn                        \n",
       "No           2027  1734  3761\n",
       "Yes          1446   310  1756\n",
       "All          3473  2044  5517"
      ]
     },
     "execution_count": 74,
     "metadata": {},
     "output_type": "execute_result"
    }
   ],
   "source": [
    "tech_data = customer_data[customer_data.TechSupport != 'No internet service']\n",
    "tech_tab = pd.crosstab(tech_data.Churn, tech_data.TechSupport, margins=True)\n",
    "tech_tab"
   ]
  },
  {
   "cell_type": "markdown",
   "metadata": {},
   "source": [
    "It's starting to look like our clients that take advantage of all the premium features feel more invested. Tech support is no exception to this. Let's confirm that with the statistics."
   ]
  },
  {
   "cell_type": "code",
   "execution_count": 75,
   "metadata": {},
   "outputs": [
    {
     "name": "stdout",
     "output_type": "stream",
     "text": [
      "ChiSquare: 415.4705556590498, P: 1.262731447133291e-88\n"
     ]
    }
   ],
   "source": [
    "chiSq, p, dof, expected = scipy.stats.chi2_contingency(tech_tab.values)\n",
    "print(f'ChiSquare: {chiSq}, P: {p}')"
   ]
  },
  {
   "cell_type": "markdown",
   "metadata": {},
   "source": [
    "We're once again confirmed in our assumptions that the data is not happening by chance."
   ]
  },
  {
   "cell_type": "code",
   "execution_count": 76,
   "metadata": {},
   "outputs": [
    {
     "data": {
      "text/html": [
       "<div>\n",
       "<style scoped>\n",
       "    .dataframe tbody tr th:only-of-type {\n",
       "        vertical-align: middle;\n",
       "    }\n",
       "\n",
       "    .dataframe tbody tr th {\n",
       "        vertical-align: top;\n",
       "    }\n",
       "\n",
       "    .dataframe thead th {\n",
       "        text-align: right;\n",
       "    }\n",
       "</style>\n",
       "<table border=\"1\" class=\"dataframe\">\n",
       "  <thead>\n",
       "    <tr style=\"text-align: right;\">\n",
       "      <th>StreamingTV</th>\n",
       "      <th>No</th>\n",
       "      <th>No internet service</th>\n",
       "      <th>Yes</th>\n",
       "      <th>All</th>\n",
       "    </tr>\n",
       "    <tr>\n",
       "      <th>Churn</th>\n",
       "      <th></th>\n",
       "      <th></th>\n",
       "      <th></th>\n",
       "      <th></th>\n",
       "    </tr>\n",
       "  </thead>\n",
       "  <tbody>\n",
       "    <tr>\n",
       "      <th>No</th>\n",
       "      <td>1868</td>\n",
       "      <td>1413</td>\n",
       "      <td>1893</td>\n",
       "      <td>5174</td>\n",
       "    </tr>\n",
       "    <tr>\n",
       "      <th>Yes</th>\n",
       "      <td>942</td>\n",
       "      <td>113</td>\n",
       "      <td>814</td>\n",
       "      <td>1869</td>\n",
       "    </tr>\n",
       "    <tr>\n",
       "      <th>All</th>\n",
       "      <td>2810</td>\n",
       "      <td>1526</td>\n",
       "      <td>2707</td>\n",
       "      <td>7043</td>\n",
       "    </tr>\n",
       "  </tbody>\n",
       "</table>\n",
       "</div>"
      ],
      "text/plain": [
       "StreamingTV    No  No internet service   Yes   All\n",
       "Churn                                             \n",
       "No           1868                 1413  1893  5174\n",
       "Yes           942                  113   814  1869\n",
       "All          2810                 1526  2707  7043"
      ]
     },
     "execution_count": 76,
     "metadata": {},
     "output_type": "execute_result"
    }
   ],
   "source": [
    "crosstabs[11]"
   ]
  },
  {
   "cell_type": "code",
   "execution_count": 78,
   "metadata": {},
   "outputs": [
    {
     "data": {
      "text/html": [
       "<div>\n",
       "<style scoped>\n",
       "    .dataframe tbody tr th:only-of-type {\n",
       "        vertical-align: middle;\n",
       "    }\n",
       "\n",
       "    .dataframe tbody tr th {\n",
       "        vertical-align: top;\n",
       "    }\n",
       "\n",
       "    .dataframe thead th {\n",
       "        text-align: right;\n",
       "    }\n",
       "</style>\n",
       "<table border=\"1\" class=\"dataframe\">\n",
       "  <thead>\n",
       "    <tr style=\"text-align: right;\">\n",
       "      <th>StreamingTV</th>\n",
       "      <th>No</th>\n",
       "      <th>Yes</th>\n",
       "      <th>All</th>\n",
       "    </tr>\n",
       "    <tr>\n",
       "      <th>Churn</th>\n",
       "      <th></th>\n",
       "      <th></th>\n",
       "      <th></th>\n",
       "    </tr>\n",
       "  </thead>\n",
       "  <tbody>\n",
       "    <tr>\n",
       "      <th>No</th>\n",
       "      <td>1868</td>\n",
       "      <td>1893</td>\n",
       "      <td>3761</td>\n",
       "    </tr>\n",
       "    <tr>\n",
       "      <th>Yes</th>\n",
       "      <td>942</td>\n",
       "      <td>814</td>\n",
       "      <td>1756</td>\n",
       "    </tr>\n",
       "    <tr>\n",
       "      <th>All</th>\n",
       "      <td>2810</td>\n",
       "      <td>2707</td>\n",
       "      <td>5517</td>\n",
       "    </tr>\n",
       "  </tbody>\n",
       "</table>\n",
       "</div>"
      ],
      "text/plain": [
       "StreamingTV    No   Yes   All\n",
       "Churn                        \n",
       "No           1868  1893  3761\n",
       "Yes           942   814  1756\n",
       "All          2810  2707  5517"
      ]
     },
     "execution_count": 78,
     "metadata": {},
     "output_type": "execute_result"
    }
   ],
   "source": [
    "tv_data = customer_data[customer_data.StreamingTV != 'No internet service']\n",
    "tv_tab = pd.crosstab(tv_data.Churn, tv_data.StreamingTV, margins=True)\n",
    "tv_tab"
   ]
  },
  {
   "cell_type": "markdown",
   "metadata": {},
   "source": [
    "It appears however, that customers are split on TV, and it has no effect on customer churn."
   ]
  },
  {
   "cell_type": "code",
   "execution_count": 79,
   "metadata": {},
   "outputs": [
    {
     "name": "stdout",
     "output_type": "stream",
     "text": [
      "ChiSquare: 7.576150643430983, P: 0.1083978739917602\n"
     ]
    }
   ],
   "source": [
    "chiSq, p, dof, expected = scipy.stats.chi2_contingency(tv_tab.values)\n",
    "print(f'ChiSquare: {chiSq}, P: {p}')"
   ]
  },
  {
   "cell_type": "markdown",
   "metadata": {},
   "source": [
    "and our statistics confirms this."
   ]
  },
  {
   "cell_type": "code",
   "execution_count": 80,
   "metadata": {},
   "outputs": [
    {
     "data": {
      "text/html": [
       "<div>\n",
       "<style scoped>\n",
       "    .dataframe tbody tr th:only-of-type {\n",
       "        vertical-align: middle;\n",
       "    }\n",
       "\n",
       "    .dataframe tbody tr th {\n",
       "        vertical-align: top;\n",
       "    }\n",
       "\n",
       "    .dataframe thead th {\n",
       "        text-align: right;\n",
       "    }\n",
       "</style>\n",
       "<table border=\"1\" class=\"dataframe\">\n",
       "  <thead>\n",
       "    <tr style=\"text-align: right;\">\n",
       "      <th>StreamingMovies</th>\n",
       "      <th>No</th>\n",
       "      <th>No internet service</th>\n",
       "      <th>Yes</th>\n",
       "      <th>All</th>\n",
       "    </tr>\n",
       "    <tr>\n",
       "      <th>Churn</th>\n",
       "      <th></th>\n",
       "      <th></th>\n",
       "      <th></th>\n",
       "      <th></th>\n",
       "    </tr>\n",
       "  </thead>\n",
       "  <tbody>\n",
       "    <tr>\n",
       "      <th>No</th>\n",
       "      <td>1847</td>\n",
       "      <td>1413</td>\n",
       "      <td>1914</td>\n",
       "      <td>5174</td>\n",
       "    </tr>\n",
       "    <tr>\n",
       "      <th>Yes</th>\n",
       "      <td>938</td>\n",
       "      <td>113</td>\n",
       "      <td>818</td>\n",
       "      <td>1869</td>\n",
       "    </tr>\n",
       "    <tr>\n",
       "      <th>All</th>\n",
       "      <td>2785</td>\n",
       "      <td>1526</td>\n",
       "      <td>2732</td>\n",
       "      <td>7043</td>\n",
       "    </tr>\n",
       "  </tbody>\n",
       "</table>\n",
       "</div>"
      ],
      "text/plain": [
       "StreamingMovies    No  No internet service   Yes   All\n",
       "Churn                                                 \n",
       "No               1847                 1413  1914  5174\n",
       "Yes               938                  113   818  1869\n",
       "All              2785                 1526  2732  7043"
      ]
     },
     "execution_count": 80,
     "metadata": {},
     "output_type": "execute_result"
    }
   ],
   "source": [
    "crosstabs[12]"
   ]
  },
  {
   "cell_type": "code",
   "execution_count": 81,
   "metadata": {},
   "outputs": [
    {
     "name": "stdout",
     "output_type": "stream",
     "text": [
      "ChiSquare: 375.66147934526555, P: 4.756349955118015e-78\n"
     ]
    }
   ],
   "source": [
    "chiSq, p, dof, expected = scipy.stats.chi2_contingency(crosstabs[12].values)\n",
    "print(f'ChiSquare: {chiSq}, P: {p}')"
   ]
  },
  {
   "cell_type": "code",
   "execution_count": 82,
   "metadata": {},
   "outputs": [
    {
     "data": {
      "text/html": [
       "<div>\n",
       "<style scoped>\n",
       "    .dataframe tbody tr th:only-of-type {\n",
       "        vertical-align: middle;\n",
       "    }\n",
       "\n",
       "    .dataframe tbody tr th {\n",
       "        vertical-align: top;\n",
       "    }\n",
       "\n",
       "    .dataframe thead th {\n",
       "        text-align: right;\n",
       "    }\n",
       "</style>\n",
       "<table border=\"1\" class=\"dataframe\">\n",
       "  <thead>\n",
       "    <tr style=\"text-align: right;\">\n",
       "      <th>StreamingMovies</th>\n",
       "      <th>No</th>\n",
       "      <th>Yes</th>\n",
       "      <th>All</th>\n",
       "    </tr>\n",
       "    <tr>\n",
       "      <th>Churn</th>\n",
       "      <th></th>\n",
       "      <th></th>\n",
       "      <th></th>\n",
       "    </tr>\n",
       "  </thead>\n",
       "  <tbody>\n",
       "    <tr>\n",
       "      <th>No</th>\n",
       "      <td>1847</td>\n",
       "      <td>1914</td>\n",
       "      <td>3761</td>\n",
       "    </tr>\n",
       "    <tr>\n",
       "      <th>Yes</th>\n",
       "      <td>938</td>\n",
       "      <td>818</td>\n",
       "      <td>1756</td>\n",
       "    </tr>\n",
       "    <tr>\n",
       "      <th>All</th>\n",
       "      <td>2785</td>\n",
       "      <td>2732</td>\n",
       "      <td>5517</td>\n",
       "    </tr>\n",
       "  </tbody>\n",
       "</table>\n",
       "</div>"
      ],
      "text/plain": [
       "StreamingMovies    No   Yes   All\n",
       "Churn                            \n",
       "No               1847  1914  3761\n",
       "Yes               938   818  1756\n",
       "All              2785  2732  5517"
      ]
     },
     "execution_count": 82,
     "metadata": {},
     "output_type": "execute_result"
    }
   ],
   "source": [
    "movie_data = customer_data[customer_data.StreamingMovies != 'No internet service']\n",
    "movie_tab = pd.crosstab(movie_data.Churn, movie_data.StreamingMovies, margins=True)\n",
    "movie_tab"
   ]
  },
  {
   "cell_type": "markdown",
   "metadata": {},
   "source": [
    "Streaming Movies appears to be none that important in the decision to churn."
   ]
  },
  {
   "cell_type": "code",
   "execution_count": 83,
   "metadata": {},
   "outputs": [
    {
     "name": "stdout",
     "output_type": "stream",
     "text": [
      "ChiSquare: 8.88568763983309, P: 0.0640211273902098\n"
     ]
    }
   ],
   "source": [
    "chiSq, p, dof, expected = scipy.stats.chi2_contingency(movie_tab.values)\n",
    "print(f'ChiSquare: {chiSq}, P: {p}')"
   ]
  },
  {
   "cell_type": "code",
   "execution_count": 84,
   "metadata": {},
   "outputs": [
    {
     "data": {
      "text/plain": [
       "array([[1898.56534348, 1862.43465652, 3761.        ],\n",
       "       [ 886.43465652,  869.56534348, 1756.        ],\n",
       "       [2785.        , 2732.        , 5517.        ]])"
      ]
     },
     "execution_count": 84,
     "metadata": {},
     "output_type": "execute_result"
    }
   ],
   "source": [
    "expected"
   ]
  },
  {
   "cell_type": "markdown",
   "metadata": {},
   "source": [
    "it's barely insignificant."
   ]
  },
  {
   "cell_type": "code",
   "execution_count": 85,
   "metadata": {},
   "outputs": [
    {
     "data": {
      "text/html": [
       "<div>\n",
       "<style scoped>\n",
       "    .dataframe tbody tr th:only-of-type {\n",
       "        vertical-align: middle;\n",
       "    }\n",
       "\n",
       "    .dataframe tbody tr th {\n",
       "        vertical-align: top;\n",
       "    }\n",
       "\n",
       "    .dataframe thead th {\n",
       "        text-align: right;\n",
       "    }\n",
       "</style>\n",
       "<table border=\"1\" class=\"dataframe\">\n",
       "  <thead>\n",
       "    <tr style=\"text-align: right;\">\n",
       "      <th>Contract</th>\n",
       "      <th>Month-to-month</th>\n",
       "      <th>One year</th>\n",
       "      <th>Two year</th>\n",
       "      <th>All</th>\n",
       "    </tr>\n",
       "    <tr>\n",
       "      <th>Churn</th>\n",
       "      <th></th>\n",
       "      <th></th>\n",
       "      <th></th>\n",
       "      <th></th>\n",
       "    </tr>\n",
       "  </thead>\n",
       "  <tbody>\n",
       "    <tr>\n",
       "      <th>No</th>\n",
       "      <td>2220</td>\n",
       "      <td>1307</td>\n",
       "      <td>1647</td>\n",
       "      <td>5174</td>\n",
       "    </tr>\n",
       "    <tr>\n",
       "      <th>Yes</th>\n",
       "      <td>1655</td>\n",
       "      <td>166</td>\n",
       "      <td>48</td>\n",
       "      <td>1869</td>\n",
       "    </tr>\n",
       "    <tr>\n",
       "      <th>All</th>\n",
       "      <td>3875</td>\n",
       "      <td>1473</td>\n",
       "      <td>1695</td>\n",
       "      <td>7043</td>\n",
       "    </tr>\n",
       "  </tbody>\n",
       "</table>\n",
       "</div>"
      ],
      "text/plain": [
       "Contract  Month-to-month  One year  Two year   All\n",
       "Churn                                             \n",
       "No                  2220      1307      1647  5174\n",
       "Yes                 1655       166        48  1869\n",
       "All                 3875      1473      1695  7043"
      ]
     },
     "execution_count": 85,
     "metadata": {},
     "output_type": "execute_result"
    }
   ],
   "source": [
    "crosstabs[13]"
   ]
  },
  {
   "cell_type": "code",
   "execution_count": 86,
   "metadata": {},
   "outputs": [
    {
     "name": "stdout",
     "output_type": "stream",
     "text": [
      "ChiSquare: 375.66147934526555, P: 4.756349955118015e-78\n"
     ]
    }
   ],
   "source": [
    "chiSq, p, dof, expected = scipy.stats.chi2_contingency(crosstabs[12].values)\n",
    "print(f'ChiSquare: {chiSq}, P: {p}')"
   ]
  },
  {
   "cell_type": "markdown",
   "metadata": {},
   "source": [
    "This is going to require us to split off the categories in order to determine which is statistically different."
   ]
  },
  {
   "cell_type": "code",
   "execution_count": 87,
   "metadata": {},
   "outputs": [
    {
     "data": {
      "text/html": [
       "<div>\n",
       "<style scoped>\n",
       "    .dataframe tbody tr th:only-of-type {\n",
       "        vertical-align: middle;\n",
       "    }\n",
       "\n",
       "    .dataframe tbody tr th {\n",
       "        vertical-align: top;\n",
       "    }\n",
       "\n",
       "    .dataframe thead th {\n",
       "        text-align: right;\n",
       "    }\n",
       "</style>\n",
       "<table border=\"1\" class=\"dataframe\">\n",
       "  <thead>\n",
       "    <tr style=\"text-align: right;\">\n",
       "      <th>Contract</th>\n",
       "      <th>Month-to-month</th>\n",
       "      <th>One year</th>\n",
       "      <th>All</th>\n",
       "    </tr>\n",
       "    <tr>\n",
       "      <th>Churn</th>\n",
       "      <th></th>\n",
       "      <th></th>\n",
       "      <th></th>\n",
       "    </tr>\n",
       "  </thead>\n",
       "  <tbody>\n",
       "    <tr>\n",
       "      <th>No</th>\n",
       "      <td>2220</td>\n",
       "      <td>1307</td>\n",
       "      <td>3527</td>\n",
       "    </tr>\n",
       "    <tr>\n",
       "      <th>Yes</th>\n",
       "      <td>1655</td>\n",
       "      <td>166</td>\n",
       "      <td>1821</td>\n",
       "    </tr>\n",
       "    <tr>\n",
       "      <th>All</th>\n",
       "      <td>3875</td>\n",
       "      <td>1473</td>\n",
       "      <td>5348</td>\n",
       "    </tr>\n",
       "  </tbody>\n",
       "</table>\n",
       "</div>"
      ],
      "text/plain": [
       "Contract  Month-to-month  One year   All\n",
       "Churn                                   \n",
       "No                  2220      1307  3527\n",
       "Yes                 1655       166  1821\n",
       "All                 3875      1473  5348"
      ]
     },
     "execution_count": 87,
     "metadata": {},
     "output_type": "execute_result"
    }
   ],
   "source": [
    "ct_m2m_1y_data = customer_data[customer_data.Contract != 'Two year']\n",
    "ct_m2m_1y_tab = pd.crosstab(ct_m2m_1y_data.Churn, ct_m2m_1y_data.Contract, margins=True)\n",
    "ct_m2m_1y_tab"
   ]
  },
  {
   "cell_type": "code",
   "execution_count": 88,
   "metadata": {},
   "outputs": [
    {
     "name": "stdout",
     "output_type": "stream",
     "text": [
      "ChiSquare: 469.8074788942832, P: 2.266402313652666e-100\n"
     ]
    }
   ],
   "source": [
    "chiSq, p, dof, expected = scipy.stats.chi2_contingency(ct_m2m_1y_tab.values)\n",
    "print(f'ChiSquare: {chiSq}, P: {p}')"
   ]
  },
  {
   "cell_type": "markdown",
   "metadata": {},
   "source": [
    "Clearly a significant difference."
   ]
  },
  {
   "cell_type": "code",
   "execution_count": 89,
   "metadata": {},
   "outputs": [
    {
     "data": {
      "text/plain": [
       "array([[2555.55815258,  971.44184742, 3527.        ],\n",
       "       [1319.44184742,  501.55815258, 1821.        ],\n",
       "       [3875.        , 1473.        , 5348.        ]])"
      ]
     },
     "execution_count": 89,
     "metadata": {},
     "output_type": "execute_result"
    }
   ],
   "source": [
    "expected"
   ]
  },
  {
   "cell_type": "code",
   "execution_count": 90,
   "metadata": {},
   "outputs": [
    {
     "data": {
      "text/html": [
       "<div>\n",
       "<style scoped>\n",
       "    .dataframe tbody tr th:only-of-type {\n",
       "        vertical-align: middle;\n",
       "    }\n",
       "\n",
       "    .dataframe tbody tr th {\n",
       "        vertical-align: top;\n",
       "    }\n",
       "\n",
       "    .dataframe thead th {\n",
       "        text-align: right;\n",
       "    }\n",
       "</style>\n",
       "<table border=\"1\" class=\"dataframe\">\n",
       "  <thead>\n",
       "    <tr style=\"text-align: right;\">\n",
       "      <th>Contract</th>\n",
       "      <th>Month-to-month</th>\n",
       "      <th>Two year</th>\n",
       "      <th>All</th>\n",
       "    </tr>\n",
       "    <tr>\n",
       "      <th>Churn</th>\n",
       "      <th></th>\n",
       "      <th></th>\n",
       "      <th></th>\n",
       "    </tr>\n",
       "  </thead>\n",
       "  <tbody>\n",
       "    <tr>\n",
       "      <th>No</th>\n",
       "      <td>2220</td>\n",
       "      <td>1647</td>\n",
       "      <td>3867</td>\n",
       "    </tr>\n",
       "    <tr>\n",
       "      <th>Yes</th>\n",
       "      <td>1655</td>\n",
       "      <td>48</td>\n",
       "      <td>1703</td>\n",
       "    </tr>\n",
       "    <tr>\n",
       "      <th>All</th>\n",
       "      <td>3875</td>\n",
       "      <td>1695</td>\n",
       "      <td>5570</td>\n",
       "    </tr>\n",
       "  </tbody>\n",
       "</table>\n",
       "</div>"
      ],
      "text/plain": [
       "Contract  Month-to-month  Two year   All\n",
       "Churn                                   \n",
       "No                  2220      1647  3867\n",
       "Yes                 1655        48  1703\n",
       "All                 3875      1695  5570"
      ]
     },
     "execution_count": 90,
     "metadata": {},
     "output_type": "execute_result"
    }
   ],
   "source": [
    "ct_m2m_2y_data = customer_data[customer_data.Contract != 'One year']\n",
    "ct_m2m_2y_tab = pd.crosstab(ct_m2m_2y_data.Churn, ct_m2m_2y_data.Contract, margins=True)\n",
    "ct_m2m_2y_tab"
   ]
  },
  {
   "cell_type": "code",
   "execution_count": 91,
   "metadata": {},
   "outputs": [
    {
     "name": "stdout",
     "output_type": "stream",
     "text": [
      "ChiSquare: 883.4268211310202, P: 6.492708222710809e-190\n"
     ]
    }
   ],
   "source": [
    "chiSq, p, dof, expected = scipy.stats.chi2_contingency(ct_m2m_2y_tab.values)\n",
    "print(f'ChiSquare: {chiSq}, P: {p}')"
   ]
  },
  {
   "cell_type": "markdown",
   "metadata": {},
   "source": [
    "also clearly significant."
   ]
  },
  {
   "cell_type": "code",
   "execution_count": 92,
   "metadata": {},
   "outputs": [
    {
     "data": {
      "text/html": [
       "<div>\n",
       "<style scoped>\n",
       "    .dataframe tbody tr th:only-of-type {\n",
       "        vertical-align: middle;\n",
       "    }\n",
       "\n",
       "    .dataframe tbody tr th {\n",
       "        vertical-align: top;\n",
       "    }\n",
       "\n",
       "    .dataframe thead th {\n",
       "        text-align: right;\n",
       "    }\n",
       "</style>\n",
       "<table border=\"1\" class=\"dataframe\">\n",
       "  <thead>\n",
       "    <tr style=\"text-align: right;\">\n",
       "      <th>Contract</th>\n",
       "      <th>One year</th>\n",
       "      <th>Two year</th>\n",
       "      <th>All</th>\n",
       "    </tr>\n",
       "    <tr>\n",
       "      <th>Churn</th>\n",
       "      <th></th>\n",
       "      <th></th>\n",
       "      <th></th>\n",
       "    </tr>\n",
       "  </thead>\n",
       "  <tbody>\n",
       "    <tr>\n",
       "      <th>No</th>\n",
       "      <td>1307</td>\n",
       "      <td>1647</td>\n",
       "      <td>2954</td>\n",
       "    </tr>\n",
       "    <tr>\n",
       "      <th>Yes</th>\n",
       "      <td>166</td>\n",
       "      <td>48</td>\n",
       "      <td>214</td>\n",
       "    </tr>\n",
       "    <tr>\n",
       "      <th>All</th>\n",
       "      <td>1473</td>\n",
       "      <td>1695</td>\n",
       "      <td>3168</td>\n",
       "    </tr>\n",
       "  </tbody>\n",
       "</table>\n",
       "</div>"
      ],
      "text/plain": [
       "Contract  One year  Two year   All\n",
       "Churn                             \n",
       "No            1307      1647  2954\n",
       "Yes            166        48   214\n",
       "All           1473      1695  3168"
      ]
     },
     "execution_count": 92,
     "metadata": {},
     "output_type": "execute_result"
    }
   ],
   "source": [
    "ct_1y_2y_data = customer_data[customer_data.Contract != 'Month-to-month']\n",
    "ct_1y_2y_tab = pd.crosstab(ct_1y_2y_data.Churn, ct_1y_2y_data.Contract, margins=True)\n",
    "ct_1y_2y_tab"
   ]
  },
  {
   "cell_type": "code",
   "execution_count": 93,
   "metadata": {},
   "outputs": [
    {
     "name": "stdout",
     "output_type": "stream",
     "text": [
      "ChiSquare: 89.07941527657874, P: 2.06557507914066e-18\n"
     ]
    }
   ],
   "source": [
    "chiSq, p, dof, expected = scipy.stats.chi2_contingency(ct_1y_2y_tab.values)\n",
    "print(f'ChiSquare: {chiSq}, P: {p}')"
   ]
  },
  {
   "cell_type": "markdown",
   "metadata": {},
   "source": [
    "Also Significant."
   ]
  },
  {
   "cell_type": "code",
   "execution_count": 95,
   "metadata": {},
   "outputs": [
    {
     "data": {
      "text/html": [
       "<div>\n",
       "<style scoped>\n",
       "    .dataframe tbody tr th:only-of-type {\n",
       "        vertical-align: middle;\n",
       "    }\n",
       "\n",
       "    .dataframe tbody tr th {\n",
       "        vertical-align: top;\n",
       "    }\n",
       "\n",
       "    .dataframe thead th {\n",
       "        text-align: right;\n",
       "    }\n",
       "</style>\n",
       "<table border=\"1\" class=\"dataframe\">\n",
       "  <thead>\n",
       "    <tr style=\"text-align: right;\">\n",
       "      <th>PaperlessBilling</th>\n",
       "      <th>No</th>\n",
       "      <th>Yes</th>\n",
       "      <th>All</th>\n",
       "    </tr>\n",
       "    <tr>\n",
       "      <th>Churn</th>\n",
       "      <th></th>\n",
       "      <th></th>\n",
       "      <th></th>\n",
       "    </tr>\n",
       "  </thead>\n",
       "  <tbody>\n",
       "    <tr>\n",
       "      <th>No</th>\n",
       "      <td>2403</td>\n",
       "      <td>2771</td>\n",
       "      <td>5174</td>\n",
       "    </tr>\n",
       "    <tr>\n",
       "      <th>Yes</th>\n",
       "      <td>469</td>\n",
       "      <td>1400</td>\n",
       "      <td>1869</td>\n",
       "    </tr>\n",
       "    <tr>\n",
       "      <th>All</th>\n",
       "      <td>2872</td>\n",
       "      <td>4171</td>\n",
       "      <td>7043</td>\n",
       "    </tr>\n",
       "  </tbody>\n",
       "</table>\n",
       "</div>"
      ],
      "text/plain": [
       "PaperlessBilling    No   Yes   All\n",
       "Churn                             \n",
       "No                2403  2771  5174\n",
       "Yes                469  1400  1869\n",
       "All               2872  4171  7043"
      ]
     },
     "execution_count": 95,
     "metadata": {},
     "output_type": "execute_result"
    }
   ],
   "source": [
    "crosstabs[14]"
   ]
  },
  {
   "cell_type": "code",
   "execution_count": 96,
   "metadata": {},
   "outputs": [
    {
     "data": {
      "text/html": [
       "<div>\n",
       "<style scoped>\n",
       "    .dataframe tbody tr th:only-of-type {\n",
       "        vertical-align: middle;\n",
       "    }\n",
       "\n",
       "    .dataframe tbody tr th {\n",
       "        vertical-align: top;\n",
       "    }\n",
       "\n",
       "    .dataframe thead th {\n",
       "        text-align: right;\n",
       "    }\n",
       "</style>\n",
       "<table border=\"1\" class=\"dataframe\">\n",
       "  <thead>\n",
       "    <tr style=\"text-align: right;\">\n",
       "      <th>PaperlessBilling</th>\n",
       "      <th>No</th>\n",
       "      <th>Yes</th>\n",
       "      <th>All</th>\n",
       "    </tr>\n",
       "    <tr>\n",
       "      <th>Churn</th>\n",
       "      <th></th>\n",
       "      <th></th>\n",
       "      <th></th>\n",
       "    </tr>\n",
       "  </thead>\n",
       "  <tbody>\n",
       "    <tr>\n",
       "      <th>No</th>\n",
       "      <td>0.341190</td>\n",
       "      <td>0.393440</td>\n",
       "      <td>0.73463</td>\n",
       "    </tr>\n",
       "    <tr>\n",
       "      <th>Yes</th>\n",
       "      <td>0.066591</td>\n",
       "      <td>0.198779</td>\n",
       "      <td>0.26537</td>\n",
       "    </tr>\n",
       "    <tr>\n",
       "      <th>All</th>\n",
       "      <td>0.407781</td>\n",
       "      <td>0.592219</td>\n",
       "      <td>1.00000</td>\n",
       "    </tr>\n",
       "  </tbody>\n",
       "</table>\n",
       "</div>"
      ],
      "text/plain": [
       "PaperlessBilling        No       Yes      All\n",
       "Churn                                        \n",
       "No                0.341190  0.393440  0.73463\n",
       "Yes               0.066591  0.198779  0.26537\n",
       "All               0.407781  0.592219  1.00000"
      ]
     },
     "execution_count": 96,
     "metadata": {},
     "output_type": "execute_result"
    }
   ],
   "source": [
    "pd.crosstab(customer_data.Churn, customer_data.PaperlessBilling, margins=True, normalize=True)"
   ]
  },
  {
   "cell_type": "markdown",
   "metadata": {},
   "source": [
    "visually looking at the value counts, and the percentages, I don't believe thsi will be statistically significant in determining Churn."
   ]
  },
  {
   "cell_type": "code",
   "execution_count": 97,
   "metadata": {},
   "outputs": [
    {
     "name": "stdout",
     "output_type": "stream",
     "text": [
      "ChiSquare: 259.1609742710177, P: 6.914929538933956e-55\n"
     ]
    }
   ],
   "source": [
    "chiSq, p, dof, expected = scipy.stats.chi2_contingency(crosstabs[14].values)\n",
    "print(f'ChiSquare: {chiSq}, P: {p}')"
   ]
  },
  {
   "cell_type": "markdown",
   "metadata": {},
   "source": [
    "However it appears that there is a bearing on churn from paperless billing, and it doesn't bode well for those that have the feature."
   ]
  },
  {
   "cell_type": "code",
   "execution_count": 98,
   "metadata": {},
   "outputs": [
    {
     "data": {
      "text/plain": [
       "array([[2109.85773108, 3064.14226892, 5174.        ],\n",
       "       [ 762.14226892, 1106.85773108, 1869.        ],\n",
       "       [2872.        , 4171.        , 7043.        ]])"
      ]
     },
     "execution_count": 98,
     "metadata": {},
     "output_type": "execute_result"
    }
   ],
   "source": [
    "expected"
   ]
  },
  {
   "cell_type": "code",
   "execution_count": 99,
   "metadata": {},
   "outputs": [
    {
     "data": {
      "text/html": [
       "<div>\n",
       "<style scoped>\n",
       "    .dataframe tbody tr th:only-of-type {\n",
       "        vertical-align: middle;\n",
       "    }\n",
       "\n",
       "    .dataframe tbody tr th {\n",
       "        vertical-align: top;\n",
       "    }\n",
       "\n",
       "    .dataframe thead th {\n",
       "        text-align: right;\n",
       "    }\n",
       "</style>\n",
       "<table border=\"1\" class=\"dataframe\">\n",
       "  <thead>\n",
       "    <tr style=\"text-align: right;\">\n",
       "      <th>PaymentMethod</th>\n",
       "      <th>Bank transfer (automatic)</th>\n",
       "      <th>Credit card (automatic)</th>\n",
       "      <th>Electronic check</th>\n",
       "      <th>Mailed check</th>\n",
       "      <th>All</th>\n",
       "    </tr>\n",
       "    <tr>\n",
       "      <th>Churn</th>\n",
       "      <th></th>\n",
       "      <th></th>\n",
       "      <th></th>\n",
       "      <th></th>\n",
       "      <th></th>\n",
       "    </tr>\n",
       "  </thead>\n",
       "  <tbody>\n",
       "    <tr>\n",
       "      <th>No</th>\n",
       "      <td>1286</td>\n",
       "      <td>1290</td>\n",
       "      <td>1294</td>\n",
       "      <td>1304</td>\n",
       "      <td>5174</td>\n",
       "    </tr>\n",
       "    <tr>\n",
       "      <th>Yes</th>\n",
       "      <td>258</td>\n",
       "      <td>232</td>\n",
       "      <td>1071</td>\n",
       "      <td>308</td>\n",
       "      <td>1869</td>\n",
       "    </tr>\n",
       "    <tr>\n",
       "      <th>All</th>\n",
       "      <td>1544</td>\n",
       "      <td>1522</td>\n",
       "      <td>2365</td>\n",
       "      <td>1612</td>\n",
       "      <td>7043</td>\n",
       "    </tr>\n",
       "  </tbody>\n",
       "</table>\n",
       "</div>"
      ],
      "text/plain": [
       "PaymentMethod  Bank transfer (automatic)  Credit card (automatic)  \\\n",
       "Churn                                                               \n",
       "No                                  1286                     1290   \n",
       "Yes                                  258                      232   \n",
       "All                                 1544                     1522   \n",
       "\n",
       "PaymentMethod  Electronic check  Mailed check   All  \n",
       "Churn                                                \n",
       "No                         1294          1304  5174  \n",
       "Yes                        1071           308  1869  \n",
       "All                        2365          1612  7043  "
      ]
     },
     "execution_count": 99,
     "metadata": {},
     "output_type": "execute_result"
    }
   ],
   "source": [
    "crosstabs[15]"
   ]
  },
  {
   "cell_type": "markdown",
   "metadata": {},
   "source": [
    "From first glance, this appears to be a simple, Electronic Check is the worst for customers. It is probably prudent to educate customers on more convenient payment methods."
   ]
  },
  {
   "cell_type": "code",
   "execution_count": 104,
   "metadata": {},
   "outputs": [
    {
     "data": {
      "text/html": [
       "<div>\n",
       "<style scoped>\n",
       "    .dataframe tbody tr th:only-of-type {\n",
       "        vertical-align: middle;\n",
       "    }\n",
       "\n",
       "    .dataframe tbody tr th {\n",
       "        vertical-align: top;\n",
       "    }\n",
       "\n",
       "    .dataframe thead th {\n",
       "        text-align: right;\n",
       "    }\n",
       "</style>\n",
       "<table border=\"1\" class=\"dataframe\">\n",
       "  <thead>\n",
       "    <tr style=\"text-align: right;\">\n",
       "      <th>PaymentMethod</th>\n",
       "      <th>Bank transfer (automatic)</th>\n",
       "      <th>Electronic check</th>\n",
       "      <th>Mailed check</th>\n",
       "      <th>All</th>\n",
       "    </tr>\n",
       "    <tr>\n",
       "      <th>Churn</th>\n",
       "      <th></th>\n",
       "      <th></th>\n",
       "      <th></th>\n",
       "      <th></th>\n",
       "    </tr>\n",
       "  </thead>\n",
       "  <tbody>\n",
       "    <tr>\n",
       "      <th>No</th>\n",
       "      <td>1286</td>\n",
       "      <td>1294</td>\n",
       "      <td>1304</td>\n",
       "      <td>3884</td>\n",
       "    </tr>\n",
       "    <tr>\n",
       "      <th>Yes</th>\n",
       "      <td>258</td>\n",
       "      <td>1071</td>\n",
       "      <td>308</td>\n",
       "      <td>1637</td>\n",
       "    </tr>\n",
       "    <tr>\n",
       "      <th>All</th>\n",
       "      <td>1544</td>\n",
       "      <td>2365</td>\n",
       "      <td>1612</td>\n",
       "      <td>5521</td>\n",
       "    </tr>\n",
       "  </tbody>\n",
       "</table>\n",
       "</div>"
      ],
      "text/plain": [
       "PaymentMethod  Bank transfer (automatic)  Electronic check  Mailed check   All\n",
       "Churn                                                                         \n",
       "No                                  1286              1294          1304  3884\n",
       "Yes                                  258              1071           308  1637\n",
       "All                                 1544              2365          1612  5521"
      ]
     },
     "execution_count": 104,
     "metadata": {},
     "output_type": "execute_result"
    }
   ],
   "source": [
    "pmt_no_cc_data = customer_data[customer_data.PaymentMethod != 'Credit card (automatic)']\n",
    "pmt_no_cc_tab = pd.crosstab(pmt_no_cc_data.Churn, pmt_no_cc_data.PaymentMethod, margins=True)\n",
    "pmt_no_cc_tab"
   ]
  },
  {
   "cell_type": "code",
   "execution_count": 105,
   "metadata": {},
   "outputs": [
    {
     "data": {
      "text/html": [
       "<div>\n",
       "<style scoped>\n",
       "    .dataframe tbody tr th:only-of-type {\n",
       "        vertical-align: middle;\n",
       "    }\n",
       "\n",
       "    .dataframe tbody tr th {\n",
       "        vertical-align: top;\n",
       "    }\n",
       "\n",
       "    .dataframe thead th {\n",
       "        text-align: right;\n",
       "    }\n",
       "</style>\n",
       "<table border=\"1\" class=\"dataframe\">\n",
       "  <thead>\n",
       "    <tr style=\"text-align: right;\">\n",
       "      <th>PaymentMethod</th>\n",
       "      <th>Bank transfer (automatic)</th>\n",
       "      <th>Electronic check</th>\n",
       "      <th>All</th>\n",
       "    </tr>\n",
       "    <tr>\n",
       "      <th>Churn</th>\n",
       "      <th></th>\n",
       "      <th></th>\n",
       "      <th></th>\n",
       "    </tr>\n",
       "  </thead>\n",
       "  <tbody>\n",
       "    <tr>\n",
       "      <th>No</th>\n",
       "      <td>1286</td>\n",
       "      <td>1294</td>\n",
       "      <td>2580</td>\n",
       "    </tr>\n",
       "    <tr>\n",
       "      <th>Yes</th>\n",
       "      <td>258</td>\n",
       "      <td>1071</td>\n",
       "      <td>1329</td>\n",
       "    </tr>\n",
       "    <tr>\n",
       "      <th>All</th>\n",
       "      <td>1544</td>\n",
       "      <td>2365</td>\n",
       "      <td>3909</td>\n",
       "    </tr>\n",
       "  </tbody>\n",
       "</table>\n",
       "</div>"
      ],
      "text/plain": [
       "PaymentMethod  Bank transfer (automatic)  Electronic check   All\n",
       "Churn                                                           \n",
       "No                                  1286              1294  2580\n",
       "Yes                                  258              1071  1329\n",
       "All                                 1544              2365  3909"
      ]
     },
     "execution_count": 105,
     "metadata": {},
     "output_type": "execute_result"
    }
   ],
   "source": [
    "pmt_bt_ec_data = pmt_no_cc_data[pmt_no_cc_data.PaymentMethod != 'Mailed check']\n",
    "pmt_bt_ec_tab = pd.crosstab(pmt_bt_ec_data.Churn, pmt_bt_ec_data.PaymentMethod, margins=True)\n",
    "pmt_bt_ec_tab"
   ]
  },
  {
   "cell_type": "code",
   "execution_count": null,
   "metadata": {},
   "outputs": [],
   "source": []
  },
  {
   "cell_type": "code",
   "execution_count": null,
   "metadata": {},
   "outputs": [],
   "source": []
  },
  {
   "cell_type": "code",
   "execution_count": null,
   "metadata": {},
   "outputs": [],
   "source": []
  },
  {
   "cell_type": "code",
   "execution_count": null,
   "metadata": {},
   "outputs": [],
   "source": []
  },
  {
   "cell_type": "code",
   "execution_count": null,
   "metadata": {},
   "outputs": [],
   "source": []
  },
  {
   "cell_type": "code",
   "execution_count": null,
   "metadata": {},
   "outputs": [],
   "source": []
  },
  {
   "cell_type": "code",
   "execution_count": null,
   "metadata": {},
   "outputs": [],
   "source": []
  },
  {
   "cell_type": "code",
   "execution_count": null,
   "metadata": {},
   "outputs": [],
   "source": []
  },
  {
   "cell_type": "code",
   "execution_count": null,
   "metadata": {},
   "outputs": [],
   "source": []
  },
  {
   "cell_type": "code",
   "execution_count": null,
   "metadata": {},
   "outputs": [],
   "source": []
  },
  {
   "cell_type": "code",
   "execution_count": 188,
   "metadata": {},
   "outputs": [
    {
     "data": {
      "text/html": [
       "<div>\n",
       "<style scoped>\n",
       "    .dataframe tbody tr th:only-of-type {\n",
       "        vertical-align: middle;\n",
       "    }\n",
       "\n",
       "    .dataframe tbody tr th {\n",
       "        vertical-align: top;\n",
       "    }\n",
       "\n",
       "    .dataframe thead th {\n",
       "        text-align: right;\n",
       "    }\n",
       "</style>\n",
       "<table border=\"1\" class=\"dataframe\">\n",
       "  <thead>\n",
       "    <tr style=\"text-align: right;\">\n",
       "      <th></th>\n",
       "      <th>gender</th>\n",
       "      <th>SeniorCitizen</th>\n",
       "      <th>Partner</th>\n",
       "      <th>Dependents</th>\n",
       "      <th>tenure</th>\n",
       "      <th>PhoneService</th>\n",
       "      <th>MultipleLines</th>\n",
       "      <th>InternetService</th>\n",
       "      <th>OnlineSecurity</th>\n",
       "      <th>OnlineBackup</th>\n",
       "      <th>DeviceProtection</th>\n",
       "      <th>TechSupport</th>\n",
       "      <th>StreamingTV</th>\n",
       "      <th>StreamingMovies</th>\n",
       "      <th>Contract</th>\n",
       "      <th>PaperlessBilling</th>\n",
       "      <th>PaymentMethod</th>\n",
       "      <th>MonthlyCharges</th>\n",
       "      <th>TotalCharges</th>\n",
       "      <th>Churn</th>\n",
       "    </tr>\n",
       "  </thead>\n",
       "  <tbody>\n",
       "    <tr>\n",
       "      <th>0</th>\n",
       "      <td>0</td>\n",
       "      <td>0</td>\n",
       "      <td>1</td>\n",
       "      <td>0</td>\n",
       "      <td>1</td>\n",
       "      <td>0</td>\n",
       "      <td>0</td>\n",
       "      <td>1</td>\n",
       "      <td>1</td>\n",
       "      <td>2</td>\n",
       "      <td>1</td>\n",
       "      <td>1</td>\n",
       "      <td>1</td>\n",
       "      <td>1</td>\n",
       "      <td>0</td>\n",
       "      <td>1</td>\n",
       "      <td>1</td>\n",
       "      <td>29.85</td>\n",
       "      <td>29.85</td>\n",
       "      <td>0</td>\n",
       "    </tr>\n",
       "    <tr>\n",
       "      <th>1</th>\n",
       "      <td>1</td>\n",
       "      <td>0</td>\n",
       "      <td>0</td>\n",
       "      <td>0</td>\n",
       "      <td>34</td>\n",
       "      <td>1</td>\n",
       "      <td>1</td>\n",
       "      <td>1</td>\n",
       "      <td>2</td>\n",
       "      <td>1</td>\n",
       "      <td>2</td>\n",
       "      <td>1</td>\n",
       "      <td>1</td>\n",
       "      <td>1</td>\n",
       "      <td>1</td>\n",
       "      <td>0</td>\n",
       "      <td>0</td>\n",
       "      <td>56.95</td>\n",
       "      <td>1889.50</td>\n",
       "      <td>0</td>\n",
       "    </tr>\n",
       "    <tr>\n",
       "      <th>2</th>\n",
       "      <td>1</td>\n",
       "      <td>0</td>\n",
       "      <td>0</td>\n",
       "      <td>0</td>\n",
       "      <td>2</td>\n",
       "      <td>1</td>\n",
       "      <td>1</td>\n",
       "      <td>1</td>\n",
       "      <td>2</td>\n",
       "      <td>2</td>\n",
       "      <td>1</td>\n",
       "      <td>1</td>\n",
       "      <td>1</td>\n",
       "      <td>1</td>\n",
       "      <td>0</td>\n",
       "      <td>1</td>\n",
       "      <td>0</td>\n",
       "      <td>53.85</td>\n",
       "      <td>108.15</td>\n",
       "      <td>1</td>\n",
       "    </tr>\n",
       "    <tr>\n",
       "      <th>3</th>\n",
       "      <td>1</td>\n",
       "      <td>0</td>\n",
       "      <td>0</td>\n",
       "      <td>0</td>\n",
       "      <td>45</td>\n",
       "      <td>0</td>\n",
       "      <td>0</td>\n",
       "      <td>1</td>\n",
       "      <td>2</td>\n",
       "      <td>1</td>\n",
       "      <td>2</td>\n",
       "      <td>2</td>\n",
       "      <td>1</td>\n",
       "      <td>1</td>\n",
       "      <td>1</td>\n",
       "      <td>0</td>\n",
       "      <td>2</td>\n",
       "      <td>42.30</td>\n",
       "      <td>1840.75</td>\n",
       "      <td>0</td>\n",
       "    </tr>\n",
       "    <tr>\n",
       "      <th>4</th>\n",
       "      <td>0</td>\n",
       "      <td>0</td>\n",
       "      <td>0</td>\n",
       "      <td>0</td>\n",
       "      <td>2</td>\n",
       "      <td>1</td>\n",
       "      <td>1</td>\n",
       "      <td>2</td>\n",
       "      <td>1</td>\n",
       "      <td>1</td>\n",
       "      <td>1</td>\n",
       "      <td>1</td>\n",
       "      <td>1</td>\n",
       "      <td>1</td>\n",
       "      <td>0</td>\n",
       "      <td>1</td>\n",
       "      <td>1</td>\n",
       "      <td>70.70</td>\n",
       "      <td>151.65</td>\n",
       "      <td>1</td>\n",
       "    </tr>\n",
       "  </tbody>\n",
       "</table>\n",
       "</div>"
      ],
      "text/plain": [
       "   gender  SeniorCitizen  Partner  Dependents  tenure  PhoneService  \\\n",
       "0       0              0        1           0       1             0   \n",
       "1       1              0        0           0      34             1   \n",
       "2       1              0        0           0       2             1   \n",
       "3       1              0        0           0      45             0   \n",
       "4       0              0        0           0       2             1   \n",
       "\n",
       "   MultipleLines  InternetService  OnlineSecurity  OnlineBackup  \\\n",
       "0              0                1               1             2   \n",
       "1              1                1               2             1   \n",
       "2              1                1               2             2   \n",
       "3              0                1               2             1   \n",
       "4              1                2               1             1   \n",
       "\n",
       "   DeviceProtection  TechSupport  StreamingTV  StreamingMovies  Contract  \\\n",
       "0                 1            1            1                1         0   \n",
       "1                 2            1            1                1         1   \n",
       "2                 1            1            1                1         0   \n",
       "3                 2            2            1                1         1   \n",
       "4                 1            1            1                1         0   \n",
       "\n",
       "   PaperlessBilling  PaymentMethod  MonthlyCharges  TotalCharges  Churn  \n",
       "0                 1              1           29.85         29.85      0  \n",
       "1                 0              0           56.95       1889.50      0  \n",
       "2                 1              0           53.85        108.15      1  \n",
       "3                 0              2           42.30       1840.75      0  \n",
       "4                 1              1           70.70        151.65      1  "
      ]
     },
     "execution_count": 188,
     "metadata": {},
     "output_type": "execute_result"
    }
   ],
   "source": [
    "customer_data.gender = customer_data.gender.map({'Male': 1, 'Female': 0})\n",
    "customer_data.Partner = customer_data.Partner.map({'Yes': 1, 'No': 0})\n",
    "customer_data.Dependents = customer_data.Dependents.map({'Yes': 1, 'No':0})\n",
    "customer_data.PhoneService = customer_data.PhoneService.map({'Yes':1,'No':0})\n",
    "customer_data.MultipleLines = customer_data.MultipleLines.map({'No phone service': 0, 'No': 1, 'Yes': 2})\n",
    "customer_data.InternetService = customer_data.InternetService.map({'No': 0, 'DSL': 1, 'Fiber optic': 2})\n",
    "customer_data.OnlineSecurity = customer_data.OnlineSecurity.map({'No internet service':0, 'No': 1, 'Yes': 2})\n",
    "customer_data.OnlineBackup = customer_data.OnlineBackup.map({'No internet service':0, 'No': 1, 'Yes': 2})\n",
    "customer_data.DeviceProtection = customer_data.DeviceProtection.map({'No internet service':0, 'No': 1, 'Yes': 2})\n",
    "customer_data.TechSupport = customer_data.TechSupport.map({'No internet service':0, 'No': 1, 'Yes': 2})\n",
    "customer_data.StreamingTV = customer_data.StreamingTV.map({'No internet service':0, 'No': 1, 'Yes': 2})\n",
    "customer_data.StreamingMovies = customer_data.StreamingMovies.map({'No internet service':0, 'No': 1, 'Yes': 2})\n",
    "customer_data.Contract = customer_data.Contract.map({'Month-to-month': 0, 'One year': 1, 'Two year': 2})\n",
    "customer_data.PaperlessBilling = customer_data.PaperlessBilling.map({'No': 0, 'Yes': 1})\n",
    "customer_data.PaymentMethod = customer_data.PaymentMethod.map({'Electronic check': 1, 'Mailed check': 0, 'Bank transfer (automatic)': 2, 'Credit card (automatic)': 3})\n",
    "customer_data.Churn = customer_data.Churn.map({'Yes':1, 'No':0})\n",
    "customer_data = customer_data.drop(columns=['customerID'])\n",
    "customer_data.head()"
   ]
  },
  {
   "cell_type": "markdown",
   "metadata": {},
   "source": [
    "Let's separate our target variable."
   ]
  },
  {
   "cell_type": "code",
   "execution_count": 199,
   "metadata": {},
   "outputs": [
    {
     "ename": "AttributeError",
     "evalue": "'DataFrame' object has no attribute 'Churn'",
     "output_type": "error",
     "traceback": [
      "\u001b[0;31m---------------------------------------------------------------------------\u001b[0m",
      "\u001b[0;31mAttributeError\u001b[0m                            Traceback (most recent call last)",
      "\u001b[0;32m<ipython-input-199-e700f3ed5145>\u001b[0m in \u001b[0;36m<module>\u001b[0;34m()\u001b[0m\n\u001b[0;32m----> 1\u001b[0;31m \u001b[0mchurn_column\u001b[0m \u001b[0;34m=\u001b[0m \u001b[0mcustomer_data\u001b[0m\u001b[0;34m.\u001b[0m\u001b[0mChurn\u001b[0m\u001b[0;34m\u001b[0m\u001b[0m\n\u001b[0m\u001b[1;32m      2\u001b[0m \u001b[0mcustomer_data\u001b[0m \u001b[0;34m=\u001b[0m \u001b[0mcustomer_data\u001b[0m\u001b[0;34m.\u001b[0m\u001b[0mdrop\u001b[0m\u001b[0;34m(\u001b[0m\u001b[0mcolumns\u001b[0m\u001b[0;34m=\u001b[0m\u001b[0;34m'Churn'\u001b[0m\u001b[0;34m)\u001b[0m\u001b[0;34m\u001b[0m\u001b[0m\n\u001b[1;32m      3\u001b[0m \u001b[0mchurn_column\u001b[0m\u001b[0;34m.\u001b[0m\u001b[0mhead\u001b[0m\u001b[0;34m(\u001b[0m\u001b[0;34m)\u001b[0m\u001b[0;34m\u001b[0m\u001b[0m\n",
      "\u001b[0;32m/anaconda3/lib/python3.6/site-packages/pandas/core/generic.py\u001b[0m in \u001b[0;36m__getattr__\u001b[0;34m(self, name)\u001b[0m\n\u001b[1;32m   4370\u001b[0m             \u001b[0;32mif\u001b[0m \u001b[0mself\u001b[0m\u001b[0;34m.\u001b[0m\u001b[0m_info_axis\u001b[0m\u001b[0;34m.\u001b[0m\u001b[0m_can_hold_identifiers_and_holds_name\u001b[0m\u001b[0;34m(\u001b[0m\u001b[0mname\u001b[0m\u001b[0;34m)\u001b[0m\u001b[0;34m:\u001b[0m\u001b[0;34m\u001b[0m\u001b[0m\n\u001b[1;32m   4371\u001b[0m                 \u001b[0;32mreturn\u001b[0m \u001b[0mself\u001b[0m\u001b[0;34m[\u001b[0m\u001b[0mname\u001b[0m\u001b[0;34m]\u001b[0m\u001b[0;34m\u001b[0m\u001b[0m\n\u001b[0;32m-> 4372\u001b[0;31m             \u001b[0;32mreturn\u001b[0m \u001b[0mobject\u001b[0m\u001b[0;34m.\u001b[0m\u001b[0m__getattribute__\u001b[0m\u001b[0;34m(\u001b[0m\u001b[0mself\u001b[0m\u001b[0;34m,\u001b[0m \u001b[0mname\u001b[0m\u001b[0;34m)\u001b[0m\u001b[0;34m\u001b[0m\u001b[0m\n\u001b[0m\u001b[1;32m   4373\u001b[0m \u001b[0;34m\u001b[0m\u001b[0m\n\u001b[1;32m   4374\u001b[0m     \u001b[0;32mdef\u001b[0m \u001b[0m__setattr__\u001b[0m\u001b[0;34m(\u001b[0m\u001b[0mself\u001b[0m\u001b[0;34m,\u001b[0m \u001b[0mname\u001b[0m\u001b[0;34m,\u001b[0m \u001b[0mvalue\u001b[0m\u001b[0;34m)\u001b[0m\u001b[0;34m:\u001b[0m\u001b[0;34m\u001b[0m\u001b[0m\n",
      "\u001b[0;31mAttributeError\u001b[0m: 'DataFrame' object has no attribute 'Churn'"
     ]
    }
   ],
   "source": [
    "churn_column = customer_data.Churn\n",
    "customer_data = customer_data.drop(columns='Churn')\n",
    "churn_column.head()"
   ]
  },
  {
   "cell_type": "code",
   "execution_count": 198,
   "metadata": {},
   "outputs": [
    {
     "data": {
      "text/html": [
       "<div>\n",
       "<style scoped>\n",
       "    .dataframe tbody tr th:only-of-type {\n",
       "        vertical-align: middle;\n",
       "    }\n",
       "\n",
       "    .dataframe tbody tr th {\n",
       "        vertical-align: top;\n",
       "    }\n",
       "\n",
       "    .dataframe thead th {\n",
       "        text-align: right;\n",
       "    }\n",
       "</style>\n",
       "<table border=\"1\" class=\"dataframe\">\n",
       "  <thead>\n",
       "    <tr style=\"text-align: right;\">\n",
       "      <th></th>\n",
       "      <th>gender</th>\n",
       "      <th>SeniorCitizen</th>\n",
       "      <th>Partner</th>\n",
       "      <th>Dependents</th>\n",
       "      <th>tenure</th>\n",
       "      <th>PhoneService</th>\n",
       "      <th>MultipleLines</th>\n",
       "      <th>InternetService</th>\n",
       "      <th>OnlineSecurity</th>\n",
       "      <th>OnlineBackup</th>\n",
       "      <th>DeviceProtection</th>\n",
       "      <th>TechSupport</th>\n",
       "      <th>StreamingTV</th>\n",
       "      <th>StreamingMovies</th>\n",
       "      <th>Contract</th>\n",
       "      <th>PaperlessBilling</th>\n",
       "      <th>PaymentMethod</th>\n",
       "    </tr>\n",
       "  </thead>\n",
       "  <tbody>\n",
       "    <tr>\n",
       "      <th>0</th>\n",
       "      <td>0</td>\n",
       "      <td>0</td>\n",
       "      <td>1</td>\n",
       "      <td>0</td>\n",
       "      <td>1</td>\n",
       "      <td>0</td>\n",
       "      <td>0</td>\n",
       "      <td>1</td>\n",
       "      <td>1</td>\n",
       "      <td>2</td>\n",
       "      <td>1</td>\n",
       "      <td>1</td>\n",
       "      <td>1</td>\n",
       "      <td>1</td>\n",
       "      <td>0</td>\n",
       "      <td>1</td>\n",
       "      <td>1</td>\n",
       "    </tr>\n",
       "    <tr>\n",
       "      <th>1</th>\n",
       "      <td>1</td>\n",
       "      <td>0</td>\n",
       "      <td>0</td>\n",
       "      <td>0</td>\n",
       "      <td>34</td>\n",
       "      <td>1</td>\n",
       "      <td>1</td>\n",
       "      <td>1</td>\n",
       "      <td>2</td>\n",
       "      <td>1</td>\n",
       "      <td>2</td>\n",
       "      <td>1</td>\n",
       "      <td>1</td>\n",
       "      <td>1</td>\n",
       "      <td>1</td>\n",
       "      <td>0</td>\n",
       "      <td>0</td>\n",
       "    </tr>\n",
       "    <tr>\n",
       "      <th>2</th>\n",
       "      <td>1</td>\n",
       "      <td>0</td>\n",
       "      <td>0</td>\n",
       "      <td>0</td>\n",
       "      <td>2</td>\n",
       "      <td>1</td>\n",
       "      <td>1</td>\n",
       "      <td>1</td>\n",
       "      <td>2</td>\n",
       "      <td>2</td>\n",
       "      <td>1</td>\n",
       "      <td>1</td>\n",
       "      <td>1</td>\n",
       "      <td>1</td>\n",
       "      <td>0</td>\n",
       "      <td>1</td>\n",
       "      <td>0</td>\n",
       "    </tr>\n",
       "    <tr>\n",
       "      <th>3</th>\n",
       "      <td>1</td>\n",
       "      <td>0</td>\n",
       "      <td>0</td>\n",
       "      <td>0</td>\n",
       "      <td>45</td>\n",
       "      <td>0</td>\n",
       "      <td>0</td>\n",
       "      <td>1</td>\n",
       "      <td>2</td>\n",
       "      <td>1</td>\n",
       "      <td>2</td>\n",
       "      <td>2</td>\n",
       "      <td>1</td>\n",
       "      <td>1</td>\n",
       "      <td>1</td>\n",
       "      <td>0</td>\n",
       "      <td>2</td>\n",
       "    </tr>\n",
       "    <tr>\n",
       "      <th>4</th>\n",
       "      <td>0</td>\n",
       "      <td>0</td>\n",
       "      <td>0</td>\n",
       "      <td>0</td>\n",
       "      <td>2</td>\n",
       "      <td>1</td>\n",
       "      <td>1</td>\n",
       "      <td>2</td>\n",
       "      <td>1</td>\n",
       "      <td>1</td>\n",
       "      <td>1</td>\n",
       "      <td>1</td>\n",
       "      <td>1</td>\n",
       "      <td>1</td>\n",
       "      <td>0</td>\n",
       "      <td>1</td>\n",
       "      <td>1</td>\n",
       "    </tr>\n",
       "  </tbody>\n",
       "</table>\n",
       "</div>"
      ],
      "text/plain": [
       "   gender  SeniorCitizen  Partner  Dependents  tenure  PhoneService  \\\n",
       "0       0              0        1           0       1             0   \n",
       "1       1              0        0           0      34             1   \n",
       "2       1              0        0           0       2             1   \n",
       "3       1              0        0           0      45             0   \n",
       "4       0              0        0           0       2             1   \n",
       "\n",
       "   MultipleLines  InternetService  OnlineSecurity  OnlineBackup  \\\n",
       "0              0                1               1             2   \n",
       "1              1                1               2             1   \n",
       "2              1                1               2             2   \n",
       "3              0                1               2             1   \n",
       "4              1                2               1             1   \n",
       "\n",
       "   DeviceProtection  TechSupport  StreamingTV  StreamingMovies  Contract  \\\n",
       "0                 1            1            1                1         0   \n",
       "1                 2            1            1                1         1   \n",
       "2                 1            1            1                1         0   \n",
       "3                 2            2            1                1         1   \n",
       "4                 1            1            1                1         0   \n",
       "\n",
       "   PaperlessBilling  PaymentMethod  \n",
       "0                 1              1  \n",
       "1                 0              0  \n",
       "2                 1              0  \n",
       "3                 0              2  \n",
       "4                 1              1  "
      ]
     },
     "execution_count": 198,
     "metadata": {},
     "output_type": "execute_result"
    }
   ],
   "source": [
    "customer_data.head()"
   ]
  },
  {
   "cell_type": "code",
   "execution_count": 190,
   "metadata": {},
   "outputs": [
    {
     "data": {
      "text/html": [
       "<div>\n",
       "<style scoped>\n",
       "    .dataframe tbody tr th:only-of-type {\n",
       "        vertical-align: middle;\n",
       "    }\n",
       "\n",
       "    .dataframe tbody tr th {\n",
       "        vertical-align: top;\n",
       "    }\n",
       "\n",
       "    .dataframe thead th {\n",
       "        text-align: right;\n",
       "    }\n",
       "</style>\n",
       "<table border=\"1\" class=\"dataframe\">\n",
       "  <thead>\n",
       "    <tr style=\"text-align: right;\">\n",
       "      <th></th>\n",
       "      <th>gender</th>\n",
       "      <th>SeniorCitizen</th>\n",
       "      <th>Partner</th>\n",
       "      <th>Dependents</th>\n",
       "      <th>tenure</th>\n",
       "      <th>PhoneService</th>\n",
       "      <th>MultipleLines</th>\n",
       "      <th>InternetService</th>\n",
       "      <th>OnlineSecurity</th>\n",
       "      <th>OnlineBackup</th>\n",
       "      <th>DeviceProtection</th>\n",
       "      <th>TechSupport</th>\n",
       "      <th>StreamingTV</th>\n",
       "      <th>StreamingMovies</th>\n",
       "      <th>Contract</th>\n",
       "      <th>PaperlessBilling</th>\n",
       "      <th>PaymentMethod</th>\n",
       "      <th>MonthlyCharges</th>\n",
       "      <th>TotalCharges</th>\n",
       "    </tr>\n",
       "  </thead>\n",
       "  <tbody>\n",
       "    <tr>\n",
       "      <th>gender</th>\n",
       "      <td>1.000000</td>\n",
       "      <td>-0.001874</td>\n",
       "      <td>-0.001808</td>\n",
       "      <td>0.010517</td>\n",
       "      <td>0.005106</td>\n",
       "      <td>-0.006488</td>\n",
       "      <td>-0.009451</td>\n",
       "      <td>-0.010380</td>\n",
       "      <td>-0.014418</td>\n",
       "      <td>-0.012230</td>\n",
       "      <td>-0.004720</td>\n",
       "      <td>-0.009409</td>\n",
       "      <td>-0.008673</td>\n",
       "      <td>-0.010011</td>\n",
       "      <td>0.000126</td>\n",
       "      <td>-0.011754</td>\n",
       "      <td>-0.010709</td>\n",
       "      <td>-0.014569</td>\n",
       "      <td>-0.000080</td>\n",
       "    </tr>\n",
       "    <tr>\n",
       "      <th>SeniorCitizen</th>\n",
       "      <td>-0.001874</td>\n",
       "      <td>1.000000</td>\n",
       "      <td>0.016479</td>\n",
       "      <td>-0.211185</td>\n",
       "      <td>0.016567</td>\n",
       "      <td>0.008576</td>\n",
       "      <td>0.113791</td>\n",
       "      <td>0.259390</td>\n",
       "      <td>0.081878</td>\n",
       "      <td>0.144828</td>\n",
       "      <td>0.140298</td>\n",
       "      <td>0.067457</td>\n",
       "      <td>0.167188</td>\n",
       "      <td>0.176469</td>\n",
       "      <td>-0.142554</td>\n",
       "      <td>0.156530</td>\n",
       "      <td>0.035614</td>\n",
       "      <td>0.220173</td>\n",
       "      <td>0.103006</td>\n",
       "    </tr>\n",
       "    <tr>\n",
       "      <th>Partner</th>\n",
       "      <td>-0.001808</td>\n",
       "      <td>0.016479</td>\n",
       "      <td>1.000000</td>\n",
       "      <td>0.452676</td>\n",
       "      <td>0.379697</td>\n",
       "      <td>0.017706</td>\n",
       "      <td>0.117307</td>\n",
       "      <td>-0.000132</td>\n",
       "      <td>0.091303</td>\n",
       "      <td>0.090753</td>\n",
       "      <td>0.098664</td>\n",
       "      <td>0.076551</td>\n",
       "      <td>0.079785</td>\n",
       "      <td>0.075098</td>\n",
       "      <td>0.294806</td>\n",
       "      <td>-0.014877</td>\n",
       "      <td>0.143949</td>\n",
       "      <td>0.096848</td>\n",
       "      <td>0.317504</td>\n",
       "    </tr>\n",
       "    <tr>\n",
       "      <th>Dependents</th>\n",
       "      <td>0.010517</td>\n",
       "      <td>-0.211185</td>\n",
       "      <td>0.452676</td>\n",
       "      <td>1.000000</td>\n",
       "      <td>0.159712</td>\n",
       "      <td>-0.001762</td>\n",
       "      <td>-0.019657</td>\n",
       "      <td>-0.179631</td>\n",
       "      <td>-0.029721</td>\n",
       "      <td>-0.062775</td>\n",
       "      <td>-0.069078</td>\n",
       "      <td>-0.040788</td>\n",
       "      <td>-0.086739</td>\n",
       "      <td>-0.101475</td>\n",
       "      <td>0.243187</td>\n",
       "      <td>-0.111377</td>\n",
       "      <td>0.043494</td>\n",
       "      <td>-0.113890</td>\n",
       "      <td>0.062078</td>\n",
       "    </tr>\n",
       "    <tr>\n",
       "      <th>tenure</th>\n",
       "      <td>0.005106</td>\n",
       "      <td>0.016567</td>\n",
       "      <td>0.379697</td>\n",
       "      <td>0.159712</td>\n",
       "      <td>1.000000</td>\n",
       "      <td>0.008448</td>\n",
       "      <td>0.258958</td>\n",
       "      <td>0.033230</td>\n",
       "      <td>0.232373</td>\n",
       "      <td>0.253743</td>\n",
       "      <td>0.253999</td>\n",
       "      <td>0.230522</td>\n",
       "      <td>0.201053</td>\n",
       "      <td>0.205031</td>\n",
       "      <td>0.671607</td>\n",
       "      <td>0.006152</td>\n",
       "      <td>0.366983</td>\n",
       "      <td>0.247900</td>\n",
       "      <td>0.826178</td>\n",
       "    </tr>\n",
       "    <tr>\n",
       "      <th>PhoneService</th>\n",
       "      <td>-0.006488</td>\n",
       "      <td>0.008576</td>\n",
       "      <td>0.017706</td>\n",
       "      <td>-0.001762</td>\n",
       "      <td>0.008448</td>\n",
       "      <td>1.000000</td>\n",
       "      <td>0.675070</td>\n",
       "      <td>0.093720</td>\n",
       "      <td>-0.159989</td>\n",
       "      <td>-0.129770</td>\n",
       "      <td>-0.142012</td>\n",
       "      <td>-0.161930</td>\n",
       "      <td>-0.108239</td>\n",
       "      <td>-0.114715</td>\n",
       "      <td>0.002247</td>\n",
       "      <td>0.016505</td>\n",
       "      <td>-0.001724</td>\n",
       "      <td>0.247398</td>\n",
       "      <td>0.113214</td>\n",
       "    </tr>\n",
       "    <tr>\n",
       "      <th>MultipleLines</th>\n",
       "      <td>-0.009451</td>\n",
       "      <td>0.113791</td>\n",
       "      <td>0.117307</td>\n",
       "      <td>-0.019657</td>\n",
       "      <td>0.258958</td>\n",
       "      <td>0.675070</td>\n",
       "      <td>1.000000</td>\n",
       "      <td>0.307988</td>\n",
       "      <td>0.069085</td>\n",
       "      <td>0.130619</td>\n",
       "      <td>0.124502</td>\n",
       "      <td>0.069149</td>\n",
       "      <td>0.165254</td>\n",
       "      <td>0.162841</td>\n",
       "      <td>0.083343</td>\n",
       "      <td>0.133255</td>\n",
       "      <td>0.126303</td>\n",
       "      <td>0.490700</td>\n",
       "      <td>0.412104</td>\n",
       "    </tr>\n",
       "    <tr>\n",
       "      <th>InternetService</th>\n",
       "      <td>-0.010380</td>\n",
       "      <td>0.259390</td>\n",
       "      <td>-0.000132</td>\n",
       "      <td>-0.179631</td>\n",
       "      <td>0.033230</td>\n",
       "      <td>0.093720</td>\n",
       "      <td>0.307988</td>\n",
       "      <td>1.000000</td>\n",
       "      <td>0.582325</td>\n",
       "      <td>0.658718</td>\n",
       "      <td>0.663011</td>\n",
       "      <td>0.586074</td>\n",
       "      <td>0.725645</td>\n",
       "      <td>0.723065</td>\n",
       "      <td>-0.290189</td>\n",
       "      <td>0.378108</td>\n",
       "      <td>0.113951</td>\n",
       "      <td>0.905491</td>\n",
       "      <td>0.428963</td>\n",
       "    </tr>\n",
       "    <tr>\n",
       "      <th>OnlineSecurity</th>\n",
       "      <td>-0.014418</td>\n",
       "      <td>0.081878</td>\n",
       "      <td>0.091303</td>\n",
       "      <td>-0.029721</td>\n",
       "      <td>0.232373</td>\n",
       "      <td>-0.159989</td>\n",
       "      <td>0.069085</td>\n",
       "      <td>0.582325</td>\n",
       "      <td>1.000000</td>\n",
       "      <td>0.705166</td>\n",
       "      <td>0.701690</td>\n",
       "      <td>0.735191</td>\n",
       "      <td>0.662220</td>\n",
       "      <td>0.667033</td>\n",
       "      <td>0.015824</td>\n",
       "      <td>0.184993</td>\n",
       "      <td>0.175390</td>\n",
       "      <td>0.635534</td>\n",
       "      <td>0.482624</td>\n",
       "    </tr>\n",
       "    <tr>\n",
       "      <th>OnlineBackup</th>\n",
       "      <td>-0.012230</td>\n",
       "      <td>0.144828</td>\n",
       "      <td>0.090753</td>\n",
       "      <td>-0.062775</td>\n",
       "      <td>0.253743</td>\n",
       "      <td>-0.129770</td>\n",
       "      <td>0.130619</td>\n",
       "      <td>0.658718</td>\n",
       "      <td>0.705166</td>\n",
       "      <td>1.000000</td>\n",
       "      <td>0.711335</td>\n",
       "      <td>0.709216</td>\n",
       "      <td>0.703167</td>\n",
       "      <td>0.700158</td>\n",
       "      <td>-0.035407</td>\n",
       "      <td>0.260715</td>\n",
       "      <td>0.181936</td>\n",
       "      <td>0.710477</td>\n",
       "      <td>0.537212</td>\n",
       "    </tr>\n",
       "    <tr>\n",
       "      <th>DeviceProtection</th>\n",
       "      <td>-0.004720</td>\n",
       "      <td>0.140298</td>\n",
       "      <td>0.098664</td>\n",
       "      <td>-0.069078</td>\n",
       "      <td>0.253999</td>\n",
       "      <td>-0.142012</td>\n",
       "      <td>0.124502</td>\n",
       "      <td>0.663011</td>\n",
       "      <td>0.701690</td>\n",
       "      <td>0.711335</td>\n",
       "      <td>1.000000</td>\n",
       "      <td>0.725327</td>\n",
       "      <td>0.748182</td>\n",
       "      <td>0.752952</td>\n",
       "      <td>0.005848</td>\n",
       "      <td>0.246069</td>\n",
       "      <td>0.194702</td>\n",
       "      <td>0.737104</td>\n",
       "      <td>0.545565</td>\n",
       "    </tr>\n",
       "    <tr>\n",
       "      <th>TechSupport</th>\n",
       "      <td>-0.009409</td>\n",
       "      <td>0.067457</td>\n",
       "      <td>0.076551</td>\n",
       "      <td>-0.040788</td>\n",
       "      <td>0.230522</td>\n",
       "      <td>-0.161930</td>\n",
       "      <td>0.069149</td>\n",
       "      <td>0.586074</td>\n",
       "      <td>0.735191</td>\n",
       "      <td>0.709216</td>\n",
       "      <td>0.725327</td>\n",
       "      <td>1.000000</td>\n",
       "      <td>0.703866</td>\n",
       "      <td>0.704587</td>\n",
       "      <td>0.047218</td>\n",
       "      <td>0.211031</td>\n",
       "      <td>0.178706</td>\n",
       "      <td>0.661032</td>\n",
       "      <td>0.495090</td>\n",
       "    </tr>\n",
       "    <tr>\n",
       "      <th>StreamingTV</th>\n",
       "      <td>-0.008673</td>\n",
       "      <td>0.167188</td>\n",
       "      <td>0.079785</td>\n",
       "      <td>-0.086739</td>\n",
       "      <td>0.201053</td>\n",
       "      <td>-0.108239</td>\n",
       "      <td>0.165254</td>\n",
       "      <td>0.725645</td>\n",
       "      <td>0.662220</td>\n",
       "      <td>0.703167</td>\n",
       "      <td>0.748182</td>\n",
       "      <td>0.703866</td>\n",
       "      <td>1.000000</td>\n",
       "      <td>0.807221</td>\n",
       "      <td>-0.065128</td>\n",
       "      <td>0.318581</td>\n",
       "      <td>0.163469</td>\n",
       "      <td>0.820225</td>\n",
       "      <td>0.535189</td>\n",
       "    </tr>\n",
       "    <tr>\n",
       "      <th>StreamingMovies</th>\n",
       "      <td>-0.010011</td>\n",
       "      <td>0.176469</td>\n",
       "      <td>0.075098</td>\n",
       "      <td>-0.101475</td>\n",
       "      <td>0.205031</td>\n",
       "      <td>-0.114715</td>\n",
       "      <td>0.162841</td>\n",
       "      <td>0.723065</td>\n",
       "      <td>0.667033</td>\n",
       "      <td>0.700158</td>\n",
       "      <td>0.752952</td>\n",
       "      <td>0.704587</td>\n",
       "      <td>0.807221</td>\n",
       "      <td>1.000000</td>\n",
       "      <td>-0.062583</td>\n",
       "      <td>0.310385</td>\n",
       "      <td>0.168662</td>\n",
       "      <td>0.817842</td>\n",
       "      <td>0.537968</td>\n",
       "    </tr>\n",
       "    <tr>\n",
       "      <th>Contract</th>\n",
       "      <td>0.000126</td>\n",
       "      <td>-0.142554</td>\n",
       "      <td>0.294806</td>\n",
       "      <td>0.243187</td>\n",
       "      <td>0.671607</td>\n",
       "      <td>0.002247</td>\n",
       "      <td>0.083343</td>\n",
       "      <td>-0.290189</td>\n",
       "      <td>0.015824</td>\n",
       "      <td>-0.035407</td>\n",
       "      <td>0.005848</td>\n",
       "      <td>0.047218</td>\n",
       "      <td>-0.065128</td>\n",
       "      <td>-0.062583</td>\n",
       "      <td>1.000000</td>\n",
       "      <td>-0.176733</td>\n",
       "      <td>0.237204</td>\n",
       "      <td>-0.074195</td>\n",
       "      <td>0.446855</td>\n",
       "    </tr>\n",
       "    <tr>\n",
       "      <th>PaperlessBilling</th>\n",
       "      <td>-0.011754</td>\n",
       "      <td>0.156530</td>\n",
       "      <td>-0.014877</td>\n",
       "      <td>-0.111377</td>\n",
       "      <td>0.006152</td>\n",
       "      <td>0.016505</td>\n",
       "      <td>0.133255</td>\n",
       "      <td>0.378108</td>\n",
       "      <td>0.184993</td>\n",
       "      <td>0.260715</td>\n",
       "      <td>0.246069</td>\n",
       "      <td>0.211031</td>\n",
       "      <td>0.318581</td>\n",
       "      <td>0.310385</td>\n",
       "      <td>-0.176733</td>\n",
       "      <td>1.000000</td>\n",
       "      <td>0.064183</td>\n",
       "      <td>0.352150</td>\n",
       "      <td>0.158574</td>\n",
       "    </tr>\n",
       "    <tr>\n",
       "      <th>PaymentMethod</th>\n",
       "      <td>-0.010709</td>\n",
       "      <td>0.035614</td>\n",
       "      <td>0.143949</td>\n",
       "      <td>0.043494</td>\n",
       "      <td>0.366983</td>\n",
       "      <td>-0.001724</td>\n",
       "      <td>0.126303</td>\n",
       "      <td>0.113951</td>\n",
       "      <td>0.175390</td>\n",
       "      <td>0.181936</td>\n",
       "      <td>0.194702</td>\n",
       "      <td>0.178706</td>\n",
       "      <td>0.163469</td>\n",
       "      <td>0.168662</td>\n",
       "      <td>0.237204</td>\n",
       "      <td>0.064183</td>\n",
       "      <td>1.000000</td>\n",
       "      <td>0.189154</td>\n",
       "      <td>0.330337</td>\n",
       "    </tr>\n",
       "    <tr>\n",
       "      <th>MonthlyCharges</th>\n",
       "      <td>-0.014569</td>\n",
       "      <td>0.220173</td>\n",
       "      <td>0.096848</td>\n",
       "      <td>-0.113890</td>\n",
       "      <td>0.247900</td>\n",
       "      <td>0.247398</td>\n",
       "      <td>0.490700</td>\n",
       "      <td>0.905491</td>\n",
       "      <td>0.635534</td>\n",
       "      <td>0.710477</td>\n",
       "      <td>0.737104</td>\n",
       "      <td>0.661032</td>\n",
       "      <td>0.820225</td>\n",
       "      <td>0.817842</td>\n",
       "      <td>-0.074195</td>\n",
       "      <td>0.352150</td>\n",
       "      <td>0.189154</td>\n",
       "      <td>1.000000</td>\n",
       "      <td>0.651174</td>\n",
       "    </tr>\n",
       "    <tr>\n",
       "      <th>TotalCharges</th>\n",
       "      <td>-0.000080</td>\n",
       "      <td>0.103006</td>\n",
       "      <td>0.317504</td>\n",
       "      <td>0.062078</td>\n",
       "      <td>0.826178</td>\n",
       "      <td>0.113214</td>\n",
       "      <td>0.412104</td>\n",
       "      <td>0.428963</td>\n",
       "      <td>0.482624</td>\n",
       "      <td>0.537212</td>\n",
       "      <td>0.545565</td>\n",
       "      <td>0.495090</td>\n",
       "      <td>0.535189</td>\n",
       "      <td>0.537968</td>\n",
       "      <td>0.446855</td>\n",
       "      <td>0.158574</td>\n",
       "      <td>0.330337</td>\n",
       "      <td>0.651174</td>\n",
       "      <td>1.000000</td>\n",
       "    </tr>\n",
       "  </tbody>\n",
       "</table>\n",
       "</div>"
      ],
      "text/plain": [
       "                    gender  SeniorCitizen   Partner  Dependents    tenure  \\\n",
       "gender            1.000000      -0.001874 -0.001808    0.010517  0.005106   \n",
       "SeniorCitizen    -0.001874       1.000000  0.016479   -0.211185  0.016567   \n",
       "Partner          -0.001808       0.016479  1.000000    0.452676  0.379697   \n",
       "Dependents        0.010517      -0.211185  0.452676    1.000000  0.159712   \n",
       "tenure            0.005106       0.016567  0.379697    0.159712  1.000000   \n",
       "PhoneService     -0.006488       0.008576  0.017706   -0.001762  0.008448   \n",
       "MultipleLines    -0.009451       0.113791  0.117307   -0.019657  0.258958   \n",
       "InternetService  -0.010380       0.259390 -0.000132   -0.179631  0.033230   \n",
       "OnlineSecurity   -0.014418       0.081878  0.091303   -0.029721  0.232373   \n",
       "OnlineBackup     -0.012230       0.144828  0.090753   -0.062775  0.253743   \n",
       "DeviceProtection -0.004720       0.140298  0.098664   -0.069078  0.253999   \n",
       "TechSupport      -0.009409       0.067457  0.076551   -0.040788  0.230522   \n",
       "StreamingTV      -0.008673       0.167188  0.079785   -0.086739  0.201053   \n",
       "StreamingMovies  -0.010011       0.176469  0.075098   -0.101475  0.205031   \n",
       "Contract          0.000126      -0.142554  0.294806    0.243187  0.671607   \n",
       "PaperlessBilling -0.011754       0.156530 -0.014877   -0.111377  0.006152   \n",
       "PaymentMethod    -0.010709       0.035614  0.143949    0.043494  0.366983   \n",
       "MonthlyCharges   -0.014569       0.220173  0.096848   -0.113890  0.247900   \n",
       "TotalCharges     -0.000080       0.103006  0.317504    0.062078  0.826178   \n",
       "\n",
       "                  PhoneService  MultipleLines  InternetService  \\\n",
       "gender               -0.006488      -0.009451        -0.010380   \n",
       "SeniorCitizen         0.008576       0.113791         0.259390   \n",
       "Partner               0.017706       0.117307        -0.000132   \n",
       "Dependents           -0.001762      -0.019657        -0.179631   \n",
       "tenure                0.008448       0.258958         0.033230   \n",
       "PhoneService          1.000000       0.675070         0.093720   \n",
       "MultipleLines         0.675070       1.000000         0.307988   \n",
       "InternetService       0.093720       0.307988         1.000000   \n",
       "OnlineSecurity       -0.159989       0.069085         0.582325   \n",
       "OnlineBackup         -0.129770       0.130619         0.658718   \n",
       "DeviceProtection     -0.142012       0.124502         0.663011   \n",
       "TechSupport          -0.161930       0.069149         0.586074   \n",
       "StreamingTV          -0.108239       0.165254         0.725645   \n",
       "StreamingMovies      -0.114715       0.162841         0.723065   \n",
       "Contract              0.002247       0.083343        -0.290189   \n",
       "PaperlessBilling      0.016505       0.133255         0.378108   \n",
       "PaymentMethod        -0.001724       0.126303         0.113951   \n",
       "MonthlyCharges        0.247398       0.490700         0.905491   \n",
       "TotalCharges          0.113214       0.412104         0.428963   \n",
       "\n",
       "                  OnlineSecurity  OnlineBackup  DeviceProtection  TechSupport  \\\n",
       "gender                 -0.014418     -0.012230         -0.004720    -0.009409   \n",
       "SeniorCitizen           0.081878      0.144828          0.140298     0.067457   \n",
       "Partner                 0.091303      0.090753          0.098664     0.076551   \n",
       "Dependents             -0.029721     -0.062775         -0.069078    -0.040788   \n",
       "tenure                  0.232373      0.253743          0.253999     0.230522   \n",
       "PhoneService           -0.159989     -0.129770         -0.142012    -0.161930   \n",
       "MultipleLines           0.069085      0.130619          0.124502     0.069149   \n",
       "InternetService         0.582325      0.658718          0.663011     0.586074   \n",
       "OnlineSecurity          1.000000      0.705166          0.701690     0.735191   \n",
       "OnlineBackup            0.705166      1.000000          0.711335     0.709216   \n",
       "DeviceProtection        0.701690      0.711335          1.000000     0.725327   \n",
       "TechSupport             0.735191      0.709216          0.725327     1.000000   \n",
       "StreamingTV             0.662220      0.703167          0.748182     0.703866   \n",
       "StreamingMovies         0.667033      0.700158          0.752952     0.704587   \n",
       "Contract                0.015824     -0.035407          0.005848     0.047218   \n",
       "PaperlessBilling        0.184993      0.260715          0.246069     0.211031   \n",
       "PaymentMethod           0.175390      0.181936          0.194702     0.178706   \n",
       "MonthlyCharges          0.635534      0.710477          0.737104     0.661032   \n",
       "TotalCharges            0.482624      0.537212          0.545565     0.495090   \n",
       "\n",
       "                  StreamingTV  StreamingMovies  Contract  PaperlessBilling  \\\n",
       "gender              -0.008673        -0.010011  0.000126         -0.011754   \n",
       "SeniorCitizen        0.167188         0.176469 -0.142554          0.156530   \n",
       "Partner              0.079785         0.075098  0.294806         -0.014877   \n",
       "Dependents          -0.086739        -0.101475  0.243187         -0.111377   \n",
       "tenure               0.201053         0.205031  0.671607          0.006152   \n",
       "PhoneService        -0.108239        -0.114715  0.002247          0.016505   \n",
       "MultipleLines        0.165254         0.162841  0.083343          0.133255   \n",
       "InternetService      0.725645         0.723065 -0.290189          0.378108   \n",
       "OnlineSecurity       0.662220         0.667033  0.015824          0.184993   \n",
       "OnlineBackup         0.703167         0.700158 -0.035407          0.260715   \n",
       "DeviceProtection     0.748182         0.752952  0.005848          0.246069   \n",
       "TechSupport          0.703866         0.704587  0.047218          0.211031   \n",
       "StreamingTV          1.000000         0.807221 -0.065128          0.318581   \n",
       "StreamingMovies      0.807221         1.000000 -0.062583          0.310385   \n",
       "Contract            -0.065128        -0.062583  1.000000         -0.176733   \n",
       "PaperlessBilling     0.318581         0.310385 -0.176733          1.000000   \n",
       "PaymentMethod        0.163469         0.168662  0.237204          0.064183   \n",
       "MonthlyCharges       0.820225         0.817842 -0.074195          0.352150   \n",
       "TotalCharges         0.535189         0.537968  0.446855          0.158574   \n",
       "\n",
       "                  PaymentMethod  MonthlyCharges  TotalCharges  \n",
       "gender                -0.010709       -0.014569     -0.000080  \n",
       "SeniorCitizen          0.035614        0.220173      0.103006  \n",
       "Partner                0.143949        0.096848      0.317504  \n",
       "Dependents             0.043494       -0.113890      0.062078  \n",
       "tenure                 0.366983        0.247900      0.826178  \n",
       "PhoneService          -0.001724        0.247398      0.113214  \n",
       "MultipleLines          0.126303        0.490700      0.412104  \n",
       "InternetService        0.113951        0.905491      0.428963  \n",
       "OnlineSecurity         0.175390        0.635534      0.482624  \n",
       "OnlineBackup           0.181936        0.710477      0.537212  \n",
       "DeviceProtection       0.194702        0.737104      0.545565  \n",
       "TechSupport            0.178706        0.661032      0.495090  \n",
       "StreamingTV            0.163469        0.820225      0.535189  \n",
       "StreamingMovies        0.168662        0.817842      0.537968  \n",
       "Contract               0.237204       -0.074195      0.446855  \n",
       "PaperlessBilling       0.064183        0.352150      0.158574  \n",
       "PaymentMethod          1.000000        0.189154      0.330337  \n",
       "MonthlyCharges         0.189154        1.000000      0.651174  \n",
       "TotalCharges           0.330337        0.651174      1.000000  "
      ]
     },
     "execution_count": 190,
     "metadata": {},
     "output_type": "execute_result"
    }
   ],
   "source": [
    "customer_data.corr()"
   ]
  },
  {
   "cell_type": "markdown",
   "metadata": {},
   "source": [
    "Since Monthly charges and Internet Service have a Pearson Correlation of 0.90, I will take the Internet Service Variable over Monthly Charges. Also since Total Charges and Tenure have a correlation of 0.82 I will take Tenure over Total Charges as the Total Charges are widely varied, and are more easily represented by tenure."
   ]
  },
  {
   "cell_type": "code",
   "execution_count": 191,
   "metadata": {},
   "outputs": [
    {
     "data": {
      "text/html": [
       "<div>\n",
       "<style scoped>\n",
       "    .dataframe tbody tr th:only-of-type {\n",
       "        vertical-align: middle;\n",
       "    }\n",
       "\n",
       "    .dataframe tbody tr th {\n",
       "        vertical-align: top;\n",
       "    }\n",
       "\n",
       "    .dataframe thead th {\n",
       "        text-align: right;\n",
       "    }\n",
       "</style>\n",
       "<table border=\"1\" class=\"dataframe\">\n",
       "  <thead>\n",
       "    <tr style=\"text-align: right;\">\n",
       "      <th></th>\n",
       "      <th>gender</th>\n",
       "      <th>SeniorCitizen</th>\n",
       "      <th>Partner</th>\n",
       "      <th>Dependents</th>\n",
       "      <th>tenure</th>\n",
       "      <th>PhoneService</th>\n",
       "      <th>MultipleLines</th>\n",
       "      <th>InternetService</th>\n",
       "      <th>OnlineSecurity</th>\n",
       "      <th>OnlineBackup</th>\n",
       "      <th>DeviceProtection</th>\n",
       "      <th>TechSupport</th>\n",
       "      <th>StreamingTV</th>\n",
       "      <th>StreamingMovies</th>\n",
       "      <th>Contract</th>\n",
       "      <th>PaperlessBilling</th>\n",
       "      <th>PaymentMethod</th>\n",
       "    </tr>\n",
       "  </thead>\n",
       "  <tbody>\n",
       "    <tr>\n",
       "      <th>0</th>\n",
       "      <td>0</td>\n",
       "      <td>0</td>\n",
       "      <td>1</td>\n",
       "      <td>0</td>\n",
       "      <td>1</td>\n",
       "      <td>0</td>\n",
       "      <td>0</td>\n",
       "      <td>1</td>\n",
       "      <td>1</td>\n",
       "      <td>2</td>\n",
       "      <td>1</td>\n",
       "      <td>1</td>\n",
       "      <td>1</td>\n",
       "      <td>1</td>\n",
       "      <td>0</td>\n",
       "      <td>1</td>\n",
       "      <td>1</td>\n",
       "    </tr>\n",
       "    <tr>\n",
       "      <th>1</th>\n",
       "      <td>1</td>\n",
       "      <td>0</td>\n",
       "      <td>0</td>\n",
       "      <td>0</td>\n",
       "      <td>34</td>\n",
       "      <td>1</td>\n",
       "      <td>1</td>\n",
       "      <td>1</td>\n",
       "      <td>2</td>\n",
       "      <td>1</td>\n",
       "      <td>2</td>\n",
       "      <td>1</td>\n",
       "      <td>1</td>\n",
       "      <td>1</td>\n",
       "      <td>1</td>\n",
       "      <td>0</td>\n",
       "      <td>0</td>\n",
       "    </tr>\n",
       "    <tr>\n",
       "      <th>2</th>\n",
       "      <td>1</td>\n",
       "      <td>0</td>\n",
       "      <td>0</td>\n",
       "      <td>0</td>\n",
       "      <td>2</td>\n",
       "      <td>1</td>\n",
       "      <td>1</td>\n",
       "      <td>1</td>\n",
       "      <td>2</td>\n",
       "      <td>2</td>\n",
       "      <td>1</td>\n",
       "      <td>1</td>\n",
       "      <td>1</td>\n",
       "      <td>1</td>\n",
       "      <td>0</td>\n",
       "      <td>1</td>\n",
       "      <td>0</td>\n",
       "    </tr>\n",
       "    <tr>\n",
       "      <th>3</th>\n",
       "      <td>1</td>\n",
       "      <td>0</td>\n",
       "      <td>0</td>\n",
       "      <td>0</td>\n",
       "      <td>45</td>\n",
       "      <td>0</td>\n",
       "      <td>0</td>\n",
       "      <td>1</td>\n",
       "      <td>2</td>\n",
       "      <td>1</td>\n",
       "      <td>2</td>\n",
       "      <td>2</td>\n",
       "      <td>1</td>\n",
       "      <td>1</td>\n",
       "      <td>1</td>\n",
       "      <td>0</td>\n",
       "      <td>2</td>\n",
       "    </tr>\n",
       "    <tr>\n",
       "      <th>4</th>\n",
       "      <td>0</td>\n",
       "      <td>0</td>\n",
       "      <td>0</td>\n",
       "      <td>0</td>\n",
       "      <td>2</td>\n",
       "      <td>1</td>\n",
       "      <td>1</td>\n",
       "      <td>2</td>\n",
       "      <td>1</td>\n",
       "      <td>1</td>\n",
       "      <td>1</td>\n",
       "      <td>1</td>\n",
       "      <td>1</td>\n",
       "      <td>1</td>\n",
       "      <td>0</td>\n",
       "      <td>1</td>\n",
       "      <td>1</td>\n",
       "    </tr>\n",
       "  </tbody>\n",
       "</table>\n",
       "</div>"
      ],
      "text/plain": [
       "   gender  SeniorCitizen  Partner  Dependents  tenure  PhoneService  \\\n",
       "0       0              0        1           0       1             0   \n",
       "1       1              0        0           0      34             1   \n",
       "2       1              0        0           0       2             1   \n",
       "3       1              0        0           0      45             0   \n",
       "4       0              0        0           0       2             1   \n",
       "\n",
       "   MultipleLines  InternetService  OnlineSecurity  OnlineBackup  \\\n",
       "0              0                1               1             2   \n",
       "1              1                1               2             1   \n",
       "2              1                1               2             2   \n",
       "3              0                1               2             1   \n",
       "4              1                2               1             1   \n",
       "\n",
       "   DeviceProtection  TechSupport  StreamingTV  StreamingMovies  Contract  \\\n",
       "0                 1            1            1                1         0   \n",
       "1                 2            1            1                1         1   \n",
       "2                 1            1            1                1         0   \n",
       "3                 2            2            1                1         1   \n",
       "4                 1            1            1                1         0   \n",
       "\n",
       "   PaperlessBilling  PaymentMethod  \n",
       "0                 1              1  \n",
       "1                 0              0  \n",
       "2                 1              0  \n",
       "3                 0              2  \n",
       "4                 1              1  "
      ]
     },
     "execution_count": 191,
     "metadata": {},
     "output_type": "execute_result"
    }
   ],
   "source": [
    "customer_data = customer_data.drop(columns=['TotalCharges'])\n",
    "customer_data = customer_data.drop(columns=['MonthlyCharges'])\n",
    "customer_data.head()"
   ]
  },
  {
   "cell_type": "code",
   "execution_count": 193,
   "metadata": {},
   "outputs": [
    {
     "name": "stderr",
     "output_type": "stream",
     "text": [
      "/anaconda3/lib/python3.6/site-packages/sklearn/utils/validation.py:475: DataConversionWarning: Data with input dtype int64 was converted to float64 by StandardScaler.\n",
      "  warnings.warn(msg, DataConversionWarning)\n",
      "/anaconda3/lib/python3.6/site-packages/sklearn/utils/validation.py:475: DataConversionWarning: Data with input dtype int64 was converted to float64 by StandardScaler.\n",
      "  warnings.warn(msg, DataConversionWarning)\n",
      "/anaconda3/lib/python3.6/site-packages/sklearn/utils/validation.py:475: DataConversionWarning: Data with input dtype int64 was converted to float64 by StandardScaler.\n",
      "  warnings.warn(msg, DataConversionWarning)\n",
      "/anaconda3/lib/python3.6/site-packages/sklearn/utils/validation.py:475: DataConversionWarning: Data with input dtype int64 was converted to float64 by StandardScaler.\n",
      "  warnings.warn(msg, DataConversionWarning)\n"
     ]
    },
    {
     "data": {
      "text/html": [
       "<div>\n",
       "<style scoped>\n",
       "    .dataframe tbody tr th:only-of-type {\n",
       "        vertical-align: middle;\n",
       "    }\n",
       "\n",
       "    .dataframe tbody tr th {\n",
       "        vertical-align: top;\n",
       "    }\n",
       "\n",
       "    .dataframe thead th {\n",
       "        text-align: right;\n",
       "    }\n",
       "</style>\n",
       "<table border=\"1\" class=\"dataframe\">\n",
       "  <thead>\n",
       "    <tr style=\"text-align: right;\">\n",
       "      <th></th>\n",
       "      <th>0</th>\n",
       "      <th>1</th>\n",
       "      <th>2</th>\n",
       "      <th>3</th>\n",
       "      <th>4</th>\n",
       "    </tr>\n",
       "  </thead>\n",
       "  <tbody>\n",
       "    <tr>\n",
       "      <th>gender</th>\n",
       "      <td>0.014989</td>\n",
       "      <td>0.005421</td>\n",
       "      <td>0.019249</td>\n",
       "      <td>-0.038031</td>\n",
       "      <td>0.602748</td>\n",
       "    </tr>\n",
       "    <tr>\n",
       "      <th>SeniorCitizen</th>\n",
       "      <td>-0.222474</td>\n",
       "      <td>-0.207059</td>\n",
       "      <td>-0.242946</td>\n",
       "      <td>0.340036</td>\n",
       "      <td>0.574688</td>\n",
       "    </tr>\n",
       "    <tr>\n",
       "      <th>Partner</th>\n",
       "      <td>-0.122990</td>\n",
       "      <td>0.633549</td>\n",
       "      <td>0.007146</td>\n",
       "      <td>-0.395060</td>\n",
       "      <td>0.336931</td>\n",
       "    </tr>\n",
       "    <tr>\n",
       "      <th>Dependents</th>\n",
       "      <td>0.103525</td>\n",
       "      <td>0.544960</td>\n",
       "      <td>0.158037</td>\n",
       "      <td>-0.640399</td>\n",
       "      <td>0.121687</td>\n",
       "    </tr>\n",
       "    <tr>\n",
       "      <th>tenure</th>\n",
       "      <td>-0.303079</td>\n",
       "      <td>0.778655</td>\n",
       "      <td>-0.047341</td>\n",
       "      <td>0.316058</td>\n",
       "      <td>0.027861</td>\n",
       "    </tr>\n",
       "    <tr>\n",
       "      <th>PhoneService</th>\n",
       "      <td>0.101201</td>\n",
       "      <td>0.101349</td>\n",
       "      <td>-0.876777</td>\n",
       "      <td>-0.159682</td>\n",
       "      <td>-0.176203</td>\n",
       "    </tr>\n",
       "    <tr>\n",
       "      <th>MultipleLines</th>\n",
       "      <td>-0.222063</td>\n",
       "      <td>0.223490</td>\n",
       "      <td>-0.860815</td>\n",
       "      <td>-0.056979</td>\n",
       "      <td>-0.103317</td>\n",
       "    </tr>\n",
       "    <tr>\n",
       "      <th>InternetService</th>\n",
       "      <td>-0.817767</td>\n",
       "      <td>-0.261949</td>\n",
       "      <td>-0.248445</td>\n",
       "      <td>-0.112302</td>\n",
       "      <td>0.030103</td>\n",
       "    </tr>\n",
       "    <tr>\n",
       "      <th>OnlineSecurity</th>\n",
       "      <td>-0.820969</td>\n",
       "      <td>0.036907</td>\n",
       "      <td>0.175410</td>\n",
       "      <td>-0.051975</td>\n",
       "      <td>-0.120128</td>\n",
       "    </tr>\n",
       "    <tr>\n",
       "      <th>OnlineBackup</th>\n",
       "      <td>-0.855386</td>\n",
       "      <td>-0.001284</td>\n",
       "      <td>0.079881</td>\n",
       "      <td>-0.031987</td>\n",
       "      <td>-0.042722</td>\n",
       "    </tr>\n",
       "    <tr>\n",
       "      <th>DeviceProtection</th>\n",
       "      <td>-0.873982</td>\n",
       "      <td>0.015744</td>\n",
       "      <td>0.097175</td>\n",
       "      <td>-0.015452</td>\n",
       "      <td>-0.047901</td>\n",
       "    </tr>\n",
       "    <tr>\n",
       "      <th>TechSupport</th>\n",
       "      <td>-0.840427</td>\n",
       "      <td>0.037640</td>\n",
       "      <td>0.178046</td>\n",
       "      <td>-0.036968</td>\n",
       "      <td>-0.131382</td>\n",
       "    </tr>\n",
       "    <tr>\n",
       "      <th>StreamingTV</th>\n",
       "      <td>-0.885001</td>\n",
       "      <td>-0.062062</td>\n",
       "      <td>0.020838</td>\n",
       "      <td>-0.059542</td>\n",
       "      <td>-0.008552</td>\n",
       "    </tr>\n",
       "    <tr>\n",
       "      <th>StreamingMovies</th>\n",
       "      <td>-0.886226</td>\n",
       "      <td>-0.063916</td>\n",
       "      <td>0.024871</td>\n",
       "      <td>-0.037649</td>\n",
       "      <td>-0.009511</td>\n",
       "    </tr>\n",
       "    <tr>\n",
       "      <th>Contract</th>\n",
       "      <td>0.027910</td>\n",
       "      <td>0.813780</td>\n",
       "      <td>0.091783</td>\n",
       "      <td>0.286783</td>\n",
       "      <td>-0.097725</td>\n",
       "    </tr>\n",
       "    <tr>\n",
       "      <th>PaperlessBilling</th>\n",
       "      <td>-0.379886</td>\n",
       "      <td>-0.222020</td>\n",
       "      <td>-0.213829</td>\n",
       "      <td>-0.020955</td>\n",
       "      <td>0.299394</td>\n",
       "    </tr>\n",
       "    <tr>\n",
       "      <th>PaymentMethod</th>\n",
       "      <td>-0.260437</td>\n",
       "      <td>0.412836</td>\n",
       "      <td>-0.053091</td>\n",
       "      <td>0.442487</td>\n",
       "      <td>0.043667</td>\n",
       "    </tr>\n",
       "  </tbody>\n",
       "</table>\n",
       "</div>"
      ],
      "text/plain": [
       "                         0         1         2         3         4\n",
       "gender            0.014989  0.005421  0.019249 -0.038031  0.602748\n",
       "SeniorCitizen    -0.222474 -0.207059 -0.242946  0.340036  0.574688\n",
       "Partner          -0.122990  0.633549  0.007146 -0.395060  0.336931\n",
       "Dependents        0.103525  0.544960  0.158037 -0.640399  0.121687\n",
       "tenure           -0.303079  0.778655 -0.047341  0.316058  0.027861\n",
       "PhoneService      0.101201  0.101349 -0.876777 -0.159682 -0.176203\n",
       "MultipleLines    -0.222063  0.223490 -0.860815 -0.056979 -0.103317\n",
       "InternetService  -0.817767 -0.261949 -0.248445 -0.112302  0.030103\n",
       "OnlineSecurity   -0.820969  0.036907  0.175410 -0.051975 -0.120128\n",
       "OnlineBackup     -0.855386 -0.001284  0.079881 -0.031987 -0.042722\n",
       "DeviceProtection -0.873982  0.015744  0.097175 -0.015452 -0.047901\n",
       "TechSupport      -0.840427  0.037640  0.178046 -0.036968 -0.131382\n",
       "StreamingTV      -0.885001 -0.062062  0.020838 -0.059542 -0.008552\n",
       "StreamingMovies  -0.886226 -0.063916  0.024871 -0.037649 -0.009511\n",
       "Contract          0.027910  0.813780  0.091783  0.286783 -0.097725\n",
       "PaperlessBilling -0.379886 -0.222020 -0.213829 -0.020955  0.299394\n",
       "PaymentMethod    -0.260437  0.412836 -0.053091  0.442487  0.043667"
      ]
     },
     "execution_count": 193,
     "metadata": {},
     "output_type": "execute_result"
    }
   ],
   "source": [
    "pca = prince.PCA(n_components = 5)\n",
    "fit = pca.fit(customer_data)\n",
    "fit = fit.transform(customer_data)\n",
    "pca.column_correlations(customer_data)"
   ]
  },
  {
   "cell_type": "code",
   "execution_count": 196,
   "metadata": {},
   "outputs": [
    {
     "name": "stderr",
     "output_type": "stream",
     "text": [
      "/anaconda3/lib/python3.6/site-packages/sklearn/utils/validation.py:475: DataConversionWarning: Data with input dtype int64 was converted to float64 by StandardScaler.\n",
      "  warnings.warn(msg, DataConversionWarning)\n"
     ]
    },
    {
     "data": {
      "image/png": "[encoded data removed]",
      "text/plain": [
       "<Figure size 432x288 with 1 Axes>"
      ]
     },
     "metadata": {},
     "output_type": "display_data"
    }
   ],
   "source": [
    "plt.plot(pca.column_correlations(customer_data).columns.values, pca.eigenvalues_, 'ro-', linewidth=2)\n",
    "plt.title('Scree Plot')\n",
    "plt.xlabel('Principal Component')\n",
    "plt.ylabel('Eigenvalue')\n",
    "#I don't like the default legend so I typically make mine like below, e.g.\n",
    "#with smaller fonts and a bit transparent so I do not cover up data, and make\n",
    "#it moveable by the viewer in case upper-right is a bad place for it \n",
    "leg = plt.legend(['Eigenvalues'], loc='best', borderpad=0.3, \n",
    "                 shadow=False, prop=matplotlib.font_manager.FontProperties(size='small'),\n",
    "                 markerscale=0.4)\n",
    "leg.get_frame().set_alpha(0.4)\n",
    "leg.draggable(state=True)\n",
    "plt.show()"
   ]
  },
  {
   "cell_type": "code",
   "execution_count": 195,
   "metadata": {},
   "outputs": [
    {
     "name": "stderr",
     "output_type": "stream",
     "text": [
      "/anaconda3/lib/python3.6/site-packages/sklearn/utils/validation.py:475: DataConversionWarning: Data with input dtype int64 was converted to float64 by StandardScaler.\n",
      "  warnings.warn(msg, DataConversionWarning)\n"
     ]
    },
    {
     "data": {
      "text/plain": [
       "<matplotlib.axes._subplots.AxesSubplot at 0x1a1e4d39e8>"
      ]
     },
     "execution_count": 195,
     "metadata": {},
     "output_type": "execute_result"
    },
    {
     "data": {
      "image/png": "[encoded data removed]",
      "text/plain": [
       "<Figure size 432x432 with 1 Axes>"
      ]
     },
     "metadata": {},
     "output_type": "display_data"
    }
   ],
   "source": [
    "pca.plot_row_coordinates(customer_data)"
   ]
  },
  {
   "cell_type": "code",
   "execution_count": null,
   "metadata": {},
   "outputs": [],
   "source": []
  },
  {
   "cell_type": "code",
   "execution_count": null,
   "metadata": {},
   "outputs": [],
   "source": []
  }
 ],
 "metadata": {
  "kernelspec": {
   "display_name": "Python 3",
   "language": "python",
   "name": "python3"
  },
  "language_info": {
   "codemirror_mode": {
    "name": "ipython",
    "version": 3
   },
   "file_extension": ".py",
   "mimetype": "text/x-python",
   "name": "python",
   "nbconvert_exporter": "python",
   "pygments_lexer": "ipython3",
   "version": "3.6.5"
  }
 },
 "nbformat": 4,
 "nbformat_minor": 2
}
