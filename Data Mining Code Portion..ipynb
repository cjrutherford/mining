{
 "cells": [
  {
   "cell_type": "markdown",
   "metadata": {},
   "source": [
    "Import Libraries and read the CSV file"
   ]
  },
  {
   "cell_type": "code",
   "execution_count": 40,
   "metadata": {
    "scrolled": true
   },
   "outputs": [
    {
     "data": {
      "text/html": [
       "<div>\n",
       "<style scoped>\n",
       "    .dataframe tbody tr th:only-of-type {\n",
       "        vertical-align: middle;\n",
       "    }\n",
       "\n",
       "    .dataframe tbody tr th {\n",
       "        vertical-align: top;\n",
       "    }\n",
       "\n",
       "    .dataframe thead th {\n",
       "        text-align: right;\n",
       "    }\n",
       "</style>\n",
       "<table border=\"1\" class=\"dataframe\">\n",
       "  <thead>\n",
       "    <tr style=\"text-align: right;\">\n",
       "      <th></th>\n",
       "      <th>customerID</th>\n",
       "      <th>gender</th>\n",
       "      <th>SeniorCitizen</th>\n",
       "      <th>Partner</th>\n",
       "      <th>Dependents</th>\n",
       "      <th>tenure</th>\n",
       "      <th>PhoneService</th>\n",
       "      <th>MultipleLines</th>\n",
       "      <th>InternetService</th>\n",
       "      <th>OnlineSecurity</th>\n",
       "      <th>...</th>\n",
       "      <th>DeviceProtection</th>\n",
       "      <th>TechSupport</th>\n",
       "      <th>StreamingTV</th>\n",
       "      <th>StreamingMovies</th>\n",
       "      <th>Contract</th>\n",
       "      <th>PaperlessBilling</th>\n",
       "      <th>PaymentMethod</th>\n",
       "      <th>MonthlyCharges</th>\n",
       "      <th>TotalCharges</th>\n",
       "      <th>Churn</th>\n",
       "    </tr>\n",
       "  </thead>\n",
       "  <tbody>\n",
       "    <tr>\n",
       "      <th>0</th>\n",
       "      <td>7590-VHVEG</td>\n",
       "      <td>Female</td>\n",
       "      <td>0</td>\n",
       "      <td>Yes</td>\n",
       "      <td>No</td>\n",
       "      <td>1</td>\n",
       "      <td>No</td>\n",
       "      <td>No phone service</td>\n",
       "      <td>DSL</td>\n",
       "      <td>No</td>\n",
       "      <td>...</td>\n",
       "      <td>No</td>\n",
       "      <td>No</td>\n",
       "      <td>No</td>\n",
       "      <td>No</td>\n",
       "      <td>Month-to-month</td>\n",
       "      <td>Yes</td>\n",
       "      <td>Electronic check</td>\n",
       "      <td>29.85</td>\n",
       "      <td>29.85</td>\n",
       "      <td>No</td>\n",
       "    </tr>\n",
       "    <tr>\n",
       "      <th>1</th>\n",
       "      <td>5575-GNVDE</td>\n",
       "      <td>Male</td>\n",
       "      <td>0</td>\n",
       "      <td>No</td>\n",
       "      <td>No</td>\n",
       "      <td>34</td>\n",
       "      <td>Yes</td>\n",
       "      <td>No</td>\n",
       "      <td>DSL</td>\n",
       "      <td>Yes</td>\n",
       "      <td>...</td>\n",
       "      <td>Yes</td>\n",
       "      <td>No</td>\n",
       "      <td>No</td>\n",
       "      <td>No</td>\n",
       "      <td>One year</td>\n",
       "      <td>No</td>\n",
       "      <td>Mailed check</td>\n",
       "      <td>56.95</td>\n",
       "      <td>1889.5</td>\n",
       "      <td>No</td>\n",
       "    </tr>\n",
       "    <tr>\n",
       "      <th>2</th>\n",
       "      <td>3668-QPYBK</td>\n",
       "      <td>Male</td>\n",
       "      <td>0</td>\n",
       "      <td>No</td>\n",
       "      <td>No</td>\n",
       "      <td>2</td>\n",
       "      <td>Yes</td>\n",
       "      <td>No</td>\n",
       "      <td>DSL</td>\n",
       "      <td>Yes</td>\n",
       "      <td>...</td>\n",
       "      <td>No</td>\n",
       "      <td>No</td>\n",
       "      <td>No</td>\n",
       "      <td>No</td>\n",
       "      <td>Month-to-month</td>\n",
       "      <td>Yes</td>\n",
       "      <td>Mailed check</td>\n",
       "      <td>53.85</td>\n",
       "      <td>108.15</td>\n",
       "      <td>Yes</td>\n",
       "    </tr>\n",
       "    <tr>\n",
       "      <th>3</th>\n",
       "      <td>7795-CFOCW</td>\n",
       "      <td>Male</td>\n",
       "      <td>0</td>\n",
       "      <td>No</td>\n",
       "      <td>No</td>\n",
       "      <td>45</td>\n",
       "      <td>No</td>\n",
       "      <td>No phone service</td>\n",
       "      <td>DSL</td>\n",
       "      <td>Yes</td>\n",
       "      <td>...</td>\n",
       "      <td>Yes</td>\n",
       "      <td>Yes</td>\n",
       "      <td>No</td>\n",
       "      <td>No</td>\n",
       "      <td>One year</td>\n",
       "      <td>No</td>\n",
       "      <td>Bank transfer (automatic)</td>\n",
       "      <td>42.30</td>\n",
       "      <td>1840.75</td>\n",
       "      <td>No</td>\n",
       "    </tr>\n",
       "    <tr>\n",
       "      <th>4</th>\n",
       "      <td>9237-HQITU</td>\n",
       "      <td>Female</td>\n",
       "      <td>0</td>\n",
       "      <td>No</td>\n",
       "      <td>No</td>\n",
       "      <td>2</td>\n",
       "      <td>Yes</td>\n",
       "      <td>No</td>\n",
       "      <td>Fiber optic</td>\n",
       "      <td>No</td>\n",
       "      <td>...</td>\n",
       "      <td>No</td>\n",
       "      <td>No</td>\n",
       "      <td>No</td>\n",
       "      <td>No</td>\n",
       "      <td>Month-to-month</td>\n",
       "      <td>Yes</td>\n",
       "      <td>Electronic check</td>\n",
       "      <td>70.70</td>\n",
       "      <td>151.65</td>\n",
       "      <td>Yes</td>\n",
       "    </tr>\n",
       "  </tbody>\n",
       "</table>\n",
       "<p>5 rows × 21 columns</p>\n",
       "</div>"
      ],
      "text/plain": [
       "   customerID  gender  SeniorCitizen Partner Dependents  tenure PhoneService  \\\n",
       "0  7590-VHVEG  Female              0     Yes         No       1           No   \n",
       "1  5575-GNVDE    Male              0      No         No      34          Yes   \n",
       "2  3668-QPYBK    Male              0      No         No       2          Yes   \n",
       "3  7795-CFOCW    Male              0      No         No      45           No   \n",
       "4  9237-HQITU  Female              0      No         No       2          Yes   \n",
       "\n",
       "      MultipleLines InternetService OnlineSecurity  ...  DeviceProtection  \\\n",
       "0  No phone service             DSL             No  ...                No   \n",
       "1                No             DSL            Yes  ...               Yes   \n",
       "2                No             DSL            Yes  ...                No   \n",
       "3  No phone service             DSL            Yes  ...               Yes   \n",
       "4                No     Fiber optic             No  ...                No   \n",
       "\n",
       "  TechSupport StreamingTV StreamingMovies        Contract PaperlessBilling  \\\n",
       "0          No          No              No  Month-to-month              Yes   \n",
       "1          No          No              No        One year               No   \n",
       "2          No          No              No  Month-to-month              Yes   \n",
       "3         Yes          No              No        One year               No   \n",
       "4          No          No              No  Month-to-month              Yes   \n",
       "\n",
       "               PaymentMethod MonthlyCharges  TotalCharges Churn  \n",
       "0           Electronic check          29.85         29.85    No  \n",
       "1               Mailed check          56.95        1889.5    No  \n",
       "2               Mailed check          53.85        108.15   Yes  \n",
       "3  Bank transfer (automatic)          42.30       1840.75    No  \n",
       "4           Electronic check          70.70        151.65   Yes  \n",
       "\n",
       "[5 rows x 21 columns]"
      ]
     },
     "execution_count": 40,
     "metadata": {},
     "output_type": "execute_result"
    }
   ],
   "source": [
    "import pandas as pd\n",
    "import numpy as np\n",
    "import matplotlib.pyplot as plt\n",
    "import prince\n",
    "import seaborn as sns\n",
    "import csv\n",
    "\n",
    "sns.set()\n",
    "\n",
    "customer_data = pd.read_csv('customer_data.csv')\n",
    "customer_data.head()\n"
   ]
  },
  {
   "cell_type": "markdown",
   "metadata": {},
   "source": [
    "Look at the data to understand the fields."
   ]
  },
  {
   "cell_type": "code",
   "execution_count": 41,
   "metadata": {},
   "outputs": [
    {
     "name": "stdout",
     "output_type": "stream",
     "text": [
      "<class 'pandas.core.frame.DataFrame'>\n",
      "RangeIndex: 7043 entries, 0 to 7042\n",
      "Data columns (total 21 columns):\n",
      "customerID          7043 non-null object\n",
      "gender              7043 non-null object\n",
      "SeniorCitizen       7043 non-null int64\n",
      "Partner             7043 non-null object\n",
      "Dependents          7043 non-null object\n",
      "tenure              7043 non-null int64\n",
      "PhoneService        7043 non-null object\n",
      "MultipleLines       7043 non-null object\n",
      "InternetService     7043 non-null object\n",
      "OnlineSecurity      7043 non-null object\n",
      "OnlineBackup        7043 non-null object\n",
      "DeviceProtection    7043 non-null object\n",
      "TechSupport         7043 non-null object\n",
      "StreamingTV         7043 non-null object\n",
      "StreamingMovies     7043 non-null object\n",
      "Contract            7043 non-null object\n",
      "PaperlessBilling    7043 non-null object\n",
      "PaymentMethod       7043 non-null object\n",
      "MonthlyCharges      7043 non-null float64\n",
      "TotalCharges        7043 non-null object\n",
      "Churn               7043 non-null object\n",
      "dtypes: float64(1), int64(2), object(18)\n",
      "memory usage: 1.1+ MB\n"
     ]
    }
   ],
   "source": [
    "customer_data.info()"
   ]
  },
  {
   "cell_type": "markdown",
   "metadata": {},
   "source": [
    "Look at the data types in the data frame"
   ]
  },
  {
   "cell_type": "code",
   "execution_count": 42,
   "metadata": {},
   "outputs": [
    {
     "data": {
      "text/plain": [
       "<matplotlib.axes._subplots.AxesSubplot at 0x192f5c7b278>"
      ]
     },
     "execution_count": 42,
     "metadata": {},
     "output_type": "execute_result"
    },
    {
     "data": {
      "image/png": "[encoded data removed]",
      "text/plain": [
       "<Figure size 432x288 with 1 Axes>"
      ]
     },
     "metadata": {},
     "output_type": "display_data"
    }
   ],
   "source": [
    "internet_counts = customer_data.InternetService.value_counts()\n",
    "internet_counts.plot.bar()"
   ]
  },
  {
   "cell_type": "code",
   "execution_count": 43,
   "metadata": {},
   "outputs": [
    {
     "data": {
      "text/plain": [
       "<matplotlib.axes._subplots.AxesSubplot at 0x192f6d6a4e0>"
      ]
     },
     "execution_count": 43,
     "metadata": {},
     "output_type": "execute_result"
    },
    {
     "data": {
      "image/png": "[encoded data removed]",
      "text/plain": [
       "<Figure size 432x288 with 1 Axes>"
      ]
     },
     "metadata": {},
     "output_type": "display_data"
    }
   ],
   "source": [
    "gender_counts = customer_data.gender.value_counts()\n",
    "gender_counts.plot.bar()"
   ]
  },
  {
   "cell_type": "code",
   "execution_count": 44,
   "metadata": {},
   "outputs": [
    {
     "data": {
      "text/plain": [
       "<matplotlib.axes._subplots.AxesSubplot at 0x192f6e4e860>"
      ]
     },
     "execution_count": 44,
     "metadata": {},
     "output_type": "execute_result"
    },
    {
     "data": {
      "image/png": "[encoded data removed]",
      "text/plain": [
       "<Figure size 432x288 with 1 Axes>"
      ]
     },
     "metadata": {},
     "output_type": "display_data"
    }
   ],
   "source": [
    "churn_counts = customer_data.Churn.value_counts()\n",
    "churn_counts.plot.bar()"
   ]
  },
  {
   "cell_type": "code",
   "execution_count": 45,
   "metadata": {},
   "outputs": [
    {
     "data": {
      "text/plain": [
       "<matplotlib.axes._subplots.AxesSubplot at 0x192f6ea95f8>"
      ]
     },
     "execution_count": 45,
     "metadata": {},
     "output_type": "execute_result"
    },
    {
     "data": {
      "image/png": "[encoded data removed]",
      "text/plain": [
       "<Figure size 432x288 with 1 Axes>"
      ]
     },
     "metadata": {},
     "output_type": "display_data"
    }
   ],
   "source": [
    "senior_counts = customer_data.SeniorCitizen.value_counts()\n",
    "senior_counts.plot.bar()"
   ]
  },
  {
   "cell_type": "markdown",
   "metadata": {},
   "source": [
    "Where 1 = Yes and 2 = No"
   ]
  },
  {
   "cell_type": "code",
   "execution_count": 46,
   "metadata": {},
   "outputs": [
    {
     "data": {
      "text/plain": [
       "<matplotlib.axes._subplots.AxesSubplot at 0x192f6f04470>"
      ]
     },
     "execution_count": 46,
     "metadata": {},
     "output_type": "execute_result"
    },
    {
     "data": {
      "image/png": "[encoded data removed]",
      "text/plain": [
       "<Figure size 432x288 with 1 Axes>"
      ]
     },
     "metadata": {},
     "output_type": "display_data"
    }
   ],
   "source": [
    "partner_counts = customer_data.Partner.value_counts()\n",
    "partner_counts.plot.bar()"
   ]
  },
  {
   "cell_type": "code",
   "execution_count": 47,
   "metadata": {},
   "outputs": [
    {
     "data": {
      "text/plain": [
       "<matplotlib.axes._subplots.AxesSubplot at 0x192f6f6c208>"
      ]
     },
     "execution_count": 47,
     "metadata": {},
     "output_type": "execute_result"
    },
    {
     "data": {
      "image/png": "[encoded data removed]",
      "text/plain": [
       "<Figure size 432x288 with 1 Axes>"
      ]
     },
     "metadata": {},
     "output_type": "display_data"
    }
   ],
   "source": [
    "dependent_count = customer_data.Dependents.value_counts()\n",
    "dependent_count.plot.bar()"
   ]
  },
  {
   "cell_type": "code",
   "execution_count": 48,
   "metadata": {},
   "outputs": [
    {
     "data": {
      "text/plain": [
       "count    7043.000000\n",
       "mean       32.371149\n",
       "std        24.559481\n",
       "min         0.000000\n",
       "25%         9.000000\n",
       "50%        29.000000\n",
       "75%        55.000000\n",
       "max        72.000000\n",
       "Name: tenure, dtype: float64"
      ]
     },
     "execution_count": 48,
     "metadata": {},
     "output_type": "execute_result"
    }
   ],
   "source": [
    "customer_data.tenure.describe()"
   ]
  },
  {
   "cell_type": "markdown",
   "metadata": {},
   "source": [
    "Mean is 32, and Median is 29, which is not too far off and the Std. Deviation is 24.5 so it's understandable that we would have a max at 72, and a top 25% of 55."
   ]
  },
  {
   "cell_type": "code",
   "execution_count": 49,
   "metadata": {},
   "outputs": [
    {
     "data": {
      "text/plain": [
       "<matplotlib.axes._subplots.AxesSubplot at 0x192f6fc59e8>"
      ]
     },
     "execution_count": 49,
     "metadata": {},
     "output_type": "execute_result"
    },
    {
     "data": {
      "image/png": "[encoded data removed]",
      "text/plain": [
       "<Figure size 432x288 with 1 Axes>"
      ]
     },
     "metadata": {},
     "output_type": "display_data"
    }
   ],
   "source": [
    "customer_data.tenure.hist()"
   ]
  },
  {
   "cell_type": "code",
   "execution_count": 50,
   "metadata": {},
   "outputs": [
    {
     "data": {
      "text/plain": [
       "<matplotlib.axes._subplots.AxesSubplot at 0x192f7024a90>"
      ]
     },
     "execution_count": 50,
     "metadata": {},
     "output_type": "execute_result"
    },
    {
     "data": {
      "image/png": "[encoded data removed]",
      "text/plain": [
       "<Figure size 432x288 with 1 Axes>"
      ]
     },
     "metadata": {},
     "output_type": "display_data"
    }
   ],
   "source": [
    "sns.boxplot(customer_data.tenure, color='green', orient = 'v')"
   ]
  },
  {
   "cell_type": "code",
   "execution_count": 51,
   "metadata": {},
   "outputs": [
    {
     "data": {
      "text/plain": [
       "<matplotlib.axes._subplots.AxesSubplot at 0x192f70ab128>"
      ]
     },
     "execution_count": 51,
     "metadata": {},
     "output_type": "execute_result"
    },
    {
     "data": {
      "image/png": "[encoded data removed]",
      "text/plain": [
       "<Figure size 432x288 with 1 Axes>"
      ]
     },
     "metadata": {},
     "output_type": "display_data"
    }
   ],
   "source": [
    "phone_count = customer_data.PhoneService.value_counts()\n",
    "phone_count.plot.bar()"
   ]
  },
  {
   "cell_type": "code",
   "execution_count": 52,
   "metadata": {},
   "outputs": [
    {
     "data": {
      "text/plain": [
       "<matplotlib.axes._subplots.AxesSubplot at 0x192f80a23c8>"
      ]
     },
     "execution_count": 52,
     "metadata": {},
     "output_type": "execute_result"
    },
    {
     "data": {
      "image/png": "[encoded data removed]",
      "text/plain": [
       "<Figure size 432x288 with 1 Axes>"
      ]
     },
     "metadata": {},
     "output_type": "display_data"
    }
   ],
   "source": [
    "multi_line_count = customer_data.MultipleLines.value_counts()\n",
    "multi_line_count.plot.bar()"
   ]
  },
  {
   "cell_type": "code",
   "execution_count": 53,
   "metadata": {},
   "outputs": [
    {
     "data": {
      "text/plain": [
       "<matplotlib.axes._subplots.AxesSubplot at 0x192f6e433c8>"
      ]
     },
     "execution_count": 53,
     "metadata": {},
     "output_type": "execute_result"
    },
    {
     "data": {
      "image/png": "[encoded data removed]",
      "text/plain": [
       "<Figure size 432x288 with 1 Axes>"
      ]
     },
     "metadata": {},
     "output_type": "display_data"
    }
   ],
   "source": [
    "ols_count = customer_data.OnlineSecurity.value_counts()\n",
    "ols_count.plot.bar()"
   ]
  },
  {
   "cell_type": "code",
   "execution_count": 54,
   "metadata": {},
   "outputs": [
    {
     "data": {
      "text/plain": [
       "<matplotlib.axes._subplots.AxesSubplot at 0x192f818a080>"
      ]
     },
     "execution_count": 54,
     "metadata": {},
     "output_type": "execute_result"
    },
    {
     "data": {
      "image/png": "[encoded data removed]",
      "text/plain": [
       "<Figure size 432x288 with 1 Axes>"
      ]
     },
     "metadata": {},
     "output_type": "display_data"
    }
   ],
   "source": [
    "olb_count = customer_data.OnlineBackup.value_counts()\n",
    "olb_count.plot.bar()"
   ]
  },
  {
   "cell_type": "code",
   "execution_count": 55,
   "metadata": {},
   "outputs": [
    {
     "data": {
      "text/plain": [
       "<matplotlib.axes._subplots.AxesSubplot at 0x192f81ee0b8>"
      ]
     },
     "execution_count": 55,
     "metadata": {},
     "output_type": "execute_result"
    },
    {
     "data": {
      "image/png": "[encoded data removed]",
      "text/plain": [
       "<Figure size 432x288 with 1 Axes>"
      ]
     },
     "metadata": {},
     "output_type": "display_data"
    }
   ],
   "source": [
    "device_protection_count = customer_data.DeviceProtection.value_counts()\n",
    "device_protection_count.plot.bar()"
   ]
  },
  {
   "cell_type": "code",
   "execution_count": 56,
   "metadata": {},
   "outputs": [
    {
     "data": {
      "text/plain": [
       "<matplotlib.axes._subplots.AxesSubplot at 0x192f8215240>"
      ]
     },
     "execution_count": 56,
     "metadata": {},
     "output_type": "execute_result"
    },
    {
     "data": {
      "image/png": "[encoded data removed]",
      "text/plain": [
       "<Figure size 432x288 with 1 Axes>"
      ]
     },
     "metadata": {},
     "output_type": "display_data"
    }
   ],
   "source": [
    "ts_count = customer_data.TechSupport.value_counts()\n",
    "ts_count.plot.bar()"
   ]
  },
  {
   "cell_type": "code",
   "execution_count": 57,
   "metadata": {},
   "outputs": [
    {
     "data": {
      "text/plain": [
       "<matplotlib.axes._subplots.AxesSubplot at 0x192f8294e80>"
      ]
     },
     "execution_count": 57,
     "metadata": {},
     "output_type": "execute_result"
    },
    {
     "data": {
      "image/png": "[encoded data removed]",
      "text/plain": [
       "<Figure size 432x288 with 1 Axes>"
      ]
     },
     "metadata": {},
     "output_type": "display_data"
    }
   ],
   "source": [
    "streaming_tv_counts = customer_data.StreamingTV.value_counts()\n",
    "streaming_tv_counts.plot.bar()"
   ]
  },
  {
   "cell_type": "code",
   "execution_count": 58,
   "metadata": {},
   "outputs": [
    {
     "data": {
      "text/plain": [
       "<matplotlib.axes._subplots.AxesSubplot at 0x192f82dbac8>"
      ]
     },
     "execution_count": 58,
     "metadata": {},
     "output_type": "execute_result"
    },
    {
     "data": {
      "image/png": "[encoded data removed]",
      "text/plain": [
       "<Figure size 432x288 with 1 Axes>"
      ]
     },
     "metadata": {},
     "output_type": "display_data"
    }
   ],
   "source": [
    "streaming_movie_counts = customer_data.StreamingMovies.value_counts()\n",
    "streaming_movie_counts.plot.bar()"
   ]
  },
  {
   "cell_type": "code",
   "execution_count": 59,
   "metadata": {},
   "outputs": [
    {
     "data": {
      "text/plain": [
       "<matplotlib.axes._subplots.AxesSubplot at 0x192f832c9e8>"
      ]
     },
     "execution_count": 59,
     "metadata": {},
     "output_type": "execute_result"
    },
    {
     "data": {
      "image/png": "[encoded data removed]",
      "text/plain": [
       "<Figure size 432x288 with 1 Axes>"
      ]
     },
     "metadata": {},
     "output_type": "display_data"
    }
   ],
   "source": [
    "contract_counts = customer_data.Contract.value_counts()\n",
    "contract_counts.plot.bar()"
   ]
  },
  {
   "cell_type": "code",
   "execution_count": 60,
   "metadata": {},
   "outputs": [
    {
     "data": {
      "text/plain": [
       "<matplotlib.axes._subplots.AxesSubplot at 0x192f8368208>"
      ]
     },
     "execution_count": 60,
     "metadata": {},
     "output_type": "execute_result"
    },
    {
     "data": {
      "image/png": "[encoded data removed]",
      "text/plain": [
       "<Figure size 432x288 with 1 Axes>"
      ]
     },
     "metadata": {},
     "output_type": "display_data"
    }
   ],
   "source": [
    "paperless_count = customer_data.PaperlessBilling.value_counts()\n",
    "paperless_count.plot.bar()"
   ]
  },
  {
   "cell_type": "code",
   "execution_count": 61,
   "metadata": {},
   "outputs": [
    {
     "data": {
      "text/plain": [
       "<matplotlib.axes._subplots.AxesSubplot at 0x192f8323e48>"
      ]
     },
     "execution_count": 61,
     "metadata": {},
     "output_type": "execute_result"
    },
    {
     "data": {
      "image/png": "[encoded data removed]",
      "text/plain": [
       "<Figure size 432x288 with 1 Axes>"
      ]
     },
     "metadata": {},
     "output_type": "display_data"
    }
   ],
   "source": [
    "payment_method_counts = customer_data.PaymentMethod.value_counts()\n",
    "payment_method_counts.plot.bar()"
   ]
  },
  {
   "cell_type": "code",
   "execution_count": 62,
   "metadata": {},
   "outputs": [
    {
     "data": {
      "text/plain": [
       "<matplotlib.axes._subplots.AxesSubplot at 0x192f844c470>"
      ]
     },
     "execution_count": 62,
     "metadata": {},
     "output_type": "execute_result"
    },
    {
     "data": {
      "image/png": "[encoded data removed]",
      "text/plain": [
       "<Figure size 432x288 with 1 Axes>"
      ]
     },
     "metadata": {},
     "output_type": "display_data"
    }
   ],
   "source": [
    "customer_data.MonthlyCharges.hist()"
   ]
  },
  {
   "cell_type": "code",
   "execution_count": 63,
   "metadata": {},
   "outputs": [
    {
     "data": {
      "text/plain": [
       "count    7043.000000\n",
       "mean       64.761692\n",
       "std        30.090047\n",
       "min        18.250000\n",
       "25%        35.500000\n",
       "50%        70.350000\n",
       "75%        89.850000\n",
       "max       118.750000\n",
       "Name: MonthlyCharges, dtype: float64"
      ]
     },
     "execution_count": 63,
     "metadata": {},
     "output_type": "execute_result"
    }
   ],
   "source": [
    "customer_data.MonthlyCharges.describe()"
   ]
  },
  {
   "cell_type": "markdown",
   "metadata": {},
   "source": [
    "Looks like the MEAN charges are \\$64.76 or approx. $65/month, but the median is closer to 70.The Standart Deviation accounts for the 25th and 75th quartiles, and the Max appears to be an outlier."
   ]
  },
  {
   "cell_type": "code",
   "execution_count": 64,
   "metadata": {},
   "outputs": [
    {
     "data": {
      "text/plain": [
       "0    20.05\n",
       "dtype: float64"
      ]
     },
     "execution_count": 64,
     "metadata": {},
     "output_type": "execute_result"
    }
   ],
   "source": [
    "customer_data.MonthlyCharges.mode()"
   ]
  },
  {
   "cell_type": "markdown",
   "metadata": {},
   "source": [
    "The most common amount is \\$20/month."
   ]
  },
  {
   "cell_type": "code",
   "execution_count": 65,
   "metadata": {},
   "outputs": [
    {
     "data": {
      "text/plain": [
       "0      29.85\n",
       "1    1889.50\n",
       "2     108.15\n",
       "3    1840.75\n",
       "4     151.65\n",
       "Name: TotalCharges, dtype: float64"
      ]
     },
     "execution_count": 65,
     "metadata": {},
     "output_type": "execute_result"
    }
   ],
   "source": [
    "customer_data.TotalCharges = customer_data.TotalCharges.map(lambda x: x if x != ' ' else 0)\n",
    "customer_data.TotalCharges = customer_data.TotalCharges.astype(float)\n",
    "customer_data.TotalCharges.head()"
   ]
  },
  {
   "cell_type": "code",
   "execution_count": 66,
   "metadata": {},
   "outputs": [
    {
     "data": {
      "text/plain": [
       "count    7043.000000\n",
       "mean     2279.734304\n",
       "std      2266.794470\n",
       "min         0.000000\n",
       "25%       398.550000\n",
       "50%      1394.550000\n",
       "75%      3786.600000\n",
       "max      8684.800000\n",
       "Name: TotalCharges, dtype: float64"
      ]
     },
     "execution_count": 66,
     "metadata": {},
     "output_type": "execute_result"
    }
   ],
   "source": [
    "customer_data.TotalCharges.describe()"
   ]
  },
  {
   "cell_type": "code",
   "execution_count": 67,
   "metadata": {},
   "outputs": [
    {
     "data": {
      "text/plain": [
       "<matplotlib.axes._subplots.AxesSubplot at 0x192f84d34a8>"
      ]
     },
     "execution_count": 67,
     "metadata": {},
     "output_type": "execute_result"
    },
    {
     "data": {
      "image/png": "[encoded data removed]",
      "text/plain": [
       "<Figure size 432x288 with 1 Axes>"
      ]
     },
     "metadata": {},
     "output_type": "display_data"
    }
   ],
   "source": [
    "customer_data.TotalCharges.hist()"
   ]
  },
  {
   "cell_type": "code",
   "execution_count": 98,
   "metadata": {},
   "outputs": [
    {
     "name": "stdout",
     "output_type": "stream",
     "text": [
      "[{'gender': gender  Churn\n",
      "Female  No       2549\n",
      "        Yes       939\n",
      "Male    No       2625\n",
      "        Yes       930\n",
      "dtype: int64}, {'SeniorCitizen': SeniorCitizen  Churn\n",
      "0              No       4508\n",
      "               Yes      1393\n",
      "1              No        666\n",
      "               Yes       476\n",
      "dtype: int64}, {'Partner': Partner  Churn\n",
      "No       No       2441\n",
      "         Yes      1200\n",
      "Yes      No       2733\n",
      "         Yes       669\n",
      "dtype: int64}, {'Dependents': Dependents  Churn\n",
      "No          No       3390\n",
      "            Yes      1543\n",
      "Yes         No       1784\n",
      "            Yes       326\n",
      "dtype: int64}, {'PhoneService': PhoneService  Churn\n",
      "No            No        512\n",
      "              Yes       170\n",
      "Yes           No       4662\n",
      "              Yes      1699\n",
      "dtype: int64}, {'MultipleLines': MultipleLines     Churn\n",
      "No                No       2541\n",
      "                  Yes       849\n",
      "No phone service  No        512\n",
      "                  Yes       170\n",
      "Yes               No       2121\n",
      "                  Yes       850\n",
      "dtype: int64}, {'InternetService': InternetService  Churn\n",
      "DSL              No       1962\n",
      "                 Yes       459\n",
      "Fiber optic      No       1799\n",
      "                 Yes      1297\n",
      "No               No       1413\n",
      "                 Yes       113\n",
      "dtype: int64}, {'OnlineSecurity': OnlineSecurity       Churn\n",
      "No                   No       2037\n",
      "                     Yes      1461\n",
      "No internet service  No       1413\n",
      "                     Yes       113\n",
      "Yes                  No       1724\n",
      "                     Yes       295\n",
      "dtype: int64}, {'OnlineBackup': OnlineBackup         Churn\n",
      "No                   No       1855\n",
      "                     Yes      1233\n",
      "No internet service  No       1413\n",
      "                     Yes       113\n",
      "Yes                  No       1906\n",
      "                     Yes       523\n",
      "dtype: int64}, {'DeviceProtection': DeviceProtection     Churn\n",
      "No                   No       1884\n",
      "                     Yes      1211\n",
      "No internet service  No       1413\n",
      "                     Yes       113\n",
      "Yes                  No       1877\n",
      "                     Yes       545\n",
      "dtype: int64}, {'TechSupport': TechSupport          Churn\n",
      "No                   No       2027\n",
      "                     Yes      1446\n",
      "No internet service  No       1413\n",
      "                     Yes       113\n",
      "Yes                  No       1734\n",
      "                     Yes       310\n",
      "dtype: int64}, {'StreamingTV': StreamingTV          Churn\n",
      "No                   No       1868\n",
      "                     Yes       942\n",
      "No internet service  No       1413\n",
      "                     Yes       113\n",
      "Yes                  No       1893\n",
      "                     Yes       814\n",
      "dtype: int64}, {'StreamingMovies': StreamingMovies      Churn\n",
      "No                   No       1847\n",
      "                     Yes       938\n",
      "No internet service  No       1413\n",
      "                     Yes       113\n",
      "Yes                  No       1914\n",
      "                     Yes       818\n",
      "dtype: int64}, {'Contract': Contract        Churn\n",
      "Month-to-month  No       2220\n",
      "                Yes      1655\n",
      "One year        No       1307\n",
      "                Yes       166\n",
      "Two year        No       1647\n",
      "                Yes        48\n",
      "dtype: int64}, {'PaperlessBilling': PaperlessBilling  Churn\n",
      "No                No       2403\n",
      "                  Yes       469\n",
      "Yes               No       2771\n",
      "                  Yes      1400\n",
      "dtype: int64}, {'PaymentMethod': PaymentMethod              Churn\n",
      "Bank transfer (automatic)  No       1286\n",
      "                           Yes       258\n",
      "Credit card (automatic)    No       1290\n",
      "                           Yes       232\n",
      "Electronic check           No       1294\n",
      "                           Yes      1071\n",
      "Mailed check               No       1304\n",
      "                           Yes       308\n",
      "dtype: int64}]\n"
     ]
    }
   ],
   "source": [
    "crosstabs = []\n",
    "for c in customer_data.columns:\n",
    "    if c != 'Churn' and c != 'customerID' and c != 'tenure' and c != 'MonthlyCharges' and c != 'TotalCharges':\n",
    "        crosstabs.append({c: pd.crosstab(customer_data.Churn, customer_data[c]).unstack()})\n",
    "print(crosstabs)\n"
   ]
  },
  {
   "cell_type": "code",
   "execution_count": 32,
   "metadata": {},
   "outputs": [
    {
     "data": {
      "text/html": [
       "<div>\n",
       "<style scoped>\n",
       "    .dataframe tbody tr th:only-of-type {\n",
       "        vertical-align: middle;\n",
       "    }\n",
       "\n",
       "    .dataframe tbody tr th {\n",
       "        vertical-align: top;\n",
       "    }\n",
       "\n",
       "    .dataframe thead th {\n",
       "        text-align: right;\n",
       "    }\n",
       "</style>\n",
       "<table border=\"1\" class=\"dataframe\">\n",
       "  <thead>\n",
       "    <tr style=\"text-align: right;\">\n",
       "      <th></th>\n",
       "      <th>gender</th>\n",
       "      <th>SeniorCitizen</th>\n",
       "      <th>Partner</th>\n",
       "      <th>Dependents</th>\n",
       "      <th>tenure</th>\n",
       "      <th>PhoneService</th>\n",
       "      <th>MultipleLines</th>\n",
       "      <th>InternetService</th>\n",
       "      <th>OnlineSecurity</th>\n",
       "      <th>OnlineBackup</th>\n",
       "      <th>DeviceProtection</th>\n",
       "      <th>TechSupport</th>\n",
       "      <th>StreamingTV</th>\n",
       "      <th>StreamingMovies</th>\n",
       "      <th>Contract</th>\n",
       "      <th>PaperlessBilling</th>\n",
       "      <th>PaymentMethod</th>\n",
       "      <th>MonthlyCharges</th>\n",
       "      <th>TotalCharges</th>\n",
       "      <th>Churn</th>\n",
       "    </tr>\n",
       "  </thead>\n",
       "  <tbody>\n",
       "    <tr>\n",
       "      <th>0</th>\n",
       "      <td>0</td>\n",
       "      <td>0</td>\n",
       "      <td>1</td>\n",
       "      <td>0</td>\n",
       "      <td>1</td>\n",
       "      <td>0</td>\n",
       "      <td>0</td>\n",
       "      <td>1</td>\n",
       "      <td>1</td>\n",
       "      <td>2</td>\n",
       "      <td>1</td>\n",
       "      <td>1</td>\n",
       "      <td>1</td>\n",
       "      <td>1</td>\n",
       "      <td>0</td>\n",
       "      <td>1</td>\n",
       "      <td>1</td>\n",
       "      <td>29.85</td>\n",
       "      <td>29.85</td>\n",
       "      <td>0</td>\n",
       "    </tr>\n",
       "    <tr>\n",
       "      <th>1</th>\n",
       "      <td>1</td>\n",
       "      <td>0</td>\n",
       "      <td>0</td>\n",
       "      <td>0</td>\n",
       "      <td>34</td>\n",
       "      <td>1</td>\n",
       "      <td>1</td>\n",
       "      <td>1</td>\n",
       "      <td>2</td>\n",
       "      <td>1</td>\n",
       "      <td>2</td>\n",
       "      <td>1</td>\n",
       "      <td>1</td>\n",
       "      <td>1</td>\n",
       "      <td>1</td>\n",
       "      <td>0</td>\n",
       "      <td>0</td>\n",
       "      <td>56.95</td>\n",
       "      <td>1889.50</td>\n",
       "      <td>0</td>\n",
       "    </tr>\n",
       "    <tr>\n",
       "      <th>2</th>\n",
       "      <td>1</td>\n",
       "      <td>0</td>\n",
       "      <td>0</td>\n",
       "      <td>0</td>\n",
       "      <td>2</td>\n",
       "      <td>1</td>\n",
       "      <td>1</td>\n",
       "      <td>1</td>\n",
       "      <td>2</td>\n",
       "      <td>2</td>\n",
       "      <td>1</td>\n",
       "      <td>1</td>\n",
       "      <td>1</td>\n",
       "      <td>1</td>\n",
       "      <td>0</td>\n",
       "      <td>1</td>\n",
       "      <td>0</td>\n",
       "      <td>53.85</td>\n",
       "      <td>108.15</td>\n",
       "      <td>1</td>\n",
       "    </tr>\n",
       "    <tr>\n",
       "      <th>3</th>\n",
       "      <td>1</td>\n",
       "      <td>0</td>\n",
       "      <td>0</td>\n",
       "      <td>0</td>\n",
       "      <td>45</td>\n",
       "      <td>0</td>\n",
       "      <td>0</td>\n",
       "      <td>1</td>\n",
       "      <td>2</td>\n",
       "      <td>1</td>\n",
       "      <td>2</td>\n",
       "      <td>2</td>\n",
       "      <td>1</td>\n",
       "      <td>1</td>\n",
       "      <td>1</td>\n",
       "      <td>0</td>\n",
       "      <td>2</td>\n",
       "      <td>42.30</td>\n",
       "      <td>1840.75</td>\n",
       "      <td>0</td>\n",
       "    </tr>\n",
       "    <tr>\n",
       "      <th>4</th>\n",
       "      <td>0</td>\n",
       "      <td>0</td>\n",
       "      <td>0</td>\n",
       "      <td>0</td>\n",
       "      <td>2</td>\n",
       "      <td>1</td>\n",
       "      <td>1</td>\n",
       "      <td>2</td>\n",
       "      <td>1</td>\n",
       "      <td>1</td>\n",
       "      <td>1</td>\n",
       "      <td>1</td>\n",
       "      <td>1</td>\n",
       "      <td>1</td>\n",
       "      <td>0</td>\n",
       "      <td>1</td>\n",
       "      <td>1</td>\n",
       "      <td>70.70</td>\n",
       "      <td>151.65</td>\n",
       "      <td>1</td>\n",
       "    </tr>\n",
       "  </tbody>\n",
       "</table>\n",
       "</div>"
      ],
      "text/plain": [
       "   gender  SeniorCitizen  Partner  Dependents  tenure  PhoneService  \\\n",
       "0       0              0        1           0       1             0   \n",
       "1       1              0        0           0      34             1   \n",
       "2       1              0        0           0       2             1   \n",
       "3       1              0        0           0      45             0   \n",
       "4       0              0        0           0       2             1   \n",
       "\n",
       "   MultipleLines  InternetService  OnlineSecurity  OnlineBackup  \\\n",
       "0              0                1               1             2   \n",
       "1              1                1               2             1   \n",
       "2              1                1               2             2   \n",
       "3              0                1               2             1   \n",
       "4              1                2               1             1   \n",
       "\n",
       "   DeviceProtection  TechSupport  StreamingTV  StreamingMovies  Contract  \\\n",
       "0                 1            1            1                1         0   \n",
       "1                 2            1            1                1         1   \n",
       "2                 1            1            1                1         0   \n",
       "3                 2            2            1                1         1   \n",
       "4                 1            1            1                1         0   \n",
       "\n",
       "   PaperlessBilling  PaymentMethod  MonthlyCharges  TotalCharges  Churn  \n",
       "0                 1              1           29.85         29.85      0  \n",
       "1                 0              0           56.95       1889.50      0  \n",
       "2                 1              0           53.85        108.15      1  \n",
       "3                 0              2           42.30       1840.75      0  \n",
       "4                 1              1           70.70        151.65      1  "
      ]
     },
     "execution_count": 32,
     "metadata": {},
     "output_type": "execute_result"
    }
   ],
   "source": [
    "customer_data.gender = customer_data.gender.map({'Male': 1, 'Female': 0})\n",
    "customer_data.Partner = customer_data.Partner.map({'Yes': 1, 'No': 0})\n",
    "customer_data.Dependents = customer_data.Dependents.map({'Yes': 1, 'No':0})\n",
    "customer_data.PhoneService = customer_data.PhoneService.map({'Yes':1,'No':0})\n",
    "customer_data.MultipleLines = customer_data.MultipleLines.map({'No phone service': 0, 'No': 1, 'Yes': 2})\n",
    "customer_data.InternetService = customer_data.InternetService.map({'No': 0, 'DSL': 1, 'Fiber optic': 2})\n",
    "customer_data.OnlineSecurity = customer_data.OnlineSecurity.map({'No internet service':0, 'No': 1, 'Yes': 2})\n",
    "customer_data.OnlineBackup = customer_data.OnlineBackup.map({'No internet service':0, 'No': 1, 'Yes': 2})\n",
    "customer_data.DeviceProtection = customer_data.DeviceProtection.map({'No internet service':0, 'No': 1, 'Yes': 2})\n",
    "customer_data.TechSupport = customer_data.TechSupport.map({'No internet service':0, 'No': 1, 'Yes': 2})\n",
    "customer_data.StreamingTV = customer_data.StreamingTV.map({'No internet service':0, 'No': 1, 'Yes': 2})\n",
    "customer_data.StreamingMovies = customer_data.StreamingMovies.map({'No internet service':0, 'No': 1, 'Yes': 2})\n",
    "customer_data.Contract = customer_data.Contract.map({'Month-to-month': 0, 'One year': 1, 'Two year': 2})\n",
    "customer_data.PaperlessBilling = customer_data.PaperlessBilling.map({'No': 0, 'Yes': 1})\n",
    "customer_data.PaymentMethod = customer_data.PaymentMethod.map({'Electronic check': 1, 'Mailed check': 0, 'Bank transfer (automatic)': 2, 'Credit card (automatic)': 3})\n",
    "customer_data.Churn = customer_data.Churn.map({'Yes':1, 'No':0})\n",
    "customer_data = customer_data.drop(columns=['customerID'])\n",
    "customer_data.head()"
   ]
  },
  {
   "cell_type": "markdown",
   "metadata": {},
   "source": [
    "Let's separate our target variable."
   ]
  },
  {
   "cell_type": "code",
   "execution_count": 33,
   "metadata": {},
   "outputs": [
    {
     "name": "stdout",
     "output_type": "stream",
     "text": [
      "0    0\n",
      "1    0\n",
      "2    1\n",
      "3    0\n",
      "4    1\n",
      "Name: Churn, dtype: int64\n",
      "   gender  SeniorCitizen  Partner  Dependents  tenure  PhoneService  \\\n",
      "0       0              0        1           0       1             0   \n",
      "1       1              0        0           0      34             1   \n",
      "2       1              0        0           0       2             1   \n",
      "3       1              0        0           0      45             0   \n",
      "4       0              0        0           0       2             1   \n",
      "\n",
      "   MultipleLines  InternetService  OnlineSecurity  OnlineBackup  \\\n",
      "0              0                1               1             2   \n",
      "1              1                1               2             1   \n",
      "2              1                1               2             2   \n",
      "3              0                1               2             1   \n",
      "4              1                2               1             1   \n",
      "\n",
      "   DeviceProtection  TechSupport  StreamingTV  StreamingMovies  Contract  \\\n",
      "0                 1            1            1                1         0   \n",
      "1                 2            1            1                1         1   \n",
      "2                 1            1            1                1         0   \n",
      "3                 2            2            1                1         1   \n",
      "4                 1            1            1                1         0   \n",
      "\n",
      "   PaperlessBilling  PaymentMethod  MonthlyCharges  TotalCharges  \n",
      "0                 1              1           29.85         29.85  \n",
      "1                 0              0           56.95       1889.50  \n",
      "2                 1              0           53.85        108.15  \n",
      "3                 0              2           42.30       1840.75  \n",
      "4                 1              1           70.70        151.65  \n"
     ]
    }
   ],
   "source": [
    "churn_column = customer_data.Churn\n",
    "customer_data = customer_data.drop(columns='Churn')\n",
    "print(churn_column.head())\n",
    "print(customer_data.head())"
   ]
  },
  {
   "cell_type": "markdown",
   "metadata": {},
   "source": [
    "It looks like the total charges accounts for 99% of the variance in the data. I don't think that the overall cumulative charges for a customer has a positive bearing, in the sense that they have spent quite a lot of money, on their decision to terminate service. It will now be removed from the overall dataframe."
   ]
  },
  {
   "cell_type": "code",
   "execution_count": 34,
   "metadata": {},
   "outputs": [],
   "source": [
    "#customer_data = customer_data.drop(columns=['TotalCharges'])\n",
    "#customer_data.head()"
   ]
  },
  {
   "cell_type": "code",
   "execution_count": 35,
   "metadata": {},
   "outputs": [
    {
     "data": {
      "text/html": [
       "<div>\n",
       "<style scoped>\n",
       "    .dataframe tbody tr th:only-of-type {\n",
       "        vertical-align: middle;\n",
       "    }\n",
       "\n",
       "    .dataframe tbody tr th {\n",
       "        vertical-align: top;\n",
       "    }\n",
       "\n",
       "    .dataframe thead th {\n",
       "        text-align: right;\n",
       "    }\n",
       "</style>\n",
       "<table border=\"1\" class=\"dataframe\">\n",
       "  <thead>\n",
       "    <tr style=\"text-align: right;\">\n",
       "      <th></th>\n",
       "      <th>0</th>\n",
       "      <th>1</th>\n",
       "      <th>2</th>\n",
       "      <th>3</th>\n",
       "      <th>4</th>\n",
       "      <th>5</th>\n",
       "    </tr>\n",
       "  </thead>\n",
       "  <tbody>\n",
       "    <tr>\n",
       "      <th>gender</th>\n",
       "      <td>0.013912</td>\n",
       "      <td>0.008427</td>\n",
       "      <td>0.014954</td>\n",
       "      <td>-0.017376</td>\n",
       "      <td>0.150766</td>\n",
       "      <td>-0.986475</td>\n",
       "    </tr>\n",
       "    <tr>\n",
       "      <th>SeniorCitizen</th>\n",
       "      <td>-0.218055</td>\n",
       "      <td>-0.190235</td>\n",
       "      <td>-0.221460</td>\n",
       "      <td>0.351035</td>\n",
       "      <td>0.692473</td>\n",
       "      <td>0.072463</td>\n",
       "    </tr>\n",
       "    <tr>\n",
       "      <th>Partner</th>\n",
       "      <td>-0.162001</td>\n",
       "      <td>0.576357</td>\n",
       "      <td>0.084050</td>\n",
       "      <td>-0.448013</td>\n",
       "      <td>0.433721</td>\n",
       "      <td>0.079637</td>\n",
       "    </tr>\n",
       "    <tr>\n",
       "      <th>Dependents</th>\n",
       "      <td>0.081383</td>\n",
       "      <td>0.483054</td>\n",
       "      <td>0.196244</td>\n",
       "      <td>-0.689974</td>\n",
       "      <td>0.163998</td>\n",
       "      <td>0.037024</td>\n",
       "    </tr>\n",
       "    <tr>\n",
       "      <th>tenure</th>\n",
       "      <td>-0.389222</td>\n",
       "      <td>0.796170</td>\n",
       "      <td>0.046727</td>\n",
       "      <td>0.288533</td>\n",
       "      <td>0.025394</td>\n",
       "      <td>-0.011864</td>\n",
       "    </tr>\n",
       "    <tr>\n",
       "      <th>PhoneService</th>\n",
       "      <td>0.011594</td>\n",
       "      <td>0.167783</td>\n",
       "      <td>-0.872304</td>\n",
       "      <td>-0.168215</td>\n",
       "      <td>-0.195965</td>\n",
       "      <td>-0.029705</td>\n",
       "    </tr>\n",
       "    <tr>\n",
       "      <th>MultipleLines</th>\n",
       "      <td>-0.315348</td>\n",
       "      <td>0.266157</td>\n",
       "      <td>-0.810945</td>\n",
       "      <td>-0.069380</td>\n",
       "      <td>-0.105406</td>\n",
       "      <td>-0.020038</td>\n",
       "    </tr>\n",
       "    <tr>\n",
       "      <th>InternetService</th>\n",
       "      <td>-0.821550</td>\n",
       "      <td>-0.323280</td>\n",
       "      <td>-0.213048</td>\n",
       "      <td>-0.102610</td>\n",
       "      <td>0.044003</td>\n",
       "      <td>0.001448</td>\n",
       "    </tr>\n",
       "    <tr>\n",
       "      <th>OnlineSecurity</th>\n",
       "      <td>-0.791297</td>\n",
       "      <td>-0.065710</td>\n",
       "      <td>0.255844</td>\n",
       "      <td>-0.060773</td>\n",
       "      <td>-0.134340</td>\n",
       "      <td>-0.010588</td>\n",
       "    </tr>\n",
       "    <tr>\n",
       "      <th>OnlineBackup</th>\n",
       "      <td>-0.836277</td>\n",
       "      <td>-0.090091</td>\n",
       "      <td>0.157630</td>\n",
       "      <td>-0.031748</td>\n",
       "      <td>-0.042327</td>\n",
       "      <td>-0.004035</td>\n",
       "    </tr>\n",
       "    <tr>\n",
       "      <th>DeviceProtection</th>\n",
       "      <td>-0.855907</td>\n",
       "      <td>-0.079100</td>\n",
       "      <td>0.174878</td>\n",
       "      <td>-0.021676</td>\n",
       "      <td>-0.057181</td>\n",
       "      <td>-0.016747</td>\n",
       "    </tr>\n",
       "    <tr>\n",
       "      <th>TechSupport</th>\n",
       "      <td>-0.811764</td>\n",
       "      <td>-0.066880</td>\n",
       "      <td>0.258284</td>\n",
       "      <td>-0.046921</td>\n",
       "      <td>-0.152891</td>\n",
       "      <td>-0.019971</td>\n",
       "    </tr>\n",
       "    <tr>\n",
       "      <th>StreamingTV</th>\n",
       "      <td>-0.874680</td>\n",
       "      <td>-0.150489</td>\n",
       "      <td>0.084525</td>\n",
       "      <td>-0.059781</td>\n",
       "      <td>-0.006981</td>\n",
       "      <td>-0.005957</td>\n",
       "    </tr>\n",
       "    <tr>\n",
       "      <th>StreamingMovies</th>\n",
       "      <td>-0.875515</td>\n",
       "      <td>-0.151348</td>\n",
       "      <td>0.088750</td>\n",
       "      <td>-0.038187</td>\n",
       "      <td>-0.008194</td>\n",
       "      <td>-0.004578</td>\n",
       "    </tr>\n",
       "    <tr>\n",
       "      <th>Contract</th>\n",
       "      <td>-0.037619</td>\n",
       "      <td>0.814900</td>\n",
       "      <td>0.161308</td>\n",
       "      <td>0.230936</td>\n",
       "      <td>-0.124846</td>\n",
       "      <td>-0.019201</td>\n",
       "    </tr>\n",
       "    <tr>\n",
       "      <th>PaperlessBilling</th>\n",
       "      <td>-0.366194</td>\n",
       "      <td>-0.237041</td>\n",
       "      <td>-0.180112</td>\n",
       "      <td>0.005204</td>\n",
       "      <td>0.402798</td>\n",
       "      <td>0.088595</td>\n",
       "    </tr>\n",
       "    <tr>\n",
       "      <th>PaymentMethod</th>\n",
       "      <td>-0.280945</td>\n",
       "      <td>0.372802</td>\n",
       "      <td>0.029977</td>\n",
       "      <td>0.348196</td>\n",
       "      <td>0.093157</td>\n",
       "      <td>0.057440</td>\n",
       "    </tr>\n",
       "    <tr>\n",
       "      <th>MonthlyCharges</th>\n",
       "      <td>-0.924845</td>\n",
       "      <td>-0.081093</td>\n",
       "      <td>-0.295628</td>\n",
       "      <td>-0.088667</td>\n",
       "      <td>-0.045712</td>\n",
       "      <td>-0.010658</td>\n",
       "    </tr>\n",
       "    <tr>\n",
       "      <th>TotalCharges</th>\n",
       "      <td>-0.730609</td>\n",
       "      <td>0.549042</td>\n",
       "      <td>-0.091789</td>\n",
       "      <td>0.167194</td>\n",
       "      <td>-0.026760</td>\n",
       "      <td>-0.022576</td>\n",
       "    </tr>\n",
       "  </tbody>\n",
       "</table>\n",
       "</div>"
      ],
      "text/plain": [
       "                         0         1         2         3         4         5\n",
       "gender            0.013912  0.008427  0.014954 -0.017376  0.150766 -0.986475\n",
       "SeniorCitizen    -0.218055 -0.190235 -0.221460  0.351035  0.692473  0.072463\n",
       "Partner          -0.162001  0.576357  0.084050 -0.448013  0.433721  0.079637\n",
       "Dependents        0.081383  0.483054  0.196244 -0.689974  0.163998  0.037024\n",
       "tenure           -0.389222  0.796170  0.046727  0.288533  0.025394 -0.011864\n",
       "PhoneService      0.011594  0.167783 -0.872304 -0.168215 -0.195965 -0.029705\n",
       "MultipleLines    -0.315348  0.266157 -0.810945 -0.069380 -0.105406 -0.020038\n",
       "InternetService  -0.821550 -0.323280 -0.213048 -0.102610  0.044003  0.001448\n",
       "OnlineSecurity   -0.791297 -0.065710  0.255844 -0.060773 -0.134340 -0.010588\n",
       "OnlineBackup     -0.836277 -0.090091  0.157630 -0.031748 -0.042327 -0.004035\n",
       "DeviceProtection -0.855907 -0.079100  0.174878 -0.021676 -0.057181 -0.016747\n",
       "TechSupport      -0.811764 -0.066880  0.258284 -0.046921 -0.152891 -0.019971\n",
       "StreamingTV      -0.874680 -0.150489  0.084525 -0.059781 -0.006981 -0.005957\n",
       "StreamingMovies  -0.875515 -0.151348  0.088750 -0.038187 -0.008194 -0.004578\n",
       "Contract         -0.037619  0.814900  0.161308  0.230936 -0.124846 -0.019201\n",
       "PaperlessBilling -0.366194 -0.237041 -0.180112  0.005204  0.402798  0.088595\n",
       "PaymentMethod    -0.280945  0.372802  0.029977  0.348196  0.093157  0.057440\n",
       "MonthlyCharges   -0.924845 -0.081093 -0.295628 -0.088667 -0.045712 -0.010658\n",
       "TotalCharges     -0.730609  0.549042 -0.091789  0.167194 -0.026760 -0.022576"
      ]
     },
     "execution_count": 35,
     "metadata": {},
     "output_type": "execute_result"
    }
   ],
   "source": [
    "pca = prince.PCA(n_components = 6)\n",
    "fit = pca.fit(customer_data)\n",
    "fit = fit.transform(customer_data)\n",
    "pca.column_correlations(customer_data)"
   ]
  },
  {
   "cell_type": "code",
   "execution_count": 36,
   "metadata": {},
   "outputs": [
    {
     "name": "stdout",
     "output_type": "stream",
     "text": [
      "[48306.77274125901, 18841.071044732143, 13513.83561369278, 8099.50937078051, 7080.048844841451, 7046.489363137341] [0.36099129962007076, 0.14079729066360883, 0.10098743518157469, 0.06052675946090937, 0.05290844096670416, 0.05265765458153553]\n"
     ]
    },
    {
     "data": {
      "text/plain": [
       "(array([3., 1., 1., 0., 0., 0., 0., 0., 0., 1.]),\n",
       " array([ 7046.48936314, 11172.51770095, 15298.54603876, 19424.57437657,\n",
       "        23550.60271439, 27676.6310522 , 31802.65939001, 35928.68772782,\n",
       "        40054.71606563, 44180.74440345, 48306.77274126]),\n",
       " <a list of 10 Patch objects>)"
      ]
     },
     "execution_count": 36,
     "metadata": {},
     "output_type": "execute_result"
    },
    {
     "data": {
      "image/png": "[encoded data removed]",
      "text/plain": [
       "<Figure size 432x288 with 1 Axes>"
      ]
     },
     "metadata": {},
     "output_type": "display_data"
    }
   ],
   "source": [
    "print(pca.eigenvalues_, pca.explained_inertia_)\n",
    "plt.hist(pca.eigenvalues_)"
   ]
  },
  {
   "cell_type": "code",
   "execution_count": 37,
   "metadata": {},
   "outputs": [
    {
     "data": {
      "text/plain": [
       "<matplotlib.axes._subplots.AxesSubplot at 0x192f48475c0>"
      ]
     },
     "execution_count": 37,
     "metadata": {},
     "output_type": "execute_result"
    },
    {
     "data": {
      "image/png": "[encoded data removed]",
      "text/plain": [
       "<Figure size 432x432 with 1 Axes>"
      ]
     },
     "metadata": {},
     "output_type": "display_data"
    }
   ],
   "source": [
    "pca.plot_row_coordinates(customer_data)"
   ]
  },
  {
   "cell_type": "code",
   "execution_count": 38,
   "metadata": {},
   "outputs": [
    {
     "data": {
      "text/plain": [
       "array([[ 2.50012874e-01, -3.45344819e-04, -4.51803287e-04,\n",
       "         2.40894545e-03,  6.27047032e-02, -9.59396458e-04,\n",
       "        -3.03715122e-03, -4.04255871e-03, -5.09016649e-03,\n",
       "        -4.51506897e-03, -1.74124116e-03, -3.33198876e-03,\n",
       "        -3.28279204e-03, -3.79669610e-03,  5.24227306e-05,\n",
       "        -2.88829083e-03, -5.70226236e-03, -2.19201462e-01,\n",
       "        -9.10180587e-02],\n",
       "       [-3.45344819e-04,  1.35874516e-01,  3.03557854e-03,\n",
       "        -3.56617118e-02,  1.49978448e-01,  9.34979563e-04,\n",
       "         2.69590949e-02,  7.44716706e-02,  2.13095174e-02,\n",
       "         3.94179819e-02,  3.81591105e-02,  1.76097630e-02,\n",
       "         4.66493346e-02,  4.93398103e-02, -4.38114100e-02,\n",
       "         2.83563825e-02,  1.39805575e-02,  2.44206152e+00,\n",
       "         8.60685424e+01],\n",
       "       [-4.51803287e-04,  3.03557854e-03,  2.49747574e-01,\n",
       "         1.03635444e-01,  4.66023179e+00,  2.61692255e-03,\n",
       "         3.76793417e-02, -5.13339508e-05,  3.22159657e-02,\n",
       "         3.34878419e-02,  3.63820807e-02,  2.70930148e-02,\n",
       "         3.01815202e-02,  2.84666920e-02,  1.22836055e-01,\n",
       "        -3.65376351e-03,  7.66109616e-02,  1.45634369e+00,\n",
       "         3.59676455e+02],\n",
       "       [ 2.40894545e-03, -3.56617118e-02,  1.03635444e-01,\n",
       "         2.09864926e-01,  1.79691513e+00, -2.38684725e-04,\n",
       "        -5.78777190e-03, -6.40945104e-02, -9.61332066e-03,\n",
       "        -2.12337665e-02, -2.33500520e-02, -1.32329892e-02,\n",
       "        -3.00786305e-02, -3.52603553e-02,  9.28858806e-02,\n",
       "        -2.50756268e-02,  2.12191688e-02, -1.56992631e+00,\n",
       "         6.44645796e+01],\n",
       "       [ 6.27047032e-02,  1.49978448e-01,  4.66023179e+00,\n",
       "         1.79691513e+00,  6.03168108e+02,  6.13637298e-02,\n",
       "         4.08767974e+00,  6.35657002e-01,  4.02939843e+00,\n",
       "         4.60137074e+00,  4.60287572e+00,  4.00947813e+00,\n",
       "         3.73767018e+00,  3.81942555e+00,  1.37522159e+01,\n",
       "         7.42600038e-02,  9.59833309e+00,  1.83196987e+02,\n",
       "         4.59944219e+04],\n",
       "       [-9.59396458e-04,  9.34979563e-04,  2.61692255e-03,\n",
       "        -2.38684725e-04,  6.13637298e-02,  8.74693826e-02,\n",
       "         1.28323263e-01,  2.15888902e-02, -3.34082602e-02,\n",
       "        -2.83384176e-02, -3.09907658e-02, -3.39165187e-02,\n",
       "        -2.42316612e-02, -2.57339555e-02,  5.54168750e-04,\n",
       "         2.39896497e-03, -5.42857538e-04,  2.20164360e+00,\n",
       "         7.58994384e+01],\n",
       "       [-3.03715122e-03,  2.69590949e-02,  3.76793417e-02,\n",
       "        -5.78777190e-03,  4.08767974e+00,  1.28323263e-01,\n",
       "         4.13102368e-01,  1.54181259e-01,  3.13509301e-02,\n",
       "         6.19883264e-02,  5.90452740e-02,  3.14751720e-02,\n",
       "         8.03991491e-02,  7.93873501e-02,  4.46617066e-02,\n",
       "         4.20917629e-02,  8.64512122e-02,  9.49003635e+00,\n",
       "         6.00409270e+02],\n",
       "       [-4.04255871e-03,  7.44716706e-02, -5.13339508e-05,\n",
       "        -6.40945104e-02,  6.35657002e-01,  2.15888902e-02,\n",
       "         1.54181259e-01,  6.06648864e-01,  3.20236045e-01,\n",
       "         3.78827963e-01,  3.81037622e-01,  3.23278801e-01,\n",
       "         4.27823880e-01,  4.27174504e-01, -1.88446792e-01,\n",
       "         1.44733856e-01,  9.45187277e-02,  2.12214844e+01,\n",
       "         7.57356602e+02],\n",
       "       [-5.09016649e-03,  2.13095174e-02,  3.22159657e-02,\n",
       "        -9.61332066e-03,  4.02939843e+00, -3.34082602e-02,\n",
       "         3.13509301e-02,  3.20236045e-01,  4.98507626e-01,\n",
       "         3.67621596e-01,  3.65561101e-01,  3.67614419e-01,\n",
       "         3.53923839e-01,  3.57225463e-01,  9.31509581e-03,\n",
       "         6.41914118e-02,  1.31877908e-01,  1.35019931e+01,\n",
       "         7.72426291e+02],\n",
       "       [-4.51506897e-03,  3.94179819e-02,  3.34878419e-02,\n",
       "        -2.12337665e-02,  4.60137074e+00, -2.83384176e-02,\n",
       "         6.19883264e-02,  3.78827963e-01,  3.67621596e-01,\n",
       "         5.45189462e-01,  3.87549230e-01,  3.70858559e-01,\n",
       "         3.93010671e-01,  3.92129485e-01, -2.17973512e-02,\n",
       "         9.46075036e-02,  1.43061612e-01,  1.57850812e+01,\n",
       "         8.99148654e+02],\n",
       "       [-1.74124116e-03,  3.81591105e-02,  3.63820807e-02,\n",
       "        -2.33500520e-02,  4.60287572e+00, -3.09907658e-02,\n",
       "         5.90452740e-02,  3.81037622e-01,  3.65561101e-01,\n",
       "         3.87549230e-01,  5.44449334e-01,  3.79025960e-01,\n",
       "         4.17886245e-01,  4.21410746e-01,  3.59789298e-03,\n",
       "         8.92319759e-02,  1.52995981e-01,  1.63655458e+01,\n",
       "         9.12509665e+02],\n",
       "       [-3.33198876e-03,  1.76097630e-02,  2.70930148e-02,\n",
       "        -1.32329892e-02,  4.00947813e+00, -3.39165187e-02,\n",
       "         3.14751720e-02,  3.23278801e-01,  3.67614419e-01,\n",
       "         3.70858559e-01,  3.79025960e-01,  5.01548144e-01,\n",
       "         3.77327403e-01,  3.78486348e-01,  2.78805857e-02,\n",
       "         7.34493669e-02,  1.34779970e-01,  1.40864518e+01,\n",
       "         7.94789830e+02],\n",
       "       [-3.28279204e-03,  4.66493346e-02,  3.01815202e-02,\n",
       "        -3.00786305e-02,  3.73767018e+00, -2.42316612e-02,\n",
       "         8.03991491e-02,  4.27823880e-01,  3.53923839e-01,\n",
       "         3.93010671e-01,  4.17886245e-01,  3.77327403e-01,\n",
       "         5.72985648e-01,  4.63472426e-01, -4.11031509e-02,\n",
       "         1.18515918e-01,  1.31776732e-01,  1.86821842e+01,\n",
       "         9.18314710e+02],\n",
       "       [-3.79669610e-03,  4.93398103e-02,  2.84666920e-02,\n",
       "        -3.52603553e-02,  3.81942555e+00, -2.57339555e-02,\n",
       "         7.93873501e-02,  4.27174504e-01,  3.57225463e-01,\n",
       "         3.92129485e-01,  4.21410746e-01,  3.78486348e-01,\n",
       "         4.63472426e-01,  5.75332573e-01, -3.95782745e-02,\n",
       "         1.15703439e-01,  1.36240850e-01,  1.86660322e+01,\n",
       "         9.24970879e+02],\n",
       "       [ 5.24227306e-05, -4.38114100e-02,  1.22836055e-01,\n",
       "         9.28858806e-02,  1.37522159e+01,  5.54168750e-04,\n",
       "         4.46617066e-02, -1.88446792e-01,  9.31509581e-03,\n",
       "        -2.17973512e-02,  3.59789298e-03,  2.78805857e-02,\n",
       "        -4.11031509e-02, -3.95782745e-02,  6.95147788e-01,\n",
       "        -7.24172238e-02,  2.10615296e-01, -1.86137609e+00,\n",
       "         8.44534647e+02],\n",
       "       [-2.88829083e-03,  2.83563825e-02, -3.65376351e-03,\n",
       "        -2.50756268e-02,  7.42600038e-02,  2.39896497e-03,\n",
       "         4.20917629e-02,  1.44733856e-01,  6.41914118e-02,\n",
       "         9.46075036e-02,  8.92319759e-02,  7.34493669e-02,\n",
       "         1.18515918e-01,  1.15703439e-01, -7.24172238e-02,\n",
       "         2.41529908e-01,  3.35921027e-02,  5.20758034e+00,\n",
       "         1.76656897e+02],\n",
       "       [-5.70226236e-03,  1.39805575e-02,  7.66109616e-02,\n",
       "         2.12191688e-02,  9.59833309e+00, -5.42857538e-04,\n",
       "         8.64512122e-02,  9.45187277e-02,  1.31877908e-01,\n",
       "         1.43061612e-01,  1.52995981e-01,  1.34779970e-01,\n",
       "         1.31776732e-01,  1.36240850e-01,  2.10615296e-01,\n",
       "         3.35921027e-02,  1.13412376e+00,  6.06135377e+00,\n",
       "         7.97441794e+02],\n",
       "       [-2.19201462e-01,  2.44206152e+00,  1.45634369e+00,\n",
       "        -1.56992631e+00,  1.83196987e+02,  2.20164360e+00,\n",
       "         9.49003635e+00,  2.12214844e+01,  1.35019931e+01,\n",
       "         1.57850812e+01,  1.63655458e+01,  1.40864518e+01,\n",
       "         1.86821842e+01,  1.86660322e+01, -1.86137609e+00,\n",
       "         5.20758034e+00,  6.06135377e+00,  9.05410934e+02,\n",
       "         4.44152337e+04],\n",
       "       [-9.10180587e-02,  8.60685424e+01,  3.59676455e+02,\n",
       "         6.44645796e+01,  4.59944219e+04,  7.58994384e+01,\n",
       "         6.00409270e+02,  7.57356602e+02,  7.72426291e+02,\n",
       "         8.99148654e+02,  9.12509665e+02,  7.94789830e+02,\n",
       "         9.18314710e+02,  9.24970879e+02,  8.44534647e+02,\n",
       "         1.76656897e+02,  7.97441794e+02,  4.44152337e+04,\n",
       "         5.13835717e+06]])"
      ]
     },
     "execution_count": 38,
     "metadata": {},
     "output_type": "execute_result"
    }
   ],
   "source": [
    "np.cov(customer_data, rowvar=False)"
   ]
  },
  {
   "cell_type": "code",
   "execution_count": null,
   "metadata": {},
   "outputs": [],
   "source": []
  },
  {
   "cell_type": "code",
   "execution_count": null,
   "metadata": {},
   "outputs": [],
   "source": []
  }
 ],
 "metadata": {
  "kernelspec": {
   "display_name": "Python 3",
   "language": "python",
   "name": "python3"
  },
  "language_info": {
   "codemirror_mode": {
    "name": "ipython",
    "version": 3
   },
   "file_extension": ".py",
   "mimetype": "text/x-python",
   "name": "python",
   "nbconvert_exporter": "python",
   "pygments_lexer": "ipython3",
   "version": "3.6.5"
  }
 },
 "nbformat": 4,
 "nbformat_minor": 2
}
